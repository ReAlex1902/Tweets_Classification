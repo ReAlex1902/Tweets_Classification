{
  "nbformat": 4,
  "nbformat_minor": 0,
  "metadata": {
    "colab": {
      "name": "bert_with_catboost.ipynb",
      "provenance": [],
      "collapsed_sections": [],
      "authorship_tag": "ABX9TyPWUWzIE0lKCYoRUrAGZ2Ed",
      "include_colab_link": true
    },
    "kernelspec": {
      "name": "python3",
      "display_name": "Python 3"
    },
    "language_info": {
      "name": "python"
    },
    "accelerator": "GPU",
    "widgets": {
      "application/vnd.jupyter.widget-state+json": {
        "bd5fb948ccc54e6a93aee714afe8d459": {
          "model_module": "@jupyter-widgets/controls",
          "model_name": "HBoxModel",
          "state": {
            "_view_name": "HBoxView",
            "_dom_classes": [],
            "_model_name": "HBoxModel",
            "_view_module": "@jupyter-widgets/controls",
            "_model_module_version": "1.5.0",
            "_view_count": null,
            "_view_module_version": "1.5.0",
            "box_style": "",
            "layout": "IPY_MODEL_81bb652d91474d9f95dbcd7f95fe42b1",
            "_model_module": "@jupyter-widgets/controls",
            "children": [
              "IPY_MODEL_4a83d93e95224d618bdd522a5f159529",
              "IPY_MODEL_c9b3ce974c3d4b7f9d93ef4799685336"
            ]
          }
        },
        "81bb652d91474d9f95dbcd7f95fe42b1": {
          "model_module": "@jupyter-widgets/base",
          "model_name": "LayoutModel",
          "state": {
            "_view_name": "LayoutView",
            "grid_template_rows": null,
            "right": null,
            "justify_content": null,
            "_view_module": "@jupyter-widgets/base",
            "overflow": null,
            "_model_module_version": "1.2.0",
            "_view_count": null,
            "flex_flow": null,
            "width": null,
            "min_width": null,
            "border": null,
            "align_items": null,
            "bottom": null,
            "_model_module": "@jupyter-widgets/base",
            "top": null,
            "grid_column": null,
            "overflow_y": null,
            "overflow_x": null,
            "grid_auto_flow": null,
            "grid_area": null,
            "grid_template_columns": null,
            "flex": null,
            "_model_name": "LayoutModel",
            "justify_items": null,
            "grid_row": null,
            "max_height": null,
            "align_content": null,
            "visibility": null,
            "align_self": null,
            "height": null,
            "min_height": null,
            "padding": null,
            "grid_auto_rows": null,
            "grid_gap": null,
            "max_width": null,
            "order": null,
            "_view_module_version": "1.2.0",
            "grid_template_areas": null,
            "object_position": null,
            "object_fit": null,
            "grid_auto_columns": null,
            "margin": null,
            "display": null,
            "left": null
          }
        },
        "4a83d93e95224d618bdd522a5f159529": {
          "model_module": "@jupyter-widgets/controls",
          "model_name": "FloatProgressModel",
          "state": {
            "_view_name": "ProgressView",
            "style": "IPY_MODEL_6e4373d26c7f44b383123cf28695fa3d",
            "_dom_classes": [],
            "description": "Downloading: 100%",
            "_model_name": "FloatProgressModel",
            "bar_style": "success",
            "max": 213450,
            "_view_module": "@jupyter-widgets/controls",
            "_model_module_version": "1.5.0",
            "value": 213450,
            "_view_count": null,
            "_view_module_version": "1.5.0",
            "orientation": "horizontal",
            "min": 0,
            "description_tooltip": null,
            "_model_module": "@jupyter-widgets/controls",
            "layout": "IPY_MODEL_a6e5aff0d37842b28ca627c5615f0284"
          }
        },
        "c9b3ce974c3d4b7f9d93ef4799685336": {
          "model_module": "@jupyter-widgets/controls",
          "model_name": "HTMLModel",
          "state": {
            "_view_name": "HTMLView",
            "style": "IPY_MODEL_47cb0be7643a4e4e9183af64443d3367",
            "_dom_classes": [],
            "description": "",
            "_model_name": "HTMLModel",
            "placeholder": "​",
            "_view_module": "@jupyter-widgets/controls",
            "_model_module_version": "1.5.0",
            "value": " 213k/213k [00:02&lt;00:00, 106kB/s]",
            "_view_count": null,
            "_view_module_version": "1.5.0",
            "description_tooltip": null,
            "_model_module": "@jupyter-widgets/controls",
            "layout": "IPY_MODEL_3e90f5071a07426ba8c84beab24adf26"
          }
        },
        "6e4373d26c7f44b383123cf28695fa3d": {
          "model_module": "@jupyter-widgets/controls",
          "model_name": "ProgressStyleModel",
          "state": {
            "_view_name": "StyleView",
            "_model_name": "ProgressStyleModel",
            "description_width": "initial",
            "_view_module": "@jupyter-widgets/base",
            "_model_module_version": "1.5.0",
            "_view_count": null,
            "_view_module_version": "1.2.0",
            "bar_color": null,
            "_model_module": "@jupyter-widgets/controls"
          }
        },
        "a6e5aff0d37842b28ca627c5615f0284": {
          "model_module": "@jupyter-widgets/base",
          "model_name": "LayoutModel",
          "state": {
            "_view_name": "LayoutView",
            "grid_template_rows": null,
            "right": null,
            "justify_content": null,
            "_view_module": "@jupyter-widgets/base",
            "overflow": null,
            "_model_module_version": "1.2.0",
            "_view_count": null,
            "flex_flow": null,
            "width": null,
            "min_width": null,
            "border": null,
            "align_items": null,
            "bottom": null,
            "_model_module": "@jupyter-widgets/base",
            "top": null,
            "grid_column": null,
            "overflow_y": null,
            "overflow_x": null,
            "grid_auto_flow": null,
            "grid_area": null,
            "grid_template_columns": null,
            "flex": null,
            "_model_name": "LayoutModel",
            "justify_items": null,
            "grid_row": null,
            "max_height": null,
            "align_content": null,
            "visibility": null,
            "align_self": null,
            "height": null,
            "min_height": null,
            "padding": null,
            "grid_auto_rows": null,
            "grid_gap": null,
            "max_width": null,
            "order": null,
            "_view_module_version": "1.2.0",
            "grid_template_areas": null,
            "object_position": null,
            "object_fit": null,
            "grid_auto_columns": null,
            "margin": null,
            "display": null,
            "left": null
          }
        },
        "47cb0be7643a4e4e9183af64443d3367": {
          "model_module": "@jupyter-widgets/controls",
          "model_name": "DescriptionStyleModel",
          "state": {
            "_view_name": "StyleView",
            "_model_name": "DescriptionStyleModel",
            "description_width": "",
            "_view_module": "@jupyter-widgets/base",
            "_model_module_version": "1.5.0",
            "_view_count": null,
            "_view_module_version": "1.2.0",
            "_model_module": "@jupyter-widgets/controls"
          }
        },
        "3e90f5071a07426ba8c84beab24adf26": {
          "model_module": "@jupyter-widgets/base",
          "model_name": "LayoutModel",
          "state": {
            "_view_name": "LayoutView",
            "grid_template_rows": null,
            "right": null,
            "justify_content": null,
            "_view_module": "@jupyter-widgets/base",
            "overflow": null,
            "_model_module_version": "1.2.0",
            "_view_count": null,
            "flex_flow": null,
            "width": null,
            "min_width": null,
            "border": null,
            "align_items": null,
            "bottom": null,
            "_model_module": "@jupyter-widgets/base",
            "top": null,
            "grid_column": null,
            "overflow_y": null,
            "overflow_x": null,
            "grid_auto_flow": null,
            "grid_area": null,
            "grid_template_columns": null,
            "flex": null,
            "_model_name": "LayoutModel",
            "justify_items": null,
            "grid_row": null,
            "max_height": null,
            "align_content": null,
            "visibility": null,
            "align_self": null,
            "height": null,
            "min_height": null,
            "padding": null,
            "grid_auto_rows": null,
            "grid_gap": null,
            "max_width": null,
            "order": null,
            "_view_module_version": "1.2.0",
            "grid_template_areas": null,
            "object_position": null,
            "object_fit": null,
            "grid_auto_columns": null,
            "margin": null,
            "display": null,
            "left": null
          }
        },
        "7fd2949edbbd4716b463e4e16989f3e8": {
          "model_module": "@jupyter-widgets/controls",
          "model_name": "HBoxModel",
          "state": {
            "_view_name": "HBoxView",
            "_dom_classes": [],
            "_model_name": "HBoxModel",
            "_view_module": "@jupyter-widgets/controls",
            "_model_module_version": "1.5.0",
            "_view_count": null,
            "_view_module_version": "1.5.0",
            "box_style": "",
            "layout": "IPY_MODEL_3e4ba0c3a53a4da9b61034879166513c",
            "_model_module": "@jupyter-widgets/controls",
            "children": [
              "IPY_MODEL_434d2f3362c74c9a947a8c7140b131c0",
              "IPY_MODEL_d2aebde0ac7f4e578d67f8352db0c14a"
            ]
          }
        },
        "3e4ba0c3a53a4da9b61034879166513c": {
          "model_module": "@jupyter-widgets/base",
          "model_name": "LayoutModel",
          "state": {
            "_view_name": "LayoutView",
            "grid_template_rows": null,
            "right": null,
            "justify_content": null,
            "_view_module": "@jupyter-widgets/base",
            "overflow": null,
            "_model_module_version": "1.2.0",
            "_view_count": null,
            "flex_flow": null,
            "width": null,
            "min_width": null,
            "border": null,
            "align_items": null,
            "bottom": null,
            "_model_module": "@jupyter-widgets/base",
            "top": null,
            "grid_column": null,
            "overflow_y": null,
            "overflow_x": null,
            "grid_auto_flow": null,
            "grid_area": null,
            "grid_template_columns": null,
            "flex": null,
            "_model_name": "LayoutModel",
            "justify_items": null,
            "grid_row": null,
            "max_height": null,
            "align_content": null,
            "visibility": null,
            "align_self": null,
            "height": null,
            "min_height": null,
            "padding": null,
            "grid_auto_rows": null,
            "grid_gap": null,
            "max_width": null,
            "order": null,
            "_view_module_version": "1.2.0",
            "grid_template_areas": null,
            "object_position": null,
            "object_fit": null,
            "grid_auto_columns": null,
            "margin": null,
            "display": null,
            "left": null
          }
        },
        "434d2f3362c74c9a947a8c7140b131c0": {
          "model_module": "@jupyter-widgets/controls",
          "model_name": "FloatProgressModel",
          "state": {
            "_view_name": "ProgressView",
            "style": "IPY_MODEL_e5edfef5379846299c449c8e5b0db10e",
            "_dom_classes": [],
            "description": "Downloading: 100%",
            "_model_name": "FloatProgressModel",
            "bar_style": "success",
            "max": 29,
            "_view_module": "@jupyter-widgets/controls",
            "_model_module_version": "1.5.0",
            "value": 29,
            "_view_count": null,
            "_view_module_version": "1.5.0",
            "orientation": "horizontal",
            "min": 0,
            "description_tooltip": null,
            "_model_module": "@jupyter-widgets/controls",
            "layout": "IPY_MODEL_f6cefdcc9ae54fb2b78487438e3bef12"
          }
        },
        "d2aebde0ac7f4e578d67f8352db0c14a": {
          "model_module": "@jupyter-widgets/controls",
          "model_name": "HTMLModel",
          "state": {
            "_view_name": "HTMLView",
            "style": "IPY_MODEL_e3b981216d9c4fab99df49af3cb4e0ee",
            "_dom_classes": [],
            "description": "",
            "_model_name": "HTMLModel",
            "placeholder": "​",
            "_view_module": "@jupyter-widgets/controls",
            "_model_module_version": "1.5.0",
            "value": " 29.0/29.0 [00:00&lt;00:00, 47.5B/s]",
            "_view_count": null,
            "_view_module_version": "1.5.0",
            "description_tooltip": null,
            "_model_module": "@jupyter-widgets/controls",
            "layout": "IPY_MODEL_53a9a3748305444e95affddabc2460cb"
          }
        },
        "e5edfef5379846299c449c8e5b0db10e": {
          "model_module": "@jupyter-widgets/controls",
          "model_name": "ProgressStyleModel",
          "state": {
            "_view_name": "StyleView",
            "_model_name": "ProgressStyleModel",
            "description_width": "initial",
            "_view_module": "@jupyter-widgets/base",
            "_model_module_version": "1.5.0",
            "_view_count": null,
            "_view_module_version": "1.2.0",
            "bar_color": null,
            "_model_module": "@jupyter-widgets/controls"
          }
        },
        "f6cefdcc9ae54fb2b78487438e3bef12": {
          "model_module": "@jupyter-widgets/base",
          "model_name": "LayoutModel",
          "state": {
            "_view_name": "LayoutView",
            "grid_template_rows": null,
            "right": null,
            "justify_content": null,
            "_view_module": "@jupyter-widgets/base",
            "overflow": null,
            "_model_module_version": "1.2.0",
            "_view_count": null,
            "flex_flow": null,
            "width": null,
            "min_width": null,
            "border": null,
            "align_items": null,
            "bottom": null,
            "_model_module": "@jupyter-widgets/base",
            "top": null,
            "grid_column": null,
            "overflow_y": null,
            "overflow_x": null,
            "grid_auto_flow": null,
            "grid_area": null,
            "grid_template_columns": null,
            "flex": null,
            "_model_name": "LayoutModel",
            "justify_items": null,
            "grid_row": null,
            "max_height": null,
            "align_content": null,
            "visibility": null,
            "align_self": null,
            "height": null,
            "min_height": null,
            "padding": null,
            "grid_auto_rows": null,
            "grid_gap": null,
            "max_width": null,
            "order": null,
            "_view_module_version": "1.2.0",
            "grid_template_areas": null,
            "object_position": null,
            "object_fit": null,
            "grid_auto_columns": null,
            "margin": null,
            "display": null,
            "left": null
          }
        },
        "e3b981216d9c4fab99df49af3cb4e0ee": {
          "model_module": "@jupyter-widgets/controls",
          "model_name": "DescriptionStyleModel",
          "state": {
            "_view_name": "StyleView",
            "_model_name": "DescriptionStyleModel",
            "description_width": "",
            "_view_module": "@jupyter-widgets/base",
            "_model_module_version": "1.5.0",
            "_view_count": null,
            "_view_module_version": "1.2.0",
            "_model_module": "@jupyter-widgets/controls"
          }
        },
        "53a9a3748305444e95affddabc2460cb": {
          "model_module": "@jupyter-widgets/base",
          "model_name": "LayoutModel",
          "state": {
            "_view_name": "LayoutView",
            "grid_template_rows": null,
            "right": null,
            "justify_content": null,
            "_view_module": "@jupyter-widgets/base",
            "overflow": null,
            "_model_module_version": "1.2.0",
            "_view_count": null,
            "flex_flow": null,
            "width": null,
            "min_width": null,
            "border": null,
            "align_items": null,
            "bottom": null,
            "_model_module": "@jupyter-widgets/base",
            "top": null,
            "grid_column": null,
            "overflow_y": null,
            "overflow_x": null,
            "grid_auto_flow": null,
            "grid_area": null,
            "grid_template_columns": null,
            "flex": null,
            "_model_name": "LayoutModel",
            "justify_items": null,
            "grid_row": null,
            "max_height": null,
            "align_content": null,
            "visibility": null,
            "align_self": null,
            "height": null,
            "min_height": null,
            "padding": null,
            "grid_auto_rows": null,
            "grid_gap": null,
            "max_width": null,
            "order": null,
            "_view_module_version": "1.2.0",
            "grid_template_areas": null,
            "object_position": null,
            "object_fit": null,
            "grid_auto_columns": null,
            "margin": null,
            "display": null,
            "left": null
          }
        },
        "d9e3fbebee3a48bf8bb3af09b8ae568f": {
          "model_module": "@jupyter-widgets/controls",
          "model_name": "HBoxModel",
          "state": {
            "_view_name": "HBoxView",
            "_dom_classes": [],
            "_model_name": "HBoxModel",
            "_view_module": "@jupyter-widgets/controls",
            "_model_module_version": "1.5.0",
            "_view_count": null,
            "_view_module_version": "1.5.0",
            "box_style": "",
            "layout": "IPY_MODEL_4212bf236f76400bbc34f0ad8f265cc6",
            "_model_module": "@jupyter-widgets/controls",
            "children": [
              "IPY_MODEL_7a57743c90a347a9a35309311202a1a8",
              "IPY_MODEL_ef7bc619e05d40448986b5e9d96f878e"
            ]
          }
        },
        "4212bf236f76400bbc34f0ad8f265cc6": {
          "model_module": "@jupyter-widgets/base",
          "model_name": "LayoutModel",
          "state": {
            "_view_name": "LayoutView",
            "grid_template_rows": null,
            "right": null,
            "justify_content": null,
            "_view_module": "@jupyter-widgets/base",
            "overflow": null,
            "_model_module_version": "1.2.0",
            "_view_count": null,
            "flex_flow": null,
            "width": null,
            "min_width": null,
            "border": null,
            "align_items": null,
            "bottom": null,
            "_model_module": "@jupyter-widgets/base",
            "top": null,
            "grid_column": null,
            "overflow_y": null,
            "overflow_x": null,
            "grid_auto_flow": null,
            "grid_area": null,
            "grid_template_columns": null,
            "flex": null,
            "_model_name": "LayoutModel",
            "justify_items": null,
            "grid_row": null,
            "max_height": null,
            "align_content": null,
            "visibility": null,
            "align_self": null,
            "height": null,
            "min_height": null,
            "padding": null,
            "grid_auto_rows": null,
            "grid_gap": null,
            "max_width": null,
            "order": null,
            "_view_module_version": "1.2.0",
            "grid_template_areas": null,
            "object_position": null,
            "object_fit": null,
            "grid_auto_columns": null,
            "margin": null,
            "display": null,
            "left": null
          }
        },
        "7a57743c90a347a9a35309311202a1a8": {
          "model_module": "@jupyter-widgets/controls",
          "model_name": "FloatProgressModel",
          "state": {
            "_view_name": "ProgressView",
            "style": "IPY_MODEL_47a4db07172444e28380f8e478a8cab5",
            "_dom_classes": [],
            "description": "Downloading: 100%",
            "_model_name": "FloatProgressModel",
            "bar_style": "success",
            "max": 435797,
            "_view_module": "@jupyter-widgets/controls",
            "_model_module_version": "1.5.0",
            "value": 435797,
            "_view_count": null,
            "_view_module_version": "1.5.0",
            "orientation": "horizontal",
            "min": 0,
            "description_tooltip": null,
            "_model_module": "@jupyter-widgets/controls",
            "layout": "IPY_MODEL_3f25ad659df94a9fab8869ef08d26cde"
          }
        },
        "ef7bc619e05d40448986b5e9d96f878e": {
          "model_module": "@jupyter-widgets/controls",
          "model_name": "HTMLModel",
          "state": {
            "_view_name": "HTMLView",
            "style": "IPY_MODEL_943bd453e6f244b3b3a7374f8aacceaa",
            "_dom_classes": [],
            "description": "",
            "_model_name": "HTMLModel",
            "placeholder": "​",
            "_view_module": "@jupyter-widgets/controls",
            "_model_module_version": "1.5.0",
            "value": " 436k/436k [00:00&lt;00:00, 2.66MB/s]",
            "_view_count": null,
            "_view_module_version": "1.5.0",
            "description_tooltip": null,
            "_model_module": "@jupyter-widgets/controls",
            "layout": "IPY_MODEL_45ed2cb00efe4f0fb44d7464d4e7efe3"
          }
        },
        "47a4db07172444e28380f8e478a8cab5": {
          "model_module": "@jupyter-widgets/controls",
          "model_name": "ProgressStyleModel",
          "state": {
            "_view_name": "StyleView",
            "_model_name": "ProgressStyleModel",
            "description_width": "initial",
            "_view_module": "@jupyter-widgets/base",
            "_model_module_version": "1.5.0",
            "_view_count": null,
            "_view_module_version": "1.2.0",
            "bar_color": null,
            "_model_module": "@jupyter-widgets/controls"
          }
        },
        "3f25ad659df94a9fab8869ef08d26cde": {
          "model_module": "@jupyter-widgets/base",
          "model_name": "LayoutModel",
          "state": {
            "_view_name": "LayoutView",
            "grid_template_rows": null,
            "right": null,
            "justify_content": null,
            "_view_module": "@jupyter-widgets/base",
            "overflow": null,
            "_model_module_version": "1.2.0",
            "_view_count": null,
            "flex_flow": null,
            "width": null,
            "min_width": null,
            "border": null,
            "align_items": null,
            "bottom": null,
            "_model_module": "@jupyter-widgets/base",
            "top": null,
            "grid_column": null,
            "overflow_y": null,
            "overflow_x": null,
            "grid_auto_flow": null,
            "grid_area": null,
            "grid_template_columns": null,
            "flex": null,
            "_model_name": "LayoutModel",
            "justify_items": null,
            "grid_row": null,
            "max_height": null,
            "align_content": null,
            "visibility": null,
            "align_self": null,
            "height": null,
            "min_height": null,
            "padding": null,
            "grid_auto_rows": null,
            "grid_gap": null,
            "max_width": null,
            "order": null,
            "_view_module_version": "1.2.0",
            "grid_template_areas": null,
            "object_position": null,
            "object_fit": null,
            "grid_auto_columns": null,
            "margin": null,
            "display": null,
            "left": null
          }
        },
        "943bd453e6f244b3b3a7374f8aacceaa": {
          "model_module": "@jupyter-widgets/controls",
          "model_name": "DescriptionStyleModel",
          "state": {
            "_view_name": "StyleView",
            "_model_name": "DescriptionStyleModel",
            "description_width": "",
            "_view_module": "@jupyter-widgets/base",
            "_model_module_version": "1.5.0",
            "_view_count": null,
            "_view_module_version": "1.2.0",
            "_model_module": "@jupyter-widgets/controls"
          }
        },
        "45ed2cb00efe4f0fb44d7464d4e7efe3": {
          "model_module": "@jupyter-widgets/base",
          "model_name": "LayoutModel",
          "state": {
            "_view_name": "LayoutView",
            "grid_template_rows": null,
            "right": null,
            "justify_content": null,
            "_view_module": "@jupyter-widgets/base",
            "overflow": null,
            "_model_module_version": "1.2.0",
            "_view_count": null,
            "flex_flow": null,
            "width": null,
            "min_width": null,
            "border": null,
            "align_items": null,
            "bottom": null,
            "_model_module": "@jupyter-widgets/base",
            "top": null,
            "grid_column": null,
            "overflow_y": null,
            "overflow_x": null,
            "grid_auto_flow": null,
            "grid_area": null,
            "grid_template_columns": null,
            "flex": null,
            "_model_name": "LayoutModel",
            "justify_items": null,
            "grid_row": null,
            "max_height": null,
            "align_content": null,
            "visibility": null,
            "align_self": null,
            "height": null,
            "min_height": null,
            "padding": null,
            "grid_auto_rows": null,
            "grid_gap": null,
            "max_width": null,
            "order": null,
            "_view_module_version": "1.2.0",
            "grid_template_areas": null,
            "object_position": null,
            "object_fit": null,
            "grid_auto_columns": null,
            "margin": null,
            "display": null,
            "left": null
          }
        },
        "a61dc2acffc34d5a81ee754174997477": {
          "model_module": "@jupyter-widgets/controls",
          "model_name": "HBoxModel",
          "state": {
            "_view_name": "HBoxView",
            "_dom_classes": [],
            "_model_name": "HBoxModel",
            "_view_module": "@jupyter-widgets/controls",
            "_model_module_version": "1.5.0",
            "_view_count": null,
            "_view_module_version": "1.5.0",
            "box_style": "",
            "layout": "IPY_MODEL_058c221e83d544efa3bf707b6619e9d2",
            "_model_module": "@jupyter-widgets/controls",
            "children": [
              "IPY_MODEL_cf9d59ab673c44bc9ce67343dd224945",
              "IPY_MODEL_2363f7c1e022431b8f85df1d0202eff2"
            ]
          }
        },
        "058c221e83d544efa3bf707b6619e9d2": {
          "model_module": "@jupyter-widgets/base",
          "model_name": "LayoutModel",
          "state": {
            "_view_name": "LayoutView",
            "grid_template_rows": null,
            "right": null,
            "justify_content": null,
            "_view_module": "@jupyter-widgets/base",
            "overflow": null,
            "_model_module_version": "1.2.0",
            "_view_count": null,
            "flex_flow": null,
            "width": null,
            "min_width": null,
            "border": null,
            "align_items": null,
            "bottom": null,
            "_model_module": "@jupyter-widgets/base",
            "top": null,
            "grid_column": null,
            "overflow_y": null,
            "overflow_x": null,
            "grid_auto_flow": null,
            "grid_area": null,
            "grid_template_columns": null,
            "flex": null,
            "_model_name": "LayoutModel",
            "justify_items": null,
            "grid_row": null,
            "max_height": null,
            "align_content": null,
            "visibility": null,
            "align_self": null,
            "height": null,
            "min_height": null,
            "padding": null,
            "grid_auto_rows": null,
            "grid_gap": null,
            "max_width": null,
            "order": null,
            "_view_module_version": "1.2.0",
            "grid_template_areas": null,
            "object_position": null,
            "object_fit": null,
            "grid_auto_columns": null,
            "margin": null,
            "display": null,
            "left": null
          }
        },
        "cf9d59ab673c44bc9ce67343dd224945": {
          "model_module": "@jupyter-widgets/controls",
          "model_name": "FloatProgressModel",
          "state": {
            "_view_name": "ProgressView",
            "style": "IPY_MODEL_1a6b17f7b1fa42a28cab52f48664533a",
            "_dom_classes": [],
            "description": "Downloading: 100%",
            "_model_name": "FloatProgressModel",
            "bar_style": "success",
            "max": 435779157,
            "_view_module": "@jupyter-widgets/controls",
            "_model_module_version": "1.5.0",
            "value": 435779157,
            "_view_count": null,
            "_view_module_version": "1.5.0",
            "orientation": "horizontal",
            "min": 0,
            "description_tooltip": null,
            "_model_module": "@jupyter-widgets/controls",
            "layout": "IPY_MODEL_abcdbe66cc4c4b589988fdcf7aaa7f2d"
          }
        },
        "2363f7c1e022431b8f85df1d0202eff2": {
          "model_module": "@jupyter-widgets/controls",
          "model_name": "HTMLModel",
          "state": {
            "_view_name": "HTMLView",
            "style": "IPY_MODEL_2173047830f74035a852c3370bc74d54",
            "_dom_classes": [],
            "description": "",
            "_model_name": "HTMLModel",
            "placeholder": "​",
            "_view_module": "@jupyter-widgets/controls",
            "_model_module_version": "1.5.0",
            "value": " 436M/436M [00:08&lt;00:00, 50.5MB/s]",
            "_view_count": null,
            "_view_module_version": "1.5.0",
            "description_tooltip": null,
            "_model_module": "@jupyter-widgets/controls",
            "layout": "IPY_MODEL_8b4b67bfcd874ae39bc9620208cc20c5"
          }
        },
        "1a6b17f7b1fa42a28cab52f48664533a": {
          "model_module": "@jupyter-widgets/controls",
          "model_name": "ProgressStyleModel",
          "state": {
            "_view_name": "StyleView",
            "_model_name": "ProgressStyleModel",
            "description_width": "initial",
            "_view_module": "@jupyter-widgets/base",
            "_model_module_version": "1.5.0",
            "_view_count": null,
            "_view_module_version": "1.2.0",
            "bar_color": null,
            "_model_module": "@jupyter-widgets/controls"
          }
        },
        "abcdbe66cc4c4b589988fdcf7aaa7f2d": {
          "model_module": "@jupyter-widgets/base",
          "model_name": "LayoutModel",
          "state": {
            "_view_name": "LayoutView",
            "grid_template_rows": null,
            "right": null,
            "justify_content": null,
            "_view_module": "@jupyter-widgets/base",
            "overflow": null,
            "_model_module_version": "1.2.0",
            "_view_count": null,
            "flex_flow": null,
            "width": null,
            "min_width": null,
            "border": null,
            "align_items": null,
            "bottom": null,
            "_model_module": "@jupyter-widgets/base",
            "top": null,
            "grid_column": null,
            "overflow_y": null,
            "overflow_x": null,
            "grid_auto_flow": null,
            "grid_area": null,
            "grid_template_columns": null,
            "flex": null,
            "_model_name": "LayoutModel",
            "justify_items": null,
            "grid_row": null,
            "max_height": null,
            "align_content": null,
            "visibility": null,
            "align_self": null,
            "height": null,
            "min_height": null,
            "padding": null,
            "grid_auto_rows": null,
            "grid_gap": null,
            "max_width": null,
            "order": null,
            "_view_module_version": "1.2.0",
            "grid_template_areas": null,
            "object_position": null,
            "object_fit": null,
            "grid_auto_columns": null,
            "margin": null,
            "display": null,
            "left": null
          }
        },
        "2173047830f74035a852c3370bc74d54": {
          "model_module": "@jupyter-widgets/controls",
          "model_name": "DescriptionStyleModel",
          "state": {
            "_view_name": "StyleView",
            "_model_name": "DescriptionStyleModel",
            "description_width": "",
            "_view_module": "@jupyter-widgets/base",
            "_model_module_version": "1.5.0",
            "_view_count": null,
            "_view_module_version": "1.2.0",
            "_model_module": "@jupyter-widgets/controls"
          }
        },
        "8b4b67bfcd874ae39bc9620208cc20c5": {
          "model_module": "@jupyter-widgets/base",
          "model_name": "LayoutModel",
          "state": {
            "_view_name": "LayoutView",
            "grid_template_rows": null,
            "right": null,
            "justify_content": null,
            "_view_module": "@jupyter-widgets/base",
            "overflow": null,
            "_model_module_version": "1.2.0",
            "_view_count": null,
            "flex_flow": null,
            "width": null,
            "min_width": null,
            "border": null,
            "align_items": null,
            "bottom": null,
            "_model_module": "@jupyter-widgets/base",
            "top": null,
            "grid_column": null,
            "overflow_y": null,
            "overflow_x": null,
            "grid_auto_flow": null,
            "grid_area": null,
            "grid_template_columns": null,
            "flex": null,
            "_model_name": "LayoutModel",
            "justify_items": null,
            "grid_row": null,
            "max_height": null,
            "align_content": null,
            "visibility": null,
            "align_self": null,
            "height": null,
            "min_height": null,
            "padding": null,
            "grid_auto_rows": null,
            "grid_gap": null,
            "max_width": null,
            "order": null,
            "_view_module_version": "1.2.0",
            "grid_template_areas": null,
            "object_position": null,
            "object_fit": null,
            "grid_auto_columns": null,
            "margin": null,
            "display": null,
            "left": null
          }
        }
      }
    }
  },
  "cells": [
    {
      "cell_type": "markdown",
      "metadata": {
        "id": "view-in-github",
        "colab_type": "text"
      },
      "source": [
        "<a href=\"https://colab.research.google.com/github/ReAlex1902/Tweets_Classification/blob/main/bert_with_catboost.ipynb\" target=\"_parent\"><img src=\"https://colab.research.google.com/assets/colab-badge.svg\" alt=\"Open In Colab\"/></a>"
      ]
    },
    {
      "cell_type": "code",
      "metadata": {
        "colab": {
          "base_uri": "https://localhost:8080/"
        },
        "id": "2YcCsaAwPA7R",
        "outputId": "a69c4d3e-075f-4209-beaf-794b5d244b6a"
      },
      "source": [
        "!pip install kaggle\n",
        "!pip install transformers"
      ],
      "execution_count": null,
      "outputs": [
        {
          "output_type": "stream",
          "text": [
            "Requirement already satisfied: kaggle in /usr/local/lib/python3.7/dist-packages (1.5.12)\n",
            "Requirement already satisfied: six>=1.10 in /usr/local/lib/python3.7/dist-packages (from kaggle) (1.15.0)\n",
            "Requirement already satisfied: requests in /usr/local/lib/python3.7/dist-packages (from kaggle) (2.23.0)\n",
            "Requirement already satisfied: certifi in /usr/local/lib/python3.7/dist-packages (from kaggle) (2021.5.30)\n",
            "Requirement already satisfied: python-slugify in /usr/local/lib/python3.7/dist-packages (from kaggle) (5.0.2)\n",
            "Requirement already satisfied: urllib3 in /usr/local/lib/python3.7/dist-packages (from kaggle) (1.24.3)\n",
            "Requirement already satisfied: python-dateutil in /usr/local/lib/python3.7/dist-packages (from kaggle) (2.8.1)\n",
            "Requirement already satisfied: tqdm in /usr/local/lib/python3.7/dist-packages (from kaggle) (4.41.1)\n",
            "Requirement already satisfied: chardet<4,>=3.0.2 in /usr/local/lib/python3.7/dist-packages (from requests->kaggle) (3.0.4)\n",
            "Requirement already satisfied: idna<3,>=2.5 in /usr/local/lib/python3.7/dist-packages (from requests->kaggle) (2.10)\n",
            "Requirement already satisfied: text-unidecode>=1.3 in /usr/local/lib/python3.7/dist-packages (from python-slugify->kaggle) (1.3)\n",
            "Collecting transformers\n",
            "\u001b[?25l  Downloading https://files.pythonhosted.org/packages/fd/1a/41c644c963249fd7f3836d926afa1e3f1cc234a1c40d80c5f03ad8f6f1b2/transformers-4.8.2-py3-none-any.whl (2.5MB)\n",
            "\u001b[K     |████████████████████████████████| 2.5MB 7.7MB/s \n",
            "\u001b[?25hCollecting huggingface-hub==0.0.12\n",
            "  Downloading https://files.pythonhosted.org/packages/2f/ee/97e253668fda9b17e968b3f97b2f8e53aa0127e8807d24a547687423fe0b/huggingface_hub-0.0.12-py3-none-any.whl\n",
            "Requirement already satisfied: packaging in /usr/local/lib/python3.7/dist-packages (from transformers) (20.9)\n",
            "Collecting tokenizers<0.11,>=0.10.1\n",
            "\u001b[?25l  Downloading https://files.pythonhosted.org/packages/d4/e2/df3543e8ffdab68f5acc73f613de9c2b155ac47f162e725dcac87c521c11/tokenizers-0.10.3-cp37-cp37m-manylinux_2_5_x86_64.manylinux1_x86_64.manylinux_2_12_x86_64.manylinux2010_x86_64.whl (3.3MB)\n",
            "\u001b[K     |████████████████████████████████| 3.3MB 21.8MB/s \n",
            "\u001b[?25hRequirement already satisfied: tqdm>=4.27 in /usr/local/lib/python3.7/dist-packages (from transformers) (4.41.1)\n",
            "Requirement already satisfied: pyyaml in /usr/local/lib/python3.7/dist-packages (from transformers) (3.13)\n",
            "Collecting sacremoses\n",
            "\u001b[?25l  Downloading https://files.pythonhosted.org/packages/75/ee/67241dc87f266093c533a2d4d3d69438e57d7a90abb216fa076e7d475d4a/sacremoses-0.0.45-py3-none-any.whl (895kB)\n",
            "\u001b[K     |████████████████████████████████| 901kB 40.3MB/s \n",
            "\u001b[?25hRequirement already satisfied: importlib-metadata; python_version < \"3.8\" in /usr/local/lib/python3.7/dist-packages (from transformers) (4.6.0)\n",
            "Requirement already satisfied: requests in /usr/local/lib/python3.7/dist-packages (from transformers) (2.23.0)\n",
            "Requirement already satisfied: numpy>=1.17 in /usr/local/lib/python3.7/dist-packages (from transformers) (1.19.5)\n",
            "Requirement already satisfied: regex!=2019.12.17 in /usr/local/lib/python3.7/dist-packages (from transformers) (2019.12.20)\n",
            "Requirement already satisfied: filelock in /usr/local/lib/python3.7/dist-packages (from transformers) (3.0.12)\n",
            "Requirement already satisfied: typing-extensions in /usr/local/lib/python3.7/dist-packages (from huggingface-hub==0.0.12->transformers) (3.7.4.3)\n",
            "Requirement already satisfied: pyparsing>=2.0.2 in /usr/local/lib/python3.7/dist-packages (from packaging->transformers) (2.4.7)\n",
            "Requirement already satisfied: click in /usr/local/lib/python3.7/dist-packages (from sacremoses->transformers) (7.1.2)\n",
            "Requirement already satisfied: joblib in /usr/local/lib/python3.7/dist-packages (from sacremoses->transformers) (1.0.1)\n",
            "Requirement already satisfied: six in /usr/local/lib/python3.7/dist-packages (from sacremoses->transformers) (1.15.0)\n",
            "Requirement already satisfied: zipp>=0.5 in /usr/local/lib/python3.7/dist-packages (from importlib-metadata; python_version < \"3.8\"->transformers) (3.4.1)\n",
            "Requirement already satisfied: idna<3,>=2.5 in /usr/local/lib/python3.7/dist-packages (from requests->transformers) (2.10)\n",
            "Requirement already satisfied: chardet<4,>=3.0.2 in /usr/local/lib/python3.7/dist-packages (from requests->transformers) (3.0.4)\n",
            "Requirement already satisfied: urllib3!=1.25.0,!=1.25.1,<1.26,>=1.21.1 in /usr/local/lib/python3.7/dist-packages (from requests->transformers) (1.24.3)\n",
            "Requirement already satisfied: certifi>=2017.4.17 in /usr/local/lib/python3.7/dist-packages (from requests->transformers) (2021.5.30)\n",
            "Installing collected packages: huggingface-hub, tokenizers, sacremoses, transformers\n",
            "Successfully installed huggingface-hub-0.0.12 sacremoses-0.0.45 tokenizers-0.10.3 transformers-4.8.2\n"
          ],
          "name": "stdout"
        }
      ]
    },
    {
      "cell_type": "code",
      "metadata": {
        "colab": {
          "resources": {
            "http://localhost:8080/nbextensions/google.colab/files.js": {
              "data": "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",
              "ok": true,
              "headers": [
                [
                  "content-type",
                  "application/javascript"
                ]
              ],
              "status": 200,
              "status_text": ""
            }
          },
          "base_uri": "https://localhost:8080/",
          "height": 56
        },
        "id": "sQyMXhgkPUPZ",
        "outputId": "d68c8f01-0202-4079-d209-818237bc9559"
      },
      "source": [
        "## upload your kaggle.json\n",
        "\n",
        "from google.colab import files\n",
        "files.upload()"
      ],
      "execution_count": 1,
      "outputs": [
        {
          "output_type": "display_data",
          "data": {
            "text/html": [
              "\n",
              "     <input type=\"file\" id=\"files-3d76f95d-f489-4d41-a11a-32f798c7bcda\" name=\"files[]\" multiple disabled\n",
              "        style=\"border:none\" />\n",
              "     <output id=\"result-3d76f95d-f489-4d41-a11a-32f798c7bcda\">\n",
              "      Upload widget is only available when the cell has been executed in the\n",
              "      current browser session. Please rerun this cell to enable.\n",
              "      </output>\n",
              "      <script src=\"/nbextensions/google.colab/files.js\"></script> "
            ],
            "text/plain": [
              "<IPython.core.display.HTML object>"
            ]
          },
          "metadata": {
            "tags": []
          }
        },
        {
          "output_type": "execute_result",
          "data": {
            "text/plain": [
              "{}"
            ]
          },
          "metadata": {
            "tags": []
          },
          "execution_count": 1
        }
      ]
    },
    {
      "cell_type": "code",
      "metadata": {
        "id": "EUH5ZJddPXwa"
      },
      "source": [
        "#before importing the dataset we want to use this code\n",
        "# The Kaggle API client expects this file to be in ~/.kaggle,\n",
        "!mkdir -p ~/.kaggle\n",
        "!cp kaggle.json ~/.kaggle/\n",
        "\n",
        "# This permissions change avoids a warning on Kaggle tool startup.\n",
        "!chmod 600 ~/.kaggle/kaggle.json"
      ],
      "execution_count": null,
      "outputs": []
    },
    {
      "cell_type": "code",
      "metadata": {
        "colab": {
          "base_uri": "https://localhost:8080/"
        },
        "id": "pNFrPp2OPdM3",
        "outputId": "abf7de79-c9e7-4a46-b32b-35f27ee518ce"
      },
      "source": [
        "!kaggle competitions download -c nlp-getting-started"
      ],
      "execution_count": null,
      "outputs": [
        {
          "output_type": "stream",
          "text": [
            "Warning: Looks like you're using an outdated API Version, please consider updating (server 1.5.12 / client 1.5.4)\n",
            "Downloading train.csv to /content\n",
            "  0% 0.00/965k [00:00<?, ?B/s]\n",
            "100% 965k/965k [00:00<00:00, 66.0MB/s]\n",
            "Downloading test.csv to /content\n",
            "  0% 0.00/411k [00:00<?, ?B/s]\n",
            "100% 411k/411k [00:00<00:00, 137MB/s]\n",
            "Downloading sample_submission.csv to /content\n",
            "  0% 0.00/22.2k [00:00<?, ?B/s]\n",
            "100% 22.2k/22.2k [00:00<00:00, 22.9MB/s]\n"
          ],
          "name": "stdout"
        }
      ]
    },
    {
      "cell_type": "code",
      "metadata": {
        "id": "0F9HHJq4ewLx"
      },
      "source": [
        "import numpy as np\n",
        "import pandas as pd\n",
        "import matplotlib.pyplot as plt\n",
        "import seaborn as sns\n",
        "\n",
        "import torch"
      ],
      "execution_count": null,
      "outputs": []
    },
    {
      "cell_type": "code",
      "metadata": {
        "colab": {
          "base_uri": "https://localhost:8080/"
        },
        "id": "xmMHflh5exrV",
        "outputId": "285ad85d-8905-4dcd-95c1-3ab68bc13895"
      },
      "source": [
        "device = torch.device('cuda' if torch.cuda.is_available() else 'cpu')\n",
        "device"
      ],
      "execution_count": null,
      "outputs": [
        {
          "output_type": "execute_result",
          "data": {
            "text/plain": [
              "device(type='cuda')"
            ]
          },
          "metadata": {
            "tags": []
          },
          "execution_count": 6
        }
      ]
    },
    {
      "cell_type": "code",
      "metadata": {
        "colab": {
          "base_uri": "https://localhost:8080/",
          "height": 205
        },
        "id": "_FDl7K9wPhZJ",
        "outputId": "f0c7ebfe-5939-4b60-a860-f954bee52f01"
      },
      "source": [
        "PATH = '/content/train.csv'\n",
        "df = pd.read_csv(PATH)\n",
        "df.head()"
      ],
      "execution_count": null,
      "outputs": [
        {
          "output_type": "execute_result",
          "data": {
            "text/html": [
              "<div>\n",
              "<style scoped>\n",
              "    .dataframe tbody tr th:only-of-type {\n",
              "        vertical-align: middle;\n",
              "    }\n",
              "\n",
              "    .dataframe tbody tr th {\n",
              "        vertical-align: top;\n",
              "    }\n",
              "\n",
              "    .dataframe thead th {\n",
              "        text-align: right;\n",
              "    }\n",
              "</style>\n",
              "<table border=\"1\" class=\"dataframe\">\n",
              "  <thead>\n",
              "    <tr style=\"text-align: right;\">\n",
              "      <th></th>\n",
              "      <th>id</th>\n",
              "      <th>keyword</th>\n",
              "      <th>location</th>\n",
              "      <th>text</th>\n",
              "      <th>target</th>\n",
              "    </tr>\n",
              "  </thead>\n",
              "  <tbody>\n",
              "    <tr>\n",
              "      <th>0</th>\n",
              "      <td>1</td>\n",
              "      <td>NaN</td>\n",
              "      <td>NaN</td>\n",
              "      <td>Our Deeds are the Reason of this #earthquake M...</td>\n",
              "      <td>1</td>\n",
              "    </tr>\n",
              "    <tr>\n",
              "      <th>1</th>\n",
              "      <td>4</td>\n",
              "      <td>NaN</td>\n",
              "      <td>NaN</td>\n",
              "      <td>Forest fire near La Ronge Sask. Canada</td>\n",
              "      <td>1</td>\n",
              "    </tr>\n",
              "    <tr>\n",
              "      <th>2</th>\n",
              "      <td>5</td>\n",
              "      <td>NaN</td>\n",
              "      <td>NaN</td>\n",
              "      <td>All residents asked to 'shelter in place' are ...</td>\n",
              "      <td>1</td>\n",
              "    </tr>\n",
              "    <tr>\n",
              "      <th>3</th>\n",
              "      <td>6</td>\n",
              "      <td>NaN</td>\n",
              "      <td>NaN</td>\n",
              "      <td>13,000 people receive #wildfires evacuation or...</td>\n",
              "      <td>1</td>\n",
              "    </tr>\n",
              "    <tr>\n",
              "      <th>4</th>\n",
              "      <td>7</td>\n",
              "      <td>NaN</td>\n",
              "      <td>NaN</td>\n",
              "      <td>Just got sent this photo from Ruby #Alaska as ...</td>\n",
              "      <td>1</td>\n",
              "    </tr>\n",
              "  </tbody>\n",
              "</table>\n",
              "</div>"
            ],
            "text/plain": [
              "   id keyword  ...                                               text target\n",
              "0   1     NaN  ...  Our Deeds are the Reason of this #earthquake M...      1\n",
              "1   4     NaN  ...             Forest fire near La Ronge Sask. Canada      1\n",
              "2   5     NaN  ...  All residents asked to 'shelter in place' are ...      1\n",
              "3   6     NaN  ...  13,000 people receive #wildfires evacuation or...      1\n",
              "4   7     NaN  ...  Just got sent this photo from Ruby #Alaska as ...      1\n",
              "\n",
              "[5 rows x 5 columns]"
            ]
          },
          "metadata": {
            "tags": []
          },
          "execution_count": 7
        }
      ]
    },
    {
      "cell_type": "code",
      "metadata": {
        "colab": {
          "base_uri": "https://localhost:8080/"
        },
        "id": "arFnxz2JdyEe",
        "outputId": "f5863555-2709-4eb5-ee86-85dc8c5b6b09"
      },
      "source": [
        "df.shape, df[df['target'] == 1].shape, df[df['target'] == 0].shape"
      ],
      "execution_count": null,
      "outputs": [
        {
          "output_type": "execute_result",
          "data": {
            "text/plain": [
              "((7613, 5), (3271, 5), (4342, 5))"
            ]
          },
          "metadata": {
            "tags": []
          },
          "execution_count": 8
        }
      ]
    },
    {
      "cell_type": "code",
      "metadata": {
        "colab": {
          "base_uri": "https://localhost:8080/",
          "height": 265
        },
        "id": "yVCXGRJX9Zqx",
        "outputId": "b0b73670-7e51-427b-f900-d081196ad89d"
      },
      "source": [
        "df['target'].hist();"
      ],
      "execution_count": null,
      "outputs": [
        {
          "output_type": "display_data",
          "data": {
            "image/png": "[encoded data removed]",
            "text/plain": [
              "<Figure size 432x288 with 1 Axes>"
            ]
          },
          "metadata": {
            "tags": [],
            "needs_background": "light"
          }
        }
      ]
    },
    {
      "cell_type": "code",
      "metadata": {
        "colab": {
          "base_uri": "https://localhost:8080/"
        },
        "id": "p9CO5z8gd6Tr",
        "outputId": "879c879b-9357-4aba-c366-a4ec8b2f95f1"
      },
      "source": [
        "from sklearn.utils import resample\n",
        "\n",
        "df_minority = df[df['target'] == 1].copy()\n",
        "df_minority_upsampled = resample(df_minority, replace = True, \n",
        "                                 n_samples = df['target'].value_counts()[0], \n",
        "                                 random_state = 11)\n",
        "df_minority_upsampled.shape"
      ],
      "execution_count": null,
      "outputs": [
        {
          "output_type": "execute_result",
          "data": {
            "text/plain": [
              "(4342, 5)"
            ]
          },
          "metadata": {
            "tags": []
          },
          "execution_count": 10
        }
      ]
    },
    {
      "cell_type": "code",
      "metadata": {
        "colab": {
          "base_uri": "https://localhost:8080/",
          "height": 205
        },
        "id": "gA490_tXeHr-",
        "outputId": "e1271faa-ec6c-498d-83bd-42808d000317"
      },
      "source": [
        "df = pd.concat([df[df['target'] == 0].copy(), df_minority_upsampled]).reset_index()\n",
        "df.sample(5)"
      ],
      "execution_count": null,
      "outputs": [
        {
          "output_type": "execute_result",
          "data": {
            "text/html": [
              "<div>\n",
              "<style scoped>\n",
              "    .dataframe tbody tr th:only-of-type {\n",
              "        vertical-align: middle;\n",
              "    }\n",
              "\n",
              "    .dataframe tbody tr th {\n",
              "        vertical-align: top;\n",
              "    }\n",
              "\n",
              "    .dataframe thead th {\n",
              "        text-align: right;\n",
              "    }\n",
              "</style>\n",
              "<table border=\"1\" class=\"dataframe\">\n",
              "  <thead>\n",
              "    <tr style=\"text-align: right;\">\n",
              "      <th></th>\n",
              "      <th>index</th>\n",
              "      <th>id</th>\n",
              "      <th>keyword</th>\n",
              "      <th>location</th>\n",
              "      <th>text</th>\n",
              "      <th>target</th>\n",
              "    </tr>\n",
              "  </thead>\n",
              "  <tbody>\n",
              "    <tr>\n",
              "      <th>293</th>\n",
              "      <td>498</td>\n",
              "      <td>721</td>\n",
              "      <td>attacked</td>\n",
              "      <td>Peshawar</td>\n",
              "      <td>IK Only Troll His Pol Rivals Never Literally A...</td>\n",
              "      <td>0</td>\n",
              "    </tr>\n",
              "    <tr>\n",
              "      <th>5894</th>\n",
              "      <td>5461</td>\n",
              "      <td>7789</td>\n",
              "      <td>police</td>\n",
              "      <td>Houston</td>\n",
              "      <td>CNN: Tennessee movie theater shooting suspect ...</td>\n",
              "      <td>1</td>\n",
              "    </tr>\n",
              "    <tr>\n",
              "      <th>5001</th>\n",
              "      <td>2013</td>\n",
              "      <td>2889</td>\n",
              "      <td>damage</td>\n",
              "      <td>Charlotte NC</td>\n",
              "      <td>REPORTED: HIT &amp;amp; RUN-IN ROADWAY-PROPERTY DA...</td>\n",
              "      <td>1</td>\n",
              "    </tr>\n",
              "    <tr>\n",
              "      <th>1286</th>\n",
              "      <td>2062</td>\n",
              "      <td>2956</td>\n",
              "      <td>dead</td>\n",
              "      <td>NaN</td>\n",
              "      <td>i miss my longer hair..but it was so dead anyw...</td>\n",
              "      <td>0</td>\n",
              "    </tr>\n",
              "    <tr>\n",
              "      <th>52</th>\n",
              "      <td>104</td>\n",
              "      <td>151</td>\n",
              "      <td>aftershock</td>\n",
              "      <td>Switzerland</td>\n",
              "      <td>320 [IR] ICEMOON [AFTERSHOCK] | http://t.co/yN...</td>\n",
              "      <td>0</td>\n",
              "    </tr>\n",
              "  </tbody>\n",
              "</table>\n",
              "</div>"
            ],
            "text/plain": [
              "      index    id  ...                                               text target\n",
              "293     498   721  ...  IK Only Troll His Pol Rivals Never Literally A...      0\n",
              "5894   5461  7789  ...  CNN: Tennessee movie theater shooting suspect ...      1\n",
              "5001   2013  2889  ...  REPORTED: HIT &amp; RUN-IN ROADWAY-PROPERTY DA...      1\n",
              "1286   2062  2956  ...  i miss my longer hair..but it was so dead anyw...      0\n",
              "52      104   151  ...  320 [IR] ICEMOON [AFTERSHOCK] | http://t.co/yN...      0\n",
              "\n",
              "[5 rows x 6 columns]"
            ]
          },
          "metadata": {
            "tags": []
          },
          "execution_count": 11
        }
      ]
    },
    {
      "cell_type": "code",
      "metadata": {
        "colab": {
          "base_uri": "https://localhost:8080/",
          "height": 265
        },
        "id": "hwsNXQdieSqF",
        "outputId": "ac80739c-0a08-4bdb-e3ce-6746e00065fa"
      },
      "source": [
        "df['target'].hist();"
      ],
      "execution_count": null,
      "outputs": [
        {
          "output_type": "display_data",
          "data": {
            "image/png": "[encoded data removed]",
            "text/plain": [
              "<Figure size 432x288 with 1 Axes>"
            ]
          },
          "metadata": {
            "tags": [],
            "needs_background": "light"
          }
        }
      ]
    },
    {
      "cell_type": "markdown",
      "metadata": {
        "id": "rlM78YvTeUaC"
      },
      "source": [
        "# Tokenization"
      ]
    },
    {
      "cell_type": "code",
      "metadata": {
        "id": "iJlTBZqPU_X9",
        "colab": {
          "base_uri": "https://localhost:8080/",
          "height": 166,
          "referenced_widgets": [
            "bd5fb948ccc54e6a93aee714afe8d459",
            "81bb652d91474d9f95dbcd7f95fe42b1",
            "4a83d93e95224d618bdd522a5f159529",
            "c9b3ce974c3d4b7f9d93ef4799685336",
            "6e4373d26c7f44b383123cf28695fa3d",
            "a6e5aff0d37842b28ca627c5615f0284",
            "47cb0be7643a4e4e9183af64443d3367",
            "3e90f5071a07426ba8c84beab24adf26",
            "7fd2949edbbd4716b463e4e16989f3e8",
            "3e4ba0c3a53a4da9b61034879166513c",
            "434d2f3362c74c9a947a8c7140b131c0",
            "d2aebde0ac7f4e578d67f8352db0c14a",
            "e5edfef5379846299c449c8e5b0db10e",
            "f6cefdcc9ae54fb2b78487438e3bef12",
            "e3b981216d9c4fab99df49af3cb4e0ee",
            "53a9a3748305444e95affddabc2460cb",
            "d9e3fbebee3a48bf8bb3af09b8ae568f",
            "4212bf236f76400bbc34f0ad8f265cc6",
            "7a57743c90a347a9a35309311202a1a8",
            "ef7bc619e05d40448986b5e9d96f878e",
            "47a4db07172444e28380f8e478a8cab5",
            "3f25ad659df94a9fab8869ef08d26cde",
            "943bd453e6f244b3b3a7374f8aacceaa",
            "45ed2cb00efe4f0fb44d7464d4e7efe3"
          ]
        },
        "outputId": "02f5a741-c20a-4dd7-a797-70abb770a6ed"
      },
      "source": [
        "from transformers import BertTokenizer\n",
        "tokenizer = BertTokenizer.from_pretrained('bert-large-cased', do_lower_case = True)"
      ],
      "execution_count": null,
      "outputs": [
        {
          "output_type": "display_data",
          "data": {
            "application/vnd.jupyter.widget-view+json": {
              "model_id": "bd5fb948ccc54e6a93aee714afe8d459",
              "version_minor": 0,
              "version_major": 2
            },
            "text/plain": [
              "HBox(children=(FloatProgress(value=0.0, description='Downloading', max=213450.0, style=ProgressStyle(descripti…"
            ]
          },
          "metadata": {
            "tags": []
          }
        },
        {
          "output_type": "stream",
          "text": [
            "\n"
          ],
          "name": "stdout"
        },
        {
          "output_type": "display_data",
          "data": {
            "application/vnd.jupyter.widget-view+json": {
              "model_id": "7fd2949edbbd4716b463e4e16989f3e8",
              "version_minor": 0,
              "version_major": 2
            },
            "text/plain": [
              "HBox(children=(FloatProgress(value=0.0, description='Downloading', max=29.0, style=ProgressStyle(description_w…"
            ]
          },
          "metadata": {
            "tags": []
          }
        },
        {
          "output_type": "stream",
          "text": [
            "\n"
          ],
          "name": "stdout"
        },
        {
          "output_type": "display_data",
          "data": {
            "application/vnd.jupyter.widget-view+json": {
              "model_id": "d9e3fbebee3a48bf8bb3af09b8ae568f",
              "version_minor": 0,
              "version_major": 2
            },
            "text/plain": [
              "HBox(children=(FloatProgress(value=0.0, description='Downloading', max=435797.0, style=ProgressStyle(descripti…"
            ]
          },
          "metadata": {
            "tags": []
          }
        },
        {
          "output_type": "stream",
          "text": [
            "\n"
          ],
          "name": "stdout"
        }
      ]
    },
    {
      "cell_type": "code",
      "metadata": {
        "colab": {
          "base_uri": "https://localhost:8080/"
        },
        "id": "QEY8_gy6gNpu",
        "outputId": "32fd4b4f-932a-4ed3-e617-f5dd758287cd"
      },
      "source": [
        "sentence = df.loc[0, 'text']\n",
        "\n",
        "print(sentence)\n",
        "print(tokenizer.tokenize(sentence))\n",
        "print(tokenizer.convert_tokens_to_ids(tokenizer.tokenize(sentence)))"
      ],
      "execution_count": null,
      "outputs": [
        {
          "output_type": "stream",
          "text": [
            "What's up man?\n",
            "['what', \"'\", 's', 'up', 'man', '?']\n",
            "[1184, 112, 188, 1146, 1299, 136]\n"
          ],
          "name": "stdout"
        }
      ]
    },
    {
      "cell_type": "code",
      "metadata": {
        "colab": {
          "base_uri": "https://localhost:8080/"
        },
        "id": "QgmlIEDigYm2",
        "outputId": "d5bcbc4a-6166-427f-b501-256c209e85aa"
      },
      "source": [
        "print(tokenizer.encode(sentence))"
      ],
      "execution_count": null,
      "outputs": [
        {
          "output_type": "stream",
          "text": [
            "[101, 1184, 112, 188, 1146, 1299, 136, 102]\n"
          ],
          "name": "stdout"
        }
      ]
    },
    {
      "cell_type": "code",
      "metadata": {
        "colab": {
          "base_uri": "https://localhost:8080/"
        },
        "id": "J0IwVscsiO_-",
        "outputId": "f62e626e-1d57-4048-ed63-3e83f4b80601"
      },
      "source": [
        "print(tokenizer.encode_plus(sentence))"
      ],
      "execution_count": null,
      "outputs": [
        {
          "output_type": "stream",
          "text": [
            "{'input_ids': [101, 1184, 112, 188, 1146, 1299, 136, 102], 'token_type_ids': [0, 0, 0, 0, 0, 0, 0, 0], 'attention_mask': [1, 1, 1, 1, 1, 1, 1, 1]}\n"
          ],
          "name": "stdout"
        }
      ]
    },
    {
      "cell_type": "code",
      "metadata": {
        "id": "W-4h_jHAgRGL",
        "colab": {
          "base_uri": "https://localhost:8080/"
        },
        "outputId": "6a6abdb8-9d4e-4d71-bba5-de4eeb062655"
      },
      "source": [
        "import re\n",
        "import nltk\n",
        "from nltk.corpus import stopwords\n",
        "from nltk.tokenize import word_tokenize\n",
        "from string import punctuation, digits\n",
        "\n",
        "nltk.download('stopwords')\n",
        "\n",
        "def remove_punctuation(s):\n",
        "    list_punctuation = list(punctuation)\n",
        "    for i in list_punctuation:\n",
        "        s = s.replace(i,'')\n",
        "    return s.lower()\n",
        "\n",
        "def clean_sentence(sentence, ):\n",
        "    sentence = sentence.lower()\n",
        "    sentence = re.sub(r'(\\W)\\1{2,}', r'\\1', sentence) \n",
        "    sentence = re.sub(r'(\\w)\\1{2,}', r'\\1\\1', sentence)\n",
        "    sentence = re.sub(r'(?P<url>https?://[^\\s]+)', '', sentence) # remove URL adresses\n",
        "    # sentence = re.sub(r\"\\@(\\w+)\", '', sentence) # remove usernames\n",
        "    # sentence = re.sub(r\"\\#(\\w+)\", '', sentence) # remove hashtags\n",
        "    # sentence = re.sub(r\"\\$(\\w+)\", '', sentence) # remove cashtags\n",
        "    sentence = sentence.replace(\"-\",' ')\n",
        "    tokens = sentence.split()\n",
        "    # tokens = [remove_punctuation(w) for w in tokens] # remove punctuations\n",
        "    stop_words = set(stopwords.words('english')) # remove stopwords\n",
        "    tokens = [w for w in tokens if not w in stop_words]\n",
        "    # remove_digits = str.maketrans('', '', digits)\n",
        "    # tokens = [w.translate(remove_digits) for w in tokens]\n",
        "    tokens = [w.strip() for w in tokens]\n",
        "    tokens = [w for w in tokens if w!=\"\"]\n",
        "    tokens = ' '.join(tokens)\n",
        "    tokens = tokens.replace(\"â\", \"\")\n",
        "    tokens = tokens.replace(\"@\", \"\")\n",
        "    tokens = tokens.replace(\"#\", \"\")\n",
        "    tokens = tokens.replace(\"$\", \"\")\n",
        "    return tokens\n",
        "\n",
        "# clean_sentence(df.loc[4673, 'text'])\n",
        "\n",
        "df['text'] = df['text'].apply(clean_sentence)\n",
        "# df"
      ],
      "execution_count": null,
      "outputs": [
        {
          "output_type": "stream",
          "text": [
            "[nltk_data] Downloading package stopwords to /root/nltk_data...\n",
            "[nltk_data]   Package stopwords is already up-to-date!\n"
          ],
          "name": "stdout"
        }
      ]
    },
    {
      "cell_type": "code",
      "metadata": {
        "colab": {
          "base_uri": "https://localhost:8080/",
          "height": 430
        },
        "id": "K5UZNoTSlt2E",
        "outputId": "60a7a8fa-89e7-4e7d-dd48-4edd8fba6f4c"
      },
      "source": [
        "df.sample(10)"
      ],
      "execution_count": null,
      "outputs": [
        {
          "output_type": "execute_result",
          "data": {
            "text/html": [
              "<div>\n",
              "<style scoped>\n",
              "    .dataframe tbody tr th:only-of-type {\n",
              "        vertical-align: middle;\n",
              "    }\n",
              "\n",
              "    .dataframe tbody tr th {\n",
              "        vertical-align: top;\n",
              "    }\n",
              "\n",
              "    .dataframe thead th {\n",
              "        text-align: right;\n",
              "    }\n",
              "</style>\n",
              "<table border=\"1\" class=\"dataframe\">\n",
              "  <thead>\n",
              "    <tr style=\"text-align: right;\">\n",
              "      <th></th>\n",
              "      <th>index</th>\n",
              "      <th>id</th>\n",
              "      <th>keyword</th>\n",
              "      <th>location</th>\n",
              "      <th>text</th>\n",
              "      <th>target</th>\n",
              "    </tr>\n",
              "  </thead>\n",
              "  <tbody>\n",
              "    <tr>\n",
              "      <th>3633</th>\n",
              "      <td>6215</td>\n",
              "      <td>8866</td>\n",
              "      <td>smoke</td>\n",
              "      <td>WORLDWI$E</td>\n",
              "      <td>smoke much lmao scared text number bck makes s...</td>\n",
              "      <td>0</td>\n",
              "    </tr>\n",
              "    <tr>\n",
              "      <th>1089</th>\n",
              "      <td>1754</td>\n",
              "      <td>2523</td>\n",
              "      <td>collision</td>\n",
              "      <td>Irving , Texas</td>\n",
              "      <td>anti collision rear technology cool via teches...</td>\n",
              "      <td>0</td>\n",
              "    </tr>\n",
              "    <tr>\n",
              "      <th>3117</th>\n",
              "      <td>5386</td>\n",
              "      <td>7686</td>\n",
              "      <td>panic</td>\n",
              "      <td>Milwaukee WI</td>\n",
              "      <td>someone asked monkey fist 2 feet long panic sn...</td>\n",
              "      <td>0</td>\n",
              "    </tr>\n",
              "    <tr>\n",
              "      <th>868</th>\n",
              "      <td>1342</td>\n",
              "      <td>1940</td>\n",
              "      <td>burning%20buildings</td>\n",
              "      <td>NaN</td>\n",
              "      <td>hero's fight wars save ppl burning buildings e...</td>\n",
              "      <td>0</td>\n",
              "    </tr>\n",
              "    <tr>\n",
              "      <th>3625</th>\n",
              "      <td>6206</td>\n",
              "      <td>8856</td>\n",
              "      <td>smoke</td>\n",
              "      <td>NaN</td>\n",
              "      <td>2014 smoke crqck becyme mayor. includes foursq...</td>\n",
              "      <td>0</td>\n",
              "    </tr>\n",
              "    <tr>\n",
              "      <th>6002</th>\n",
              "      <td>1661</td>\n",
              "      <td>2398</td>\n",
              "      <td>collapsed</td>\n",
              "      <td>From NY. In Scranton, PA</td>\n",
              "      <td>apparently part building collapsed. hope every...</td>\n",
              "      <td>1</td>\n",
              "    </tr>\n",
              "    <tr>\n",
              "      <th>1262</th>\n",
              "      <td>2032</td>\n",
              "      <td>2916</td>\n",
              "      <td>danger</td>\n",
              "      <td>Brooklyn, NY</td>\n",
              "      <td>take away: preservation parks r imposition &amp;am...</td>\n",
              "      <td>0</td>\n",
              "    </tr>\n",
              "    <tr>\n",
              "      <th>4703</th>\n",
              "      <td>7421</td>\n",
              "      <td>10615</td>\n",
              "      <td>wounded</td>\n",
              "      <td>Yogya Berhati Nyaman</td>\n",
              "      <td>wocowae police officer wounded suspect dead ex...</td>\n",
              "      <td>1</td>\n",
              "    </tr>\n",
              "    <tr>\n",
              "      <th>2274</th>\n",
              "      <td>3843</td>\n",
              "      <td>5468</td>\n",
              "      <td>flames</td>\n",
              "      <td>Manhattan, NY</td>\n",
              "      <td>'if can't summon flames directly hell store bo...</td>\n",
              "      <td>0</td>\n",
              "    </tr>\n",
              "    <tr>\n",
              "      <th>8343</th>\n",
              "      <td>2791</td>\n",
              "      <td>4017</td>\n",
              "      <td>disaster</td>\n",
              "      <td>Nigeria</td>\n",
              "      <td>cw500: dealing disaster</td>\n",
              "      <td>1</td>\n",
              "    </tr>\n",
              "  </tbody>\n",
              "</table>\n",
              "</div>"
            ],
            "text/plain": [
              "      index     id  ...                                               text target\n",
              "3633   6215   8866  ...  smoke much lmao scared text number bck makes s...      0\n",
              "1089   1754   2523  ...  anti collision rear technology cool via teches...      0\n",
              "3117   5386   7686  ...  someone asked monkey fist 2 feet long panic sn...      0\n",
              "868    1342   1940  ...  hero's fight wars save ppl burning buildings e...      0\n",
              "3625   6206   8856  ...  2014 smoke crqck becyme mayor. includes foursq...      0\n",
              "6002   1661   2398  ...  apparently part building collapsed. hope every...      1\n",
              "1262   2032   2916  ...  take away: preservation parks r imposition &am...      0\n",
              "4703   7421  10615  ...  wocowae police officer wounded suspect dead ex...      1\n",
              "2274   3843   5468  ...  'if can't summon flames directly hell store bo...      0\n",
              "8343   2791   4017  ...                            cw500: dealing disaster      1\n",
              "\n",
              "[10 rows x 6 columns]"
            ]
          },
          "metadata": {
            "tags": []
          },
          "execution_count": 26
        }
      ]
    },
    {
      "cell_type": "code",
      "metadata": {
        "id": "Mncrw4pxnoY5"
      },
      "source": [
        "class Config:\n",
        "    batch_size = 32\n",
        "    max_len = 0"
      ],
      "execution_count": null,
      "outputs": []
    },
    {
      "cell_type": "code",
      "metadata": {
        "colab": {
          "base_uri": "https://localhost:8080/"
        },
        "id": "S2pHQb_bhYo7",
        "outputId": "fff35246-ca46-4e4e-d35f-cc45824b3923"
      },
      "source": [
        "Config.max_len = 0\n",
        "\n",
        "for sent in df.loc[:, 'text']:\n",
        "    sent = tokenizer.encode(sent, add_special_tokens = True)\n",
        "    Config.max_len = max(Config.max_len, len(sent))\n",
        "\n",
        "Config.max_len"
      ],
      "execution_count": null,
      "outputs": [
        {
          "output_type": "execute_result",
          "data": {
            "text/plain": [
              "71"
            ]
          },
          "metadata": {
            "tags": []
          },
          "execution_count": 28
        }
      ]
    },
    {
      "cell_type": "code",
      "metadata": {
        "id": "-8civ12-iApn"
      },
      "source": [
        "input_ids = torch.tensor([])\n",
        "attention_masks = torch.tensor([])\n",
        "\n",
        "for sent in df.loc[:, 'text']:\n",
        "    encoded_sent = tokenizer.encode_plus(sent, add_special_tokens = True,\n",
        "                                         max_length = Config.max_len, padding = 'max_length',\n",
        "                                         return_tensors = 'pt')\n",
        "    input_ids = torch.cat([input_ids, encoded_sent['input_ids']])\n",
        "    attention_masks = torch.cat([attention_masks, encoded_sent['attention_mask']])"
      ],
      "execution_count": null,
      "outputs": []
    },
    {
      "cell_type": "code",
      "metadata": {
        "colab": {
          "base_uri": "https://localhost:8080/"
        },
        "id": "6I_9DBmViD0x",
        "outputId": "3f2c78cd-e094-45eb-c454-89c6e8401056"
      },
      "source": [
        "input_ids"
      ],
      "execution_count": null,
      "outputs": [
        {
          "output_type": "execute_result",
          "data": {
            "text/plain": [
              "tensor([[  101.,  1184.,   112.,  ...,     0.,     0.,     0.],\n",
              "        [  101.,  1567., 11669.,  ...,     0.,     0.,     0.],\n",
              "        [  101.,  2247.,  9020.,  ...,     0.,     0.,     0.],\n",
              "        ...,\n",
              "        [  101.,  9605.,  4680.,  ...,     0.,     0.,     0.],\n",
              "        [  101.,  2824.,  3871.,  ...,     0.,     0.,     0.],\n",
              "        [  101., 20454.,  2737.,  ...,     0.,     0.,     0.]])"
            ]
          },
          "metadata": {
            "tags": []
          },
          "execution_count": 30
        }
      ]
    },
    {
      "cell_type": "code",
      "metadata": {
        "colab": {
          "base_uri": "https://localhost:8080/"
        },
        "id": "SdAWyPVViD3x",
        "outputId": "446558db-34ac-4c08-b589-796d5bfedeed"
      },
      "source": [
        "attention_masks"
      ],
      "execution_count": null,
      "outputs": [
        {
          "output_type": "execute_result",
          "data": {
            "text/plain": [
              "tensor([[1., 1., 1.,  ..., 0., 0., 0.],\n",
              "        [1., 1., 1.,  ..., 0., 0., 0.],\n",
              "        [1., 1., 1.,  ..., 0., 0., 0.],\n",
              "        ...,\n",
              "        [1., 1., 1.,  ..., 0., 0., 0.],\n",
              "        [1., 1., 1.,  ..., 0., 0., 0.],\n",
              "        [1., 1., 1.,  ..., 0., 0., 0.]])"
            ]
          },
          "metadata": {
            "tags": []
          },
          "execution_count": 31
        }
      ]
    },
    {
      "cell_type": "code",
      "metadata": {
        "colab": {
          "base_uri": "https://localhost:8080/"
        },
        "id": "MOq4iNJviD61",
        "outputId": "48815728-0e68-4d1e-e6d4-48455288fdee"
      },
      "source": [
        "labels = torch.tensor(df['target'])\n",
        "labels"
      ],
      "execution_count": null,
      "outputs": [
        {
          "output_type": "execute_result",
          "data": {
            "text/plain": [
              "tensor([0, 0, 0,  ..., 1, 1, 1])"
            ]
          },
          "metadata": {
            "tags": []
          },
          "execution_count": 32
        }
      ]
    },
    {
      "cell_type": "code",
      "metadata": {
        "id": "80DIJNZHiD9d"
      },
      "source": [
        "from torch.utils.data import TensorDataset, random_split\n",
        "\n",
        "dataset = TensorDataset(input_ids, attention_masks, labels)\n",
        "val_size = int(0.1 * len(dataset))\n",
        "train_size = len(dataset) - val_size\n",
        "\n",
        "train_dataset, val_dataset = random_split(dataset, [train_size, val_size])"
      ],
      "execution_count": null,
      "outputs": []
    },
    {
      "cell_type": "code",
      "metadata": {
        "colab": {
          "base_uri": "https://localhost:8080/"
        },
        "id": "Ucxhm-C0lp4P",
        "outputId": "a399b6de-3304-452c-ed2b-a99e683d2b48"
      },
      "source": [
        "len(train_dataset), len(val_dataset)"
      ],
      "execution_count": null,
      "outputs": [
        {
          "output_type": "execute_result",
          "data": {
            "text/plain": [
              "(7816, 868)"
            ]
          },
          "metadata": {
            "tags": []
          },
          "execution_count": 34
        }
      ]
    },
    {
      "cell_type": "code",
      "metadata": {
        "id": "EMgKRNAylp8g"
      },
      "source": [
        "from torch.utils.data import DataLoader, RandomSampler, SequentialSampler\n",
        "\n",
        "train_loader = DataLoader(train_dataset, sampler = RandomSampler(train_dataset), batch_size = Config.batch_size)\n",
        "val_loader = DataLoader(val_dataset, sampler = SequentialSampler(val_dataset), batch_size = Config.batch_size)"
      ],
      "execution_count": null,
      "outputs": []
    },
    {
      "cell_type": "code",
      "metadata": {
        "colab": {
          "base_uri": "https://localhost:8080/"
        },
        "id": "T5NJrh0hm61f",
        "outputId": "d3908d3a-8098-49c9-9aa2-7319b9d4e59b"
      },
      "source": [
        "next(iter(val_loader))"
      ],
      "execution_count": null,
      "outputs": [
        {
          "output_type": "execute_result",
          "data": {
            "text/plain": [
              "[tensor([[  101.,   112.,  1561.,  ...,     0.,     0.,     0.],\n",
              "         [  101., 20013.,  2633.,  ...,     0.,     0.,     0.],\n",
              "         [  101.,   196.,   131.,  ...,     0.,     0.,     0.],\n",
              "         ...,\n",
              "         [  101.,   176.,  7836.,  ...,     0.,     0.,     0.],\n",
              "         [  101.,  9468.,  1197.,  ...,     0.,     0.,     0.],\n",
              "         [  101.,   187.,  1204.,  ...,     0.,     0.,     0.]]),\n",
              " tensor([[1., 1., 1.,  ..., 0., 0., 0.],\n",
              "         [1., 1., 1.,  ..., 0., 0., 0.],\n",
              "         [1., 1., 1.,  ..., 0., 0., 0.],\n",
              "         ...,\n",
              "         [1., 1., 1.,  ..., 0., 0., 0.],\n",
              "         [1., 1., 1.,  ..., 0., 0., 0.],\n",
              "         [1., 1., 1.,  ..., 0., 0., 0.]]),\n",
              " tensor([0, 0, 1, 0, 0, 0, 0, 1, 0, 0, 0, 1, 0, 0, 0, 1, 0, 0, 1, 1, 1, 1, 1, 0,\n",
              "         0, 0, 1, 0, 1, 1, 1, 1])]"
            ]
          },
          "metadata": {
            "tags": []
          },
          "execution_count": 36
        }
      ]
    },
    {
      "cell_type": "markdown",
      "metadata": {
        "id": "OUjdpaK6qIA3"
      },
      "source": [
        "# BERT"
      ]
    },
    {
      "cell_type": "code",
      "metadata": {
        "colab": {
          "base_uri": "https://localhost:8080/",
          "height": 1000,
          "referenced_widgets": [
            "a61dc2acffc34d5a81ee754174997477",
            "058c221e83d544efa3bf707b6619e9d2",
            "cf9d59ab673c44bc9ce67343dd224945",
            "2363f7c1e022431b8f85df1d0202eff2",
            "1a6b17f7b1fa42a28cab52f48664533a",
            "abcdbe66cc4c4b589988fdcf7aaa7f2d",
            "2173047830f74035a852c3370bc74d54",
            "8b4b67bfcd874ae39bc9620208cc20c5"
          ]
        },
        "id": "3ZygkYYfm64v",
        "outputId": "76b00067-dc63-4b96-b696-1e8600a71047"
      },
      "source": [
        "from transformers import BertForSequenceClassification, AdamW, BertConfig\n",
        "\n",
        "bert_model = BertForSequenceClassification.from_pretrained(\n",
        "    'bert-base-cased',\n",
        "    num_labels = 2,\n",
        "    output_attentions = False,\n",
        "    output_hidden_states = False\n",
        ")\n",
        "\n",
        "bert_model.to(device)"
      ],
      "execution_count": null,
      "outputs": [
        {
          "output_type": "display_data",
          "data": {
            "application/vnd.jupyter.widget-view+json": {
              "model_id": "a61dc2acffc34d5a81ee754174997477",
              "version_minor": 0,
              "version_major": 2
            },
            "text/plain": [
              "HBox(children=(FloatProgress(value=0.0, description='Downloading', max=435779157.0, style=ProgressStyle(descri…"
            ]
          },
          "metadata": {
            "tags": []
          }
        },
        {
          "output_type": "stream",
          "text": [
            "\n"
          ],
          "name": "stdout"
        },
        {
          "output_type": "stream",
          "text": [
            "Some weights of the model checkpoint at bert-base-cased were not used when initializing BertForSequenceClassification: ['cls.seq_relationship.bias', 'cls.predictions.transform.dense.bias', 'cls.predictions.bias', 'cls.predictions.transform.LayerNorm.weight', 'cls.predictions.transform.dense.weight', 'cls.predictions.transform.LayerNorm.bias', 'cls.seq_relationship.weight', 'cls.predictions.decoder.weight']\n",
            "- This IS expected if you are initializing BertForSequenceClassification from the checkpoint of a model trained on another task or with another architecture (e.g. initializing a BertForSequenceClassification model from a BertForPreTraining model).\n",
            "- This IS NOT expected if you are initializing BertForSequenceClassification from the checkpoint of a model that you expect to be exactly identical (initializing a BertForSequenceClassification model from a BertForSequenceClassification model).\n",
            "Some weights of BertForSequenceClassification were not initialized from the model checkpoint at bert-base-cased and are newly initialized: ['classifier.weight', 'classifier.bias']\n",
            "You should probably TRAIN this model on a down-stream task to be able to use it for predictions and inference.\n"
          ],
          "name": "stderr"
        },
        {
          "output_type": "execute_result",
          "data": {
            "text/plain": [
              "BertForSequenceClassification(\n",
              "  (bert): BertModel(\n",
              "    (embeddings): BertEmbeddings(\n",
              "      (word_embeddings): Embedding(28996, 768, padding_idx=0)\n",
              "      (position_embeddings): Embedding(512, 768)\n",
              "      (token_type_embeddings): Embedding(2, 768)\n",
              "      (LayerNorm): LayerNorm((768,), eps=1e-12, elementwise_affine=True)\n",
              "      (dropout): Dropout(p=0.1, inplace=False)\n",
              "    )\n",
              "    (encoder): BertEncoder(\n",
              "      (layer): ModuleList(\n",
              "        (0): BertLayer(\n",
              "          (attention): BertAttention(\n",
              "            (self): BertSelfAttention(\n",
              "              (query): Linear(in_features=768, out_features=768, bias=True)\n",
              "              (key): Linear(in_features=768, out_features=768, bias=True)\n",
              "              (value): Linear(in_features=768, out_features=768, bias=True)\n",
              "              (dropout): Dropout(p=0.1, inplace=False)\n",
              "            )\n",
              "            (output): BertSelfOutput(\n",
              "              (dense): Linear(in_features=768, out_features=768, bias=True)\n",
              "              (LayerNorm): LayerNorm((768,), eps=1e-12, elementwise_affine=True)\n",
              "              (dropout): Dropout(p=0.1, inplace=False)\n",
              "            )\n",
              "          )\n",
              "          (intermediate): BertIntermediate(\n",
              "            (dense): Linear(in_features=768, out_features=3072, bias=True)\n",
              "          )\n",
              "          (output): BertOutput(\n",
              "            (dense): Linear(in_features=3072, out_features=768, bias=True)\n",
              "            (LayerNorm): LayerNorm((768,), eps=1e-12, elementwise_affine=True)\n",
              "            (dropout): Dropout(p=0.1, inplace=False)\n",
              "          )\n",
              "        )\n",
              "        (1): BertLayer(\n",
              "          (attention): BertAttention(\n",
              "            (self): BertSelfAttention(\n",
              "              (query): Linear(in_features=768, out_features=768, bias=True)\n",
              "              (key): Linear(in_features=768, out_features=768, bias=True)\n",
              "              (value): Linear(in_features=768, out_features=768, bias=True)\n",
              "              (dropout): Dropout(p=0.1, inplace=False)\n",
              "            )\n",
              "            (output): BertSelfOutput(\n",
              "              (dense): Linear(in_features=768, out_features=768, bias=True)\n",
              "              (LayerNorm): LayerNorm((768,), eps=1e-12, elementwise_affine=True)\n",
              "              (dropout): Dropout(p=0.1, inplace=False)\n",
              "            )\n",
              "          )\n",
              "          (intermediate): BertIntermediate(\n",
              "            (dense): Linear(in_features=768, out_features=3072, bias=True)\n",
              "          )\n",
              "          (output): BertOutput(\n",
              "            (dense): Linear(in_features=3072, out_features=768, bias=True)\n",
              "            (LayerNorm): LayerNorm((768,), eps=1e-12, elementwise_affine=True)\n",
              "            (dropout): Dropout(p=0.1, inplace=False)\n",
              "          )\n",
              "        )\n",
              "        (2): BertLayer(\n",
              "          (attention): BertAttention(\n",
              "            (self): BertSelfAttention(\n",
              "              (query): Linear(in_features=768, out_features=768, bias=True)\n",
              "              (key): Linear(in_features=768, out_features=768, bias=True)\n",
              "              (value): Linear(in_features=768, out_features=768, bias=True)\n",
              "              (dropout): Dropout(p=0.1, inplace=False)\n",
              "            )\n",
              "            (output): BertSelfOutput(\n",
              "              (dense): Linear(in_features=768, out_features=768, bias=True)\n",
              "              (LayerNorm): LayerNorm((768,), eps=1e-12, elementwise_affine=True)\n",
              "              (dropout): Dropout(p=0.1, inplace=False)\n",
              "            )\n",
              "          )\n",
              "          (intermediate): BertIntermediate(\n",
              "            (dense): Linear(in_features=768, out_features=3072, bias=True)\n",
              "          )\n",
              "          (output): BertOutput(\n",
              "            (dense): Linear(in_features=3072, out_features=768, bias=True)\n",
              "            (LayerNorm): LayerNorm((768,), eps=1e-12, elementwise_affine=True)\n",
              "            (dropout): Dropout(p=0.1, inplace=False)\n",
              "          )\n",
              "        )\n",
              "        (3): BertLayer(\n",
              "          (attention): BertAttention(\n",
              "            (self): BertSelfAttention(\n",
              "              (query): Linear(in_features=768, out_features=768, bias=True)\n",
              "              (key): Linear(in_features=768, out_features=768, bias=True)\n",
              "              (value): Linear(in_features=768, out_features=768, bias=True)\n",
              "              (dropout): Dropout(p=0.1, inplace=False)\n",
              "            )\n",
              "            (output): BertSelfOutput(\n",
              "              (dense): Linear(in_features=768, out_features=768, bias=True)\n",
              "              (LayerNorm): LayerNorm((768,), eps=1e-12, elementwise_affine=True)\n",
              "              (dropout): Dropout(p=0.1, inplace=False)\n",
              "            )\n",
              "          )\n",
              "          (intermediate): BertIntermediate(\n",
              "            (dense): Linear(in_features=768, out_features=3072, bias=True)\n",
              "          )\n",
              "          (output): BertOutput(\n",
              "            (dense): Linear(in_features=3072, out_features=768, bias=True)\n",
              "            (LayerNorm): LayerNorm((768,), eps=1e-12, elementwise_affine=True)\n",
              "            (dropout): Dropout(p=0.1, inplace=False)\n",
              "          )\n",
              "        )\n",
              "        (4): BertLayer(\n",
              "          (attention): BertAttention(\n",
              "            (self): BertSelfAttention(\n",
              "              (query): Linear(in_features=768, out_features=768, bias=True)\n",
              "              (key): Linear(in_features=768, out_features=768, bias=True)\n",
              "              (value): Linear(in_features=768, out_features=768, bias=True)\n",
              "              (dropout): Dropout(p=0.1, inplace=False)\n",
              "            )\n",
              "            (output): BertSelfOutput(\n",
              "              (dense): Linear(in_features=768, out_features=768, bias=True)\n",
              "              (LayerNorm): LayerNorm((768,), eps=1e-12, elementwise_affine=True)\n",
              "              (dropout): Dropout(p=0.1, inplace=False)\n",
              "            )\n",
              "          )\n",
              "          (intermediate): BertIntermediate(\n",
              "            (dense): Linear(in_features=768, out_features=3072, bias=True)\n",
              "          )\n",
              "          (output): BertOutput(\n",
              "            (dense): Linear(in_features=3072, out_features=768, bias=True)\n",
              "            (LayerNorm): LayerNorm((768,), eps=1e-12, elementwise_affine=True)\n",
              "            (dropout): Dropout(p=0.1, inplace=False)\n",
              "          )\n",
              "        )\n",
              "        (5): BertLayer(\n",
              "          (attention): BertAttention(\n",
              "            (self): BertSelfAttention(\n",
              "              (query): Linear(in_features=768, out_features=768, bias=True)\n",
              "              (key): Linear(in_features=768, out_features=768, bias=True)\n",
              "              (value): Linear(in_features=768, out_features=768, bias=True)\n",
              "              (dropout): Dropout(p=0.1, inplace=False)\n",
              "            )\n",
              "            (output): BertSelfOutput(\n",
              "              (dense): Linear(in_features=768, out_features=768, bias=True)\n",
              "              (LayerNorm): LayerNorm((768,), eps=1e-12, elementwise_affine=True)\n",
              "              (dropout): Dropout(p=0.1, inplace=False)\n",
              "            )\n",
              "          )\n",
              "          (intermediate): BertIntermediate(\n",
              "            (dense): Linear(in_features=768, out_features=3072, bias=True)\n",
              "          )\n",
              "          (output): BertOutput(\n",
              "            (dense): Linear(in_features=3072, out_features=768, bias=True)\n",
              "            (LayerNorm): LayerNorm((768,), eps=1e-12, elementwise_affine=True)\n",
              "            (dropout): Dropout(p=0.1, inplace=False)\n",
              "          )\n",
              "        )\n",
              "        (6): BertLayer(\n",
              "          (attention): BertAttention(\n",
              "            (self): BertSelfAttention(\n",
              "              (query): Linear(in_features=768, out_features=768, bias=True)\n",
              "              (key): Linear(in_features=768, out_features=768, bias=True)\n",
              "              (value): Linear(in_features=768, out_features=768, bias=True)\n",
              "              (dropout): Dropout(p=0.1, inplace=False)\n",
              "            )\n",
              "            (output): BertSelfOutput(\n",
              "              (dense): Linear(in_features=768, out_features=768, bias=True)\n",
              "              (LayerNorm): LayerNorm((768,), eps=1e-12, elementwise_affine=True)\n",
              "              (dropout): Dropout(p=0.1, inplace=False)\n",
              "            )\n",
              "          )\n",
              "          (intermediate): BertIntermediate(\n",
              "            (dense): Linear(in_features=768, out_features=3072, bias=True)\n",
              "          )\n",
              "          (output): BertOutput(\n",
              "            (dense): Linear(in_features=3072, out_features=768, bias=True)\n",
              "            (LayerNorm): LayerNorm((768,), eps=1e-12, elementwise_affine=True)\n",
              "            (dropout): Dropout(p=0.1, inplace=False)\n",
              "          )\n",
              "        )\n",
              "        (7): BertLayer(\n",
              "          (attention): BertAttention(\n",
              "            (self): BertSelfAttention(\n",
              "              (query): Linear(in_features=768, out_features=768, bias=True)\n",
              "              (key): Linear(in_features=768, out_features=768, bias=True)\n",
              "              (value): Linear(in_features=768, out_features=768, bias=True)\n",
              "              (dropout): Dropout(p=0.1, inplace=False)\n",
              "            )\n",
              "            (output): BertSelfOutput(\n",
              "              (dense): Linear(in_features=768, out_features=768, bias=True)\n",
              "              (LayerNorm): LayerNorm((768,), eps=1e-12, elementwise_affine=True)\n",
              "              (dropout): Dropout(p=0.1, inplace=False)\n",
              "            )\n",
              "          )\n",
              "          (intermediate): BertIntermediate(\n",
              "            (dense): Linear(in_features=768, out_features=3072, bias=True)\n",
              "          )\n",
              "          (output): BertOutput(\n",
              "            (dense): Linear(in_features=3072, out_features=768, bias=True)\n",
              "            (LayerNorm): LayerNorm((768,), eps=1e-12, elementwise_affine=True)\n",
              "            (dropout): Dropout(p=0.1, inplace=False)\n",
              "          )\n",
              "        )\n",
              "        (8): BertLayer(\n",
              "          (attention): BertAttention(\n",
              "            (self): BertSelfAttention(\n",
              "              (query): Linear(in_features=768, out_features=768, bias=True)\n",
              "              (key): Linear(in_features=768, out_features=768, bias=True)\n",
              "              (value): Linear(in_features=768, out_features=768, bias=True)\n",
              "              (dropout): Dropout(p=0.1, inplace=False)\n",
              "            )\n",
              "            (output): BertSelfOutput(\n",
              "              (dense): Linear(in_features=768, out_features=768, bias=True)\n",
              "              (LayerNorm): LayerNorm((768,), eps=1e-12, elementwise_affine=True)\n",
              "              (dropout): Dropout(p=0.1, inplace=False)\n",
              "            )\n",
              "          )\n",
              "          (intermediate): BertIntermediate(\n",
              "            (dense): Linear(in_features=768, out_features=3072, bias=True)\n",
              "          )\n",
              "          (output): BertOutput(\n",
              "            (dense): Linear(in_features=3072, out_features=768, bias=True)\n",
              "            (LayerNorm): LayerNorm((768,), eps=1e-12, elementwise_affine=True)\n",
              "            (dropout): Dropout(p=0.1, inplace=False)\n",
              "          )\n",
              "        )\n",
              "        (9): BertLayer(\n",
              "          (attention): BertAttention(\n",
              "            (self): BertSelfAttention(\n",
              "              (query): Linear(in_features=768, out_features=768, bias=True)\n",
              "              (key): Linear(in_features=768, out_features=768, bias=True)\n",
              "              (value): Linear(in_features=768, out_features=768, bias=True)\n",
              "              (dropout): Dropout(p=0.1, inplace=False)\n",
              "            )\n",
              "            (output): BertSelfOutput(\n",
              "              (dense): Linear(in_features=768, out_features=768, bias=True)\n",
              "              (LayerNorm): LayerNorm((768,), eps=1e-12, elementwise_affine=True)\n",
              "              (dropout): Dropout(p=0.1, inplace=False)\n",
              "            )\n",
              "          )\n",
              "          (intermediate): BertIntermediate(\n",
              "            (dense): Linear(in_features=768, out_features=3072, bias=True)\n",
              "          )\n",
              "          (output): BertOutput(\n",
              "            (dense): Linear(in_features=3072, out_features=768, bias=True)\n",
              "            (LayerNorm): LayerNorm((768,), eps=1e-12, elementwise_affine=True)\n",
              "            (dropout): Dropout(p=0.1, inplace=False)\n",
              "          )\n",
              "        )\n",
              "        (10): BertLayer(\n",
              "          (attention): BertAttention(\n",
              "            (self): BertSelfAttention(\n",
              "              (query): Linear(in_features=768, out_features=768, bias=True)\n",
              "              (key): Linear(in_features=768, out_features=768, bias=True)\n",
              "              (value): Linear(in_features=768, out_features=768, bias=True)\n",
              "              (dropout): Dropout(p=0.1, inplace=False)\n",
              "            )\n",
              "            (output): BertSelfOutput(\n",
              "              (dense): Linear(in_features=768, out_features=768, bias=True)\n",
              "              (LayerNorm): LayerNorm((768,), eps=1e-12, elementwise_affine=True)\n",
              "              (dropout): Dropout(p=0.1, inplace=False)\n",
              "            )\n",
              "          )\n",
              "          (intermediate): BertIntermediate(\n",
              "            (dense): Linear(in_features=768, out_features=3072, bias=True)\n",
              "          )\n",
              "          (output): BertOutput(\n",
              "            (dense): Linear(in_features=3072, out_features=768, bias=True)\n",
              "            (LayerNorm): LayerNorm((768,), eps=1e-12, elementwise_affine=True)\n",
              "            (dropout): Dropout(p=0.1, inplace=False)\n",
              "          )\n",
              "        )\n",
              "        (11): BertLayer(\n",
              "          (attention): BertAttention(\n",
              "            (self): BertSelfAttention(\n",
              "              (query): Linear(in_features=768, out_features=768, bias=True)\n",
              "              (key): Linear(in_features=768, out_features=768, bias=True)\n",
              "              (value): Linear(in_features=768, out_features=768, bias=True)\n",
              "              (dropout): Dropout(p=0.1, inplace=False)\n",
              "            )\n",
              "            (output): BertSelfOutput(\n",
              "              (dense): Linear(in_features=768, out_features=768, bias=True)\n",
              "              (LayerNorm): LayerNorm((768,), eps=1e-12, elementwise_affine=True)\n",
              "              (dropout): Dropout(p=0.1, inplace=False)\n",
              "            )\n",
              "          )\n",
              "          (intermediate): BertIntermediate(\n",
              "            (dense): Linear(in_features=768, out_features=3072, bias=True)\n",
              "          )\n",
              "          (output): BertOutput(\n",
              "            (dense): Linear(in_features=3072, out_features=768, bias=True)\n",
              "            (LayerNorm): LayerNorm((768,), eps=1e-12, elementwise_affine=True)\n",
              "            (dropout): Dropout(p=0.1, inplace=False)\n",
              "          )\n",
              "        )\n",
              "      )\n",
              "    )\n",
              "    (pooler): BertPooler(\n",
              "      (dense): Linear(in_features=768, out_features=768, bias=True)\n",
              "      (activation): Tanh()\n",
              "    )\n",
              "  )\n",
              "  (dropout): Dropout(p=0.1, inplace=False)\n",
              "  (classifier): Linear(in_features=768, out_features=2, bias=True)\n",
              ")"
            ]
          },
          "metadata": {
            "tags": []
          },
          "execution_count": 42
        }
      ]
    },
    {
      "cell_type": "code",
      "metadata": {
        "id": "V_lVbir1m7BC"
      },
      "source": [
        "import random\n",
        "\n",
        "seed_val = 42\n",
        "\n",
        "random.seed(seed_val)\n",
        "np.random.seed(seed_val)\n",
        "torch.manual_seed(seed_val)\n",
        "torch.cuda.manual_seed_all(seed_val)\n",
        "\n",
        "def train_model(model, train_loader, val_loader, optimizer, num_epochs, scheduler = None):\n",
        "    train_loss_history = []\n",
        "    train_f1_history = []\n",
        "    train_accuracy_history = []\n",
        "    val_accuracy_history = []\n",
        "    val_f1_history = []\n",
        "\n",
        "    for epoch in range(num_epochs):\n",
        "        model.train() # Enter train mode\n",
        "        \n",
        "        train_loss_accum = 0\n",
        "        correct_samples = 0\n",
        "        total_samples = 0\n",
        "\n",
        "        tp, tn, fp, fn = 0, 0, 0, 0\n",
        "\n",
        "        for index, (sentence, attention_mask, label) in enumerate(train_loader):\n",
        "            model.zero_grad()\n",
        "\n",
        "            sentence = sentence.to(device).long()\n",
        "            attention_mask = attention_mask.to(device).long()\n",
        "            label = label.to(device).long()\n",
        "\n",
        "            output = model(sentence, token_type_ids = None, attention_mask = attention_mask, labels = label)\n",
        "            loss_value, logits = output[0], output[1]\n",
        "            train_loss_accum += loss_value.item()\n",
        "\n",
        "            loss_value.backward()\n",
        "            optimizer.step()\n",
        "            if scheduler:\n",
        "                scheduler.step()\n",
        "\n",
        "            _, indices = torch.max(logits, 1)\n",
        "            correct_samples += torch.sum(indices == label)\n",
        "            tp += len(indices[(indices == label) & (indices == 1)])\n",
        "            tn += len(indices[(indices == label) & (indices == 0)])\n",
        "            fp += len(indices[(indices != label) & (indices == 1)])\n",
        "            fn += len(indices[(indices != label) & (indices == 0)])\n",
        "            total_samples += label.shape[0]\n",
        "            \n",
        "        avg_loss = train_loss_accum / index\n",
        "        train_accuracy = float(correct_samples) / total_samples\n",
        "        train_precision = tp / (tp + fp)\n",
        "        train_recall = tp / (tp + fn)\n",
        "        f1_train = (2*train_precision*train_recall) / (train_precision + train_recall)\n",
        "        \n",
        "        val_accuracy, f1_val = eval_model(model, val_loader)\n",
        "\n",
        "        train_loss_history.append(avg_loss)\n",
        "        train_accuracy_history.append(train_accuracy)\n",
        "        train_f1_history.append(f1_train)\n",
        "        val_accuracy_history.append(val_accuracy)\n",
        "        val_f1_history.append(f1_val)\n",
        "\n",
        "        print(f\"EPOCH: {epoch}, Train_loss: {avg_loss}, Train_Acc: {train_accuracy}, Train_F1: {f1_train}, Val_Acc: {val_accuracy}, Val_F1: {f1_val}\")\n",
        "        if avg_loss < 0.05:\n",
        "            return train_loss_history, train_accuracy_history, train_f1_history, val_accuracy_history, val_f1_history\n",
        "\n",
        "    return train_loss_history, train_accuracy_history, train_f1_history, val_accuracy_history, val_f1_history\n",
        "\n",
        "def eval_model(model, loader):\n",
        "\n",
        "    model.eval() # Evaluation mode\n",
        "    tp, tn, fp, fn = 0, 0, 0, 0\n",
        "    correct_samples = 0\n",
        "    total_samples = 0\n",
        "\n",
        "    for sentence, attention_mask, label in loader:\n",
        "        sentence = sentence.to(device).long()\n",
        "        attention_mask = attention_mask.to(device).long()\n",
        "        label = label.to(device).long()\n",
        "\n",
        "        with torch.no_grad():\n",
        "            preds = model(sentence, token_type_ids = None, attention_mask = attention_mask)\n",
        "        \n",
        "        _, indices = torch.max(preds[0], 1)\n",
        "        correct_samples += torch.sum(indices == label)\n",
        "        tp += len(indices[(indices == label) & (indices == 1)])\n",
        "        tn += len(indices[(indices == label) & (indices == 0)])\n",
        "        fp += len(indices[(indices != label) & (indices == 1)])\n",
        "        fn += len(indices[(indices != label) & (indices == 0)])\n",
        "        total_samples += label.shape[0]\n",
        "\n",
        "    val_accuracy = float(correct_samples) / total_samples\n",
        "    val_precision = tp / (tp + fp)\n",
        "    val_recall = tp / (tp + fn)\n",
        "    f1_val = (2*val_precision*val_recall) / (val_precision + val_recall)\n",
        "\n",
        "    return val_accuracy, f1_val"
      ],
      "execution_count": null,
      "outputs": []
    },
    {
      "cell_type": "code",
      "metadata": {
        "id": "hw0BtAn2lqBi",
        "colab": {
          "base_uri": "https://localhost:8080/"
        },
        "outputId": "65844037-c7aa-4ca7-d483-aee70c716c85"
      },
      "source": [
        "from transformers import get_linear_schedule_with_warmup\n",
        "\n",
        "EPOCHS = 50\n",
        "\n",
        "optimizer = AdamW(bert_model.parameters(), lr = 1e-5, eps = 1e-8)\n",
        "scheduler = get_linear_schedule_with_warmup(optimizer, num_warmup_steps = 0, num_training_steps = EPOCHS*len(train_dataset))\n",
        "\n",
        "train_loss_history, train_accuracy_history, train_f1_history, val_acc_history, val_f1_history = \\\n",
        "                    train_model(bert_model, train_loader, val_loader, optimizer, EPOCHS, scheduler)"
      ],
      "execution_count": null,
      "outputs": [
        {
          "output_type": "stream",
          "text": [
            "EPOCH: 0, Train_loss: 0.4802609926364461, Train_Acc: 0.7645854657113613, Train_F1: 0.7584033613445379, Val_Acc: 0.8329493087557603, Val_F1: 0.8346636259977195\n",
            "EPOCH: 1, Train_loss: 0.3385046961732575, Train_Acc: 0.865532241555783, Train_F1: 0.8578769438810007, Val_Acc: 0.8467741935483871, Val_F1: 0.8465974625144175\n",
            "EPOCH: 2, Train_loss: 0.23956825222331482, Train_Acc: 0.9078812691914022, Train_F1: 0.9044839479968162, Val_Acc: 0.8582949308755761, Val_F1: 0.8634850166481688\n",
            "EPOCH: 3, Train_loss: 0.16290749048768374, Train_Acc: 0.9397389969293757, Train_F1: 0.9381808636303977, Val_Acc: 0.8652073732718893, Val_F1: 0.8724100327153763\n",
            "EPOCH: 4, Train_loss: 0.11031401399752033, Train_Acc: 0.95496417604913, Train_F1: 0.9543331603528801, Val_Acc: 0.868663594470046, Val_F1: 0.876355748373102\n",
            "EPOCH: 5, Train_loss: 0.07780815755230848, Train_Acc: 0.9704452405322416, Train_F1: 0.9701666020922123, Val_Acc: 0.8617511520737328, Val_F1: 0.8698481561822126\n",
            "EPOCH: 6, Train_loss: 0.06883021080618358, Train_Acc: 0.9724923234390993, Train_F1: 0.9723756906077348, Val_Acc: 0.8778801843317973, Val_F1: 0.8857758620689654\n",
            "EPOCH: 7, Train_loss: 0.05499008680754876, Train_Acc: 0.9765864892528148, Train_F1: 0.9765113592606854, Val_Acc: 0.8767281105990783, Val_F1: 0.8840736728060672\n",
            "EPOCH: 8, Train_loss: 0.04415373666284484, Train_Acc: 0.9806806550665302, Train_F1: 0.9806186625593633, Val_Acc: 0.8559907834101382, Val_F1: 0.8671625929861849\n"
          ],
          "name": "stdout"
        }
      ]
    },
    {
      "cell_type": "markdown",
      "metadata": {
        "id": "jDTfZaAU1jeK"
      },
      "source": [
        "# CatBoost"
      ]
    },
    {
      "cell_type": "code",
      "metadata": {
        "colab": {
          "base_uri": "https://localhost:8080/"
        },
        "id": "f0z8x2VA4bnS",
        "outputId": "498d6bad-56b3-4f4b-eb16-c835cbbddee2"
      },
      "source": [
        "!pip install catboost"
      ],
      "execution_count": null,
      "outputs": [
        {
          "output_type": "stream",
          "text": [
            "Collecting catboost\n",
            "\u001b[?25l  Downloading https://files.pythonhosted.org/packages/5a/41/24e14322b9986cf72a8763e0a0a69cc256cf963cf9502c8f0044a62c1ae8/catboost-0.26-cp37-none-manylinux1_x86_64.whl (69.2MB)\n",
            "\u001b[K     |████████████████████████████████| 69.2MB 42kB/s \n",
            "\u001b[?25hRequirement already satisfied: pandas>=0.24.0 in /usr/local/lib/python3.7/dist-packages (from catboost) (1.1.5)\n",
            "Requirement already satisfied: graphviz in /usr/local/lib/python3.7/dist-packages (from catboost) (0.10.1)\n",
            "Requirement already satisfied: scipy in /usr/local/lib/python3.7/dist-packages (from catboost) (1.4.1)\n",
            "Requirement already satisfied: plotly in /usr/local/lib/python3.7/dist-packages (from catboost) (4.4.1)\n",
            "Requirement already satisfied: six in /usr/local/lib/python3.7/dist-packages (from catboost) (1.15.0)\n",
            "Requirement already satisfied: matplotlib in /usr/local/lib/python3.7/dist-packages (from catboost) (3.2.2)\n",
            "Requirement already satisfied: numpy>=1.16.0 in /usr/local/lib/python3.7/dist-packages (from catboost) (1.19.5)\n",
            "Requirement already satisfied: pytz>=2017.2 in /usr/local/lib/python3.7/dist-packages (from pandas>=0.24.0->catboost) (2018.9)\n",
            "Requirement already satisfied: python-dateutil>=2.7.3 in /usr/local/lib/python3.7/dist-packages (from pandas>=0.24.0->catboost) (2.8.1)\n",
            "Requirement already satisfied: retrying>=1.3.3 in /usr/local/lib/python3.7/dist-packages (from plotly->catboost) (1.3.3)\n",
            "Requirement already satisfied: kiwisolver>=1.0.1 in /usr/local/lib/python3.7/dist-packages (from matplotlib->catboost) (1.3.1)\n",
            "Requirement already satisfied: pyparsing!=2.0.4,!=2.1.2,!=2.1.6,>=2.0.1 in /usr/local/lib/python3.7/dist-packages (from matplotlib->catboost) (2.4.7)\n",
            "Requirement already satisfied: cycler>=0.10 in /usr/local/lib/python3.7/dist-packages (from matplotlib->catboost) (0.10.0)\n",
            "Installing collected packages: catboost\n",
            "Successfully installed catboost-0.26\n"
          ],
          "name": "stdout"
        }
      ]
    },
    {
      "cell_type": "code",
      "metadata": {
        "id": "WplOTnaf1B2B"
      },
      "source": [
        "from sklearn.model_selection import train_test_split\n",
        "from catboost import CatBoostClassifier\n",
        "\n",
        "cat_features = [0]\n",
        "X_train, X_test, y_train, y_test = train_test_split(df['text'].values, df['target'].values, test_size = 0.1)\n",
        "\n",
        "# cb = CatBoostClassifier(num_trees = 1000, task_type = 'GPU', eval_metric = 'F1', eta = 0.12, l2_leaf_reg = 5)\n",
        "# cb = CatBoostClassifier(num_trees = 600, task_type = 'GPU', eval_metric = 'F1', eta = 0.12, l2_leaf_reg = 5, max_depth = 8)\n",
        "cb = CatBoostClassifier(num_trees = 600, task_type = 'GPU', eval_metric = 'F1', eta = 0.12, l2_leaf_reg = 5, max_depth = 8)"
      ],
      "execution_count": null,
      "outputs": []
    },
    {
      "cell_type": "code",
      "metadata": {
        "colab": {
          "base_uri": "https://localhost:8080/"
        },
        "id": "lkwdPmH14ikv",
        "outputId": "9d687539-62c3-4c6b-cb4c-101eecc7cad8"
      },
      "source": [
        "cb.fit(X_train, y_train, cat_features)"
      ],
      "execution_count": null,
      "outputs": [
        {
          "output_type": "stream",
          "text": [
            "Warning: less than 75% gpu memory available for training. Free: 905.75 Total: 15109.75\n"
          ],
          "name": "stderr"
        },
        {
          "output_type": "stream",
          "text": [
            "0:\tlearn: 0.8219298\ttotal: 40.1ms\tremaining: 24s\n",
            "1:\tlearn: 0.8226064\ttotal: 72.5ms\tremaining: 21.7s\n",
            "2:\tlearn: 0.8227260\ttotal: 133ms\tremaining: 26.5s\n",
            "3:\tlearn: 0.8225877\ttotal: 169ms\tremaining: 25.2s\n",
            "4:\tlearn: 0.8225360\ttotal: 325ms\tremaining: 38.6s\n",
            "5:\tlearn: 0.8227054\ttotal: 354ms\tremaining: 35s\n",
            "6:\tlearn: 0.8227904\ttotal: 376ms\tremaining: 31.9s\n",
            "7:\tlearn: 0.8224843\ttotal: 482ms\tremaining: 35.7s\n",
            "8:\tlearn: 0.8228954\ttotal: 502ms\tremaining: 32.9s\n",
            "9:\tlearn: 0.8227756\ttotal: 539ms\tremaining: 31.8s\n",
            "10:\tlearn: 0.8231184\ttotal: 624ms\tremaining: 33.4s\n",
            "11:\tlearn: 0.8228954\ttotal: 643ms\tremaining: 31.5s\n",
            "12:\tlearn: 0.8227571\ttotal: 677ms\tremaining: 30.6s\n",
            "13:\tlearn: 0.8226371\ttotal: 770ms\tremaining: 32.2s\n",
            "14:\tlearn: 0.8228772\ttotal: 803ms\tremaining: 31.3s\n",
            "15:\tlearn: 0.8230489\ttotal: 836ms\tremaining: 30.5s\n",
            "16:\tlearn: 0.8225500\ttotal: 886ms\tremaining: 30.4s\n",
            "17:\tlearn: 0.8226702\ttotal: 911ms\tremaining: 29.4s\n",
            "18:\tlearn: 0.8224982\ttotal: 943ms\tremaining: 28.8s\n",
            "19:\tlearn: 0.8228755\ttotal: 964ms\tremaining: 28s\n",
            "20:\tlearn: 0.8229441\ttotal: 1.05s\tremaining: 28.9s\n",
            "21:\tlearn: 0.8228755\ttotal: 1.13s\tremaining: 29.7s\n",
            "22:\tlearn: 0.8233402\ttotal: 1.19s\tremaining: 29.8s\n",
            "23:\tlearn: 0.8233402\ttotal: 1.27s\tremaining: 30.4s\n",
            "24:\tlearn: 0.8233402\ttotal: 1.28s\tremaining: 29.6s\n",
            "25:\tlearn: 0.8233402\ttotal: 1.34s\tremaining: 29.5s\n",
            "26:\tlearn: 0.8231163\ttotal: 1.39s\tremaining: 29.4s\n",
            "27:\tlearn: 0.8231163\ttotal: 1.41s\tremaining: 28.7s\n",
            "28:\tlearn: 0.8231163\ttotal: 1.43s\tremaining: 28.1s\n",
            "29:\tlearn: 0.8231163\ttotal: 1.45s\tremaining: 27.6s\n",
            "30:\tlearn: 0.8231163\ttotal: 1.49s\tremaining: 27.3s\n",
            "31:\tlearn: 0.8231163\ttotal: 1.51s\tremaining: 26.8s\n",
            "32:\tlearn: 0.8232885\ttotal: 1.54s\tremaining: 26.5s\n",
            "33:\tlearn: 0.8231163\ttotal: 1.62s\tremaining: 27s\n",
            "34:\tlearn: 0.8232885\ttotal: 1.71s\tremaining: 27.5s\n",
            "35:\tlearn: 0.8232885\ttotal: 1.72s\tremaining: 27s\n",
            "36:\tlearn: 0.8232885\ttotal: 1.81s\tremaining: 27.6s\n",
            "37:\tlearn: 0.8231163\ttotal: 1.84s\tremaining: 27.2s\n",
            "38:\tlearn: 0.8231163\ttotal: 1.87s\tremaining: 26.9s\n",
            "39:\tlearn: 0.8231163\ttotal: 1.89s\tremaining: 26.5s\n",
            "40:\tlearn: 0.8231163\ttotal: 1.92s\tremaining: 26.2s\n",
            "41:\tlearn: 0.8231163\ttotal: 1.95s\tremaining: 25.9s\n",
            "42:\tlearn: 0.8231163\ttotal: 1.98s\tremaining: 25.6s\n",
            "43:\tlearn: 0.8231163\ttotal: 2.05s\tremaining: 26s\n",
            "44:\tlearn: 0.8231163\ttotal: 2.08s\tremaining: 25.6s\n",
            "45:\tlearn: 0.8231163\ttotal: 2.1s\tremaining: 25.3s\n",
            "46:\tlearn: 0.8229441\ttotal: 2.13s\tremaining: 25s\n",
            "47:\tlearn: 0.8229441\ttotal: 2.15s\tremaining: 24.7s\n",
            "48:\tlearn: 0.8233055\ttotal: 2.21s\tremaining: 24.8s\n",
            "49:\tlearn: 0.8233055\ttotal: 2.23s\tremaining: 24.5s\n",
            "50:\tlearn: 0.8233055\ttotal: 2.25s\tremaining: 24.2s\n",
            "51:\tlearn: 0.8233055\ttotal: 2.27s\tremaining: 23.9s\n",
            "52:\tlearn: 0.8234778\ttotal: 2.29s\tremaining: 23.7s\n",
            "53:\tlearn: 0.8234778\ttotal: 2.31s\tremaining: 23.4s\n",
            "54:\tlearn: 0.8234778\ttotal: 2.33s\tremaining: 23.1s\n",
            "55:\tlearn: 0.8234778\ttotal: 2.42s\tremaining: 23.5s\n",
            "56:\tlearn: 0.8234778\ttotal: 2.44s\tremaining: 23.2s\n",
            "57:\tlearn: 0.8234778\ttotal: 2.46s\tremaining: 23s\n",
            "58:\tlearn: 0.8234778\ttotal: 2.48s\tremaining: 22.8s\n",
            "59:\tlearn: 0.8234778\ttotal: 2.5s\tremaining: 22.5s\n",
            "60:\tlearn: 0.8234778\ttotal: 2.52s\tremaining: 22.3s\n",
            "61:\tlearn: 0.8234778\ttotal: 2.55s\tremaining: 22.1s\n",
            "62:\tlearn: 0.8234778\ttotal: 2.57s\tremaining: 21.9s\n",
            "63:\tlearn: 0.8234778\ttotal: 2.59s\tremaining: 21.7s\n",
            "64:\tlearn: 0.8234778\ttotal: 2.61s\tremaining: 21.5s\n",
            "65:\tlearn: 0.8234778\ttotal: 2.63s\tremaining: 21.3s\n",
            "66:\tlearn: 0.8234778\ttotal: 2.65s\tremaining: 21.1s\n",
            "67:\tlearn: 0.8234778\ttotal: 2.67s\tremaining: 20.9s\n",
            "68:\tlearn: 0.8234778\ttotal: 2.69s\tremaining: 20.7s\n",
            "69:\tlearn: 0.8234778\ttotal: 2.71s\tremaining: 20.5s\n",
            "70:\tlearn: 0.8234778\ttotal: 2.79s\tremaining: 20.8s\n",
            "71:\tlearn: 0.8234778\ttotal: 2.87s\tremaining: 21.1s\n",
            "72:\tlearn: 0.8234778\ttotal: 2.9s\tremaining: 20.9s\n",
            "73:\tlearn: 0.8234778\ttotal: 2.92s\tremaining: 20.7s\n",
            "74:\tlearn: 0.8234778\ttotal: 2.95s\tremaining: 20.7s\n",
            "75:\tlearn: 0.8234778\ttotal: 3.04s\tremaining: 20.9s\n",
            "76:\tlearn: 0.8234778\ttotal: 3.12s\tremaining: 21.2s\n",
            "77:\tlearn: 0.8234778\ttotal: 3.14s\tremaining: 21s\n",
            "78:\tlearn: 0.8234778\ttotal: 3.16s\tremaining: 20.8s\n",
            "79:\tlearn: 0.8233743\ttotal: 3.2s\tremaining: 20.8s\n",
            "80:\tlearn: 0.8233743\ttotal: 3.25s\tremaining: 20.9s\n",
            "81:\tlearn: 0.8233743\ttotal: 3.29s\tremaining: 20.8s\n",
            "82:\tlearn: 0.8237363\ttotal: 3.31s\tremaining: 20.6s\n",
            "83:\tlearn: 0.8234432\ttotal: 3.35s\tremaining: 20.5s\n",
            "84:\tlearn: 0.8235639\ttotal: 3.36s\tremaining: 20.4s\n",
            "85:\tlearn: 0.8235639\ttotal: 3.38s\tremaining: 20.2s\n",
            "86:\tlearn: 0.8235639\ttotal: 3.4s\tremaining: 20s\n",
            "87:\tlearn: 0.8235639\ttotal: 3.42s\tremaining: 19.9s\n",
            "88:\tlearn: 0.8235639\ttotal: 3.43s\tremaining: 19.7s\n",
            "89:\tlearn: 0.8236156\ttotal: 3.47s\tremaining: 19.7s\n",
            "90:\tlearn: 0.8236156\ttotal: 3.49s\tremaining: 19.5s\n",
            "91:\tlearn: 0.8235466\ttotal: 3.51s\tremaining: 19.4s\n",
            "92:\tlearn: 0.8235466\ttotal: 3.54s\tremaining: 19.3s\n",
            "93:\tlearn: 0.8235466\ttotal: 3.56s\tremaining: 19.2s\n",
            "94:\tlearn: 0.8235466\ttotal: 3.58s\tremaining: 19.1s\n",
            "95:\tlearn: 0.8235466\ttotal: 3.67s\tremaining: 19.3s\n",
            "96:\tlearn: 0.8238911\ttotal: 3.75s\tremaining: 19.5s\n",
            "97:\tlearn: 0.8238911\ttotal: 3.77s\tremaining: 19.3s\n",
            "98:\tlearn: 0.8238911\ttotal: 3.79s\tremaining: 19.2s\n",
            "99:\tlearn: 0.8238911\ttotal: 3.8s\tremaining: 19s\n",
            "100:\tlearn: 0.8238911\ttotal: 3.84s\tremaining: 19s\n",
            "101:\tlearn: 0.8238911\ttotal: 3.85s\tremaining: 18.8s\n",
            "102:\tlearn: 0.8238911\ttotal: 3.89s\tremaining: 18.8s\n",
            "103:\tlearn: 0.8238911\ttotal: 3.91s\tremaining: 18.7s\n",
            "104:\tlearn: 0.8238911\ttotal: 3.96s\tremaining: 18.7s\n",
            "105:\tlearn: 0.8237189\ttotal: 4.04s\tremaining: 18.9s\n",
            "106:\tlearn: 0.8237189\ttotal: 4.07s\tremaining: 18.8s\n",
            "107:\tlearn: 0.8237189\ttotal: 4.09s\tremaining: 18.7s\n",
            "108:\tlearn: 0.8237189\ttotal: 4.14s\tremaining: 18.7s\n",
            "109:\tlearn: 0.8237189\ttotal: 4.18s\tremaining: 18.6s\n",
            "110:\tlearn: 0.8237189\ttotal: 4.22s\tremaining: 18.6s\n",
            "111:\tlearn: 0.8237189\ttotal: 4.24s\tremaining: 18.5s\n",
            "112:\tlearn: 0.8237189\ttotal: 4.26s\tremaining: 18.4s\n",
            "113:\tlearn: 0.8237189\ttotal: 4.27s\tremaining: 18.2s\n",
            "114:\tlearn: 0.8238911\ttotal: 4.36s\tremaining: 18.4s\n",
            "115:\tlearn: 0.8238911\ttotal: 4.37s\tremaining: 18.2s\n",
            "116:\tlearn: 0.8238911\ttotal: 4.39s\tremaining: 18.1s\n",
            "117:\tlearn: 0.8238911\ttotal: 4.41s\tremaining: 18s\n",
            "118:\tlearn: 0.8238911\ttotal: 4.46s\tremaining: 18s\n",
            "119:\tlearn: 0.8238911\ttotal: 4.48s\tremaining: 17.9s\n",
            "120:\tlearn: 0.8238911\ttotal: 4.5s\tremaining: 17.8s\n",
            "121:\tlearn: 0.8238911\ttotal: 4.55s\tremaining: 17.8s\n",
            "122:\tlearn: 0.8238911\ttotal: 4.56s\tremaining: 17.7s\n",
            "123:\tlearn: 0.8238911\ttotal: 4.58s\tremaining: 17.6s\n",
            "124:\tlearn: 0.8238911\ttotal: 4.62s\tremaining: 17.5s\n",
            "125:\tlearn: 0.8238911\ttotal: 4.7s\tremaining: 17.7s\n",
            "126:\tlearn: 0.8238911\ttotal: 4.72s\tremaining: 17.6s\n",
            "127:\tlearn: 0.8238911\ttotal: 4.8s\tremaining: 17.7s\n",
            "128:\tlearn: 0.8238911\ttotal: 4.83s\tremaining: 17.6s\n",
            "129:\tlearn: 0.8238911\ttotal: 4.84s\tremaining: 17.5s\n",
            "130:\tlearn: 0.8238911\ttotal: 4.86s\tremaining: 17.4s\n",
            "131:\tlearn: 0.8238911\ttotal: 4.88s\tremaining: 17.3s\n",
            "132:\tlearn: 0.8238911\ttotal: 4.89s\tremaining: 17.2s\n",
            "133:\tlearn: 0.8238911\ttotal: 4.91s\tremaining: 17.1s\n",
            "134:\tlearn: 0.8238911\ttotal: 4.93s\tremaining: 17s\n",
            "135:\tlearn: 0.8238911\ttotal: 4.95s\tremaining: 16.9s\n",
            "136:\tlearn: 0.8238911\ttotal: 4.96s\tremaining: 16.8s\n",
            "137:\tlearn: 0.8239602\ttotal: 5.05s\tremaining: 16.9s\n",
            "138:\tlearn: 0.8238911\ttotal: 5.07s\tremaining: 16.8s\n",
            "139:\tlearn: 0.8238911\ttotal: 5.08s\tremaining: 16.7s\n",
            "140:\tlearn: 0.8238911\ttotal: 5.1s\tremaining: 16.6s\n",
            "141:\tlearn: 0.8238911\ttotal: 5.12s\tremaining: 16.5s\n",
            "142:\tlearn: 0.8238911\ttotal: 5.21s\tremaining: 16.7s\n",
            "143:\tlearn: 0.8239602\ttotal: 5.25s\tremaining: 16.6s\n",
            "144:\tlearn: 0.8239602\ttotal: 5.27s\tremaining: 16.5s\n",
            "145:\tlearn: 0.8238911\ttotal: 5.32s\tremaining: 16.6s\n",
            "146:\tlearn: 0.8238911\ttotal: 5.34s\tremaining: 16.5s\n",
            "147:\tlearn: 0.8238911\ttotal: 5.36s\tremaining: 16.4s\n",
            "148:\tlearn: 0.8238911\ttotal: 5.39s\tremaining: 16.3s\n",
            "149:\tlearn: 0.8238911\ttotal: 5.47s\tremaining: 16.4s\n",
            "150:\tlearn: 0.8238911\ttotal: 5.49s\tremaining: 16.3s\n",
            "151:\tlearn: 0.8238911\ttotal: 5.51s\tremaining: 16.2s\n",
            "152:\tlearn: 0.8238911\ttotal: 5.53s\tremaining: 16.1s\n",
            "153:\tlearn: 0.8238911\ttotal: 5.54s\tremaining: 16.1s\n",
            "154:\tlearn: 0.8238911\ttotal: 5.56s\tremaining: 16s\n",
            "155:\tlearn: 0.8240117\ttotal: 5.61s\tremaining: 16s\n",
            "156:\tlearn: 0.8240632\ttotal: 5.66s\tremaining: 16s\n",
            "157:\tlearn: 0.8240632\ttotal: 5.72s\tremaining: 16s\n",
            "158:\tlearn: 0.8240632\ttotal: 5.8s\tremaining: 16.1s\n",
            "159:\tlearn: 0.8240632\ttotal: 5.82s\tremaining: 16s\n",
            "160:\tlearn: 0.8240632\ttotal: 5.87s\tremaining: 16s\n",
            "161:\tlearn: 0.8240632\ttotal: 5.88s\tremaining: 15.9s\n",
            "162:\tlearn: 0.8240117\ttotal: 5.91s\tremaining: 15.8s\n",
            "163:\tlearn: 0.8241839\ttotal: 5.93s\tremaining: 15.8s\n",
            "164:\tlearn: 0.8241839\ttotal: 5.95s\tremaining: 15.7s\n",
            "165:\tlearn: 0.8241839\ttotal: 5.97s\tremaining: 15.6s\n",
            "166:\tlearn: 0.8241839\ttotal: 6.02s\tremaining: 15.6s\n",
            "167:\tlearn: 0.8241324\ttotal: 6.1s\tremaining: 15.7s\n",
            "168:\tlearn: 0.8241324\ttotal: 6.12s\tremaining: 15.6s\n",
            "169:\tlearn: 0.8241324\ttotal: 6.15s\tremaining: 15.5s\n",
            "170:\tlearn: 0.8241324\ttotal: 6.17s\tremaining: 15.5s\n",
            "171:\tlearn: 0.8241324\ttotal: 6.2s\tremaining: 15.4s\n",
            "172:\tlearn: 0.8241324\ttotal: 6.22s\tremaining: 15.4s\n",
            "173:\tlearn: 0.8241324\ttotal: 6.25s\tremaining: 15.3s\n",
            "174:\tlearn: 0.8241324\ttotal: 6.27s\tremaining: 15.2s\n",
            "175:\tlearn: 0.8241324\ttotal: 6.29s\tremaining: 15.2s\n",
            "176:\tlearn: 0.8241324\ttotal: 6.38s\tremaining: 15.2s\n",
            "177:\tlearn: 0.8240809\ttotal: 6.4s\tremaining: 15.2s\n",
            "178:\tlearn: 0.8241324\ttotal: 6.43s\tremaining: 15.1s\n",
            "179:\tlearn: 0.8241324\ttotal: 6.44s\tremaining: 15s\n",
            "180:\tlearn: 0.8241324\ttotal: 6.46s\tremaining: 15s\n",
            "181:\tlearn: 0.8241324\ttotal: 6.48s\tremaining: 14.9s\n",
            "182:\tlearn: 0.8241324\ttotal: 6.49s\tremaining: 14.8s\n",
            "183:\tlearn: 0.8241324\ttotal: 6.51s\tremaining: 14.7s\n",
            "184:\tlearn: 0.8241324\ttotal: 6.53s\tremaining: 14.6s\n",
            "185:\tlearn: 0.8241324\ttotal: 6.54s\tremaining: 14.6s\n",
            "186:\tlearn: 0.8241324\ttotal: 6.56s\tremaining: 14.5s\n",
            "187:\tlearn: 0.8241324\ttotal: 6.58s\tremaining: 14.4s\n",
            "188:\tlearn: 0.8241324\ttotal: 6.6s\tremaining: 14.4s\n",
            "189:\tlearn: 0.8241324\ttotal: 6.69s\tremaining: 14.4s\n",
            "190:\tlearn: 0.8241324\ttotal: 6.77s\tremaining: 14.5s\n",
            "191:\tlearn: 0.8241324\ttotal: 6.79s\tremaining: 14.4s\n",
            "192:\tlearn: 0.8241324\ttotal: 6.81s\tremaining: 14.4s\n",
            "193:\tlearn: 0.8241324\ttotal: 6.84s\tremaining: 14.3s\n",
            "194:\tlearn: 0.8241324\ttotal: 6.92s\tremaining: 14.4s\n",
            "195:\tlearn: 0.8241324\ttotal: 6.94s\tremaining: 14.3s\n",
            "196:\tlearn: 0.8240809\ttotal: 6.99s\tremaining: 14.3s\n",
            "197:\tlearn: 0.8240809\ttotal: 7.04s\tremaining: 14.3s\n",
            "198:\tlearn: 0.8240809\ttotal: 7.06s\tremaining: 14.2s\n",
            "199:\tlearn: 0.8240809\ttotal: 7.08s\tremaining: 14.2s\n",
            "200:\tlearn: 0.8240809\ttotal: 7.12s\tremaining: 14.1s\n",
            "201:\tlearn: 0.8240809\ttotal: 7.21s\tremaining: 14.2s\n",
            "202:\tlearn: 0.8240809\ttotal: 7.29s\tremaining: 14.3s\n",
            "203:\tlearn: 0.8240809\ttotal: 7.32s\tremaining: 14.2s\n",
            "204:\tlearn: 0.8240809\ttotal: 7.33s\tremaining: 14.1s\n",
            "205:\tlearn: 0.8240809\ttotal: 7.35s\tremaining: 14.1s\n",
            "206:\tlearn: 0.8240809\ttotal: 7.44s\tremaining: 14.1s\n",
            "207:\tlearn: 0.8240809\ttotal: 7.45s\tremaining: 14s\n",
            "208:\tlearn: 0.8240809\ttotal: 7.47s\tremaining: 14s\n",
            "209:\tlearn: 0.8242531\ttotal: 7.55s\tremaining: 14s\n",
            "210:\tlearn: 0.8242531\ttotal: 7.57s\tremaining: 14s\n",
            "211:\tlearn: 0.8242531\ttotal: 7.59s\tremaining: 13.9s\n",
            "212:\tlearn: 0.8242531\ttotal: 7.61s\tremaining: 13.8s\n",
            "213:\tlearn: 0.8242531\ttotal: 7.63s\tremaining: 13.8s\n",
            "214:\tlearn: 0.8242531\ttotal: 7.65s\tremaining: 13.7s\n",
            "215:\tlearn: 0.8242531\ttotal: 7.67s\tremaining: 13.6s\n",
            "216:\tlearn: 0.8242531\ttotal: 7.69s\tremaining: 13.6s\n",
            "217:\tlearn: 0.8242531\ttotal: 7.71s\tremaining: 13.5s\n",
            "218:\tlearn: 0.8242531\ttotal: 7.72s\tremaining: 13.4s\n",
            "219:\tlearn: 0.8242531\ttotal: 7.74s\tremaining: 13.4s\n",
            "220:\tlearn: 0.8241324\ttotal: 7.77s\tremaining: 13.3s\n",
            "221:\tlearn: 0.8241324\ttotal: 7.78s\tremaining: 13.3s\n",
            "222:\tlearn: 0.8241324\ttotal: 7.84s\tremaining: 13.2s\n",
            "223:\tlearn: 0.8241324\ttotal: 7.86s\tremaining: 13.2s\n",
            "224:\tlearn: 0.8241324\ttotal: 7.88s\tremaining: 13.1s\n",
            "225:\tlearn: 0.8241324\ttotal: 7.9s\tremaining: 13.1s\n",
            "226:\tlearn: 0.8241324\ttotal: 7.91s\tremaining: 13s\n",
            "227:\tlearn: 0.8241324\ttotal: 7.93s\tremaining: 12.9s\n",
            "228:\tlearn: 0.8241324\ttotal: 7.95s\tremaining: 12.9s\n",
            "229:\tlearn: 0.8241324\ttotal: 7.97s\tremaining: 12.8s\n",
            "230:\tlearn: 0.8241324\ttotal: 7.99s\tremaining: 12.8s\n",
            "231:\tlearn: 0.8241324\ttotal: 8.07s\tremaining: 12.8s\n",
            "232:\tlearn: 0.8241324\ttotal: 8.09s\tremaining: 12.7s\n",
            "233:\tlearn: 0.8241324\ttotal: 8.15s\tremaining: 12.8s\n",
            "234:\tlearn: 0.8241324\ttotal: 8.18s\tremaining: 12.7s\n",
            "235:\tlearn: 0.8241324\ttotal: 8.26s\tremaining: 12.7s\n",
            "236:\tlearn: 0.8241324\ttotal: 8.29s\tremaining: 12.7s\n",
            "237:\tlearn: 0.8241839\ttotal: 8.31s\tremaining: 12.6s\n",
            "238:\tlearn: 0.8242531\ttotal: 8.35s\tremaining: 12.6s\n",
            "239:\tlearn: 0.8242531\ttotal: 8.36s\tremaining: 12.5s\n",
            "240:\tlearn: 0.8242531\ttotal: 8.38s\tremaining: 12.5s\n",
            "241:\tlearn: 0.8243045\ttotal: 8.4s\tremaining: 12.4s\n",
            "242:\tlearn: 0.8242531\ttotal: 8.43s\tremaining: 12.4s\n",
            "243:\tlearn: 0.8242531\ttotal: 8.45s\tremaining: 12.3s\n",
            "244:\tlearn: 0.8242531\ttotal: 8.47s\tremaining: 12.3s\n",
            "245:\tlearn: 0.8242531\ttotal: 8.49s\tremaining: 12.2s\n",
            "246:\tlearn: 0.8240809\ttotal: 8.57s\tremaining: 12.3s\n",
            "247:\tlearn: 0.8240809\ttotal: 8.59s\tremaining: 12.2s\n",
            "248:\tlearn: 0.8240809\ttotal: 8.61s\tremaining: 12.1s\n",
            "249:\tlearn: 0.8240809\ttotal: 8.63s\tremaining: 12.1s\n",
            "250:\tlearn: 0.8240809\ttotal: 8.64s\tremaining: 12s\n",
            "251:\tlearn: 0.8240809\ttotal: 8.72s\tremaining: 12s\n",
            "252:\tlearn: 0.8240809\ttotal: 8.74s\tremaining: 12s\n",
            "253:\tlearn: 0.8240809\ttotal: 8.82s\tremaining: 12s\n",
            "254:\tlearn: 0.8240809\ttotal: 8.84s\tremaining: 12s\n",
            "255:\tlearn: 0.8240809\ttotal: 8.86s\tremaining: 11.9s\n",
            "256:\tlearn: 0.8240809\ttotal: 8.88s\tremaining: 11.8s\n",
            "257:\tlearn: 0.8240809\ttotal: 8.89s\tremaining: 11.8s\n",
            "258:\tlearn: 0.8240809\ttotal: 8.93s\tremaining: 11.8s\n",
            "259:\tlearn: 0.8240809\ttotal: 8.95s\tremaining: 11.7s\n",
            "260:\tlearn: 0.8240809\ttotal: 8.97s\tremaining: 11.6s\n",
            "261:\tlearn: 0.8240809\ttotal: 9.05s\tremaining: 11.7s\n",
            "262:\tlearn: 0.8240809\ttotal: 9.06s\tremaining: 11.6s\n",
            "263:\tlearn: 0.8240809\ttotal: 9.08s\tremaining: 11.6s\n",
            "264:\tlearn: 0.8242531\ttotal: 9.1s\tremaining: 11.5s\n",
            "265:\tlearn: 0.8242531\ttotal: 9.12s\tremaining: 11.5s\n",
            "266:\tlearn: 0.8242531\ttotal: 9.14s\tremaining: 11.4s\n",
            "267:\tlearn: 0.8242531\ttotal: 9.16s\tremaining: 11.3s\n",
            "268:\tlearn: 0.8242531\ttotal: 9.19s\tremaining: 11.3s\n",
            "269:\tlearn: 0.8242531\ttotal: 9.23s\tremaining: 11.3s\n",
            "270:\tlearn: 0.8242531\ttotal: 9.26s\tremaining: 11.2s\n",
            "271:\tlearn: 0.8242531\ttotal: 9.28s\tremaining: 11.2s\n",
            "272:\tlearn: 0.8243045\ttotal: 9.3s\tremaining: 11.1s\n",
            "273:\tlearn: 0.8243045\ttotal: 9.32s\tremaining: 11.1s\n",
            "274:\tlearn: 0.8243045\ttotal: 9.35s\tremaining: 11s\n",
            "275:\tlearn: 0.8243045\ttotal: 9.38s\tremaining: 11s\n",
            "276:\tlearn: 0.8243045\ttotal: 9.4s\tremaining: 11s\n",
            "277:\tlearn: 0.8243045\ttotal: 9.47s\tremaining: 11s\n",
            "278:\tlearn: 0.8243045\ttotal: 9.49s\tremaining: 10.9s\n",
            "279:\tlearn: 0.8243045\ttotal: 9.51s\tremaining: 10.9s\n",
            "280:\tlearn: 0.8243045\ttotal: 9.53s\tremaining: 10.8s\n",
            "281:\tlearn: 0.8243045\ttotal: 9.57s\tremaining: 10.8s\n",
            "282:\tlearn: 0.8243045\ttotal: 9.59s\tremaining: 10.7s\n",
            "283:\tlearn: 0.8243045\ttotal: 9.61s\tremaining: 10.7s\n",
            "284:\tlearn: 0.8243045\ttotal: 9.69s\tremaining: 10.7s\n",
            "285:\tlearn: 0.8243045\ttotal: 9.71s\tremaining: 10.7s\n",
            "286:\tlearn: 0.8243045\ttotal: 9.74s\tremaining: 10.6s\n",
            "287:\tlearn: 0.8243045\ttotal: 9.76s\tremaining: 10.6s\n",
            "288:\tlearn: 0.8243045\ttotal: 9.78s\tremaining: 10.5s\n",
            "289:\tlearn: 0.8243045\ttotal: 9.8s\tremaining: 10.5s\n",
            "290:\tlearn: 0.8243045\ttotal: 9.81s\tremaining: 10.4s\n",
            "291:\tlearn: 0.8243045\ttotal: 9.89s\tremaining: 10.4s\n",
            "292:\tlearn: 0.8243045\ttotal: 9.92s\tremaining: 10.4s\n",
            "293:\tlearn: 0.8243045\ttotal: 9.94s\tremaining: 10.3s\n",
            "294:\tlearn: 0.8243045\ttotal: 10s\tremaining: 10.4s\n",
            "295:\tlearn: 0.8243045\ttotal: 10s\tremaining: 10.3s\n",
            "296:\tlearn: 0.8243045\ttotal: 10.1s\tremaining: 10.3s\n",
            "297:\tlearn: 0.8243045\ttotal: 10.1s\tremaining: 10.3s\n",
            "298:\tlearn: 0.8243045\ttotal: 10.2s\tremaining: 10.3s\n",
            "299:\tlearn: 0.8243045\ttotal: 10.2s\tremaining: 10.2s\n",
            "300:\tlearn: 0.8243045\ttotal: 10.3s\tremaining: 10.2s\n",
            "301:\tlearn: 0.8243045\ttotal: 10.3s\tremaining: 10.2s\n",
            "302:\tlearn: 0.8243045\ttotal: 10.3s\tremaining: 10.1s\n",
            "303:\tlearn: 0.8243045\ttotal: 10.3s\tremaining: 10.1s\n",
            "304:\tlearn: 0.8243045\ttotal: 10.4s\tremaining: 10.1s\n",
            "305:\tlearn: 0.8243045\ttotal: 10.4s\tremaining: 10s\n",
            "306:\tlearn: 0.8243045\ttotal: 10.5s\tremaining: 9.98s\n",
            "307:\tlearn: 0.8243045\ttotal: 10.5s\tremaining: 9.93s\n",
            "308:\tlearn: 0.8243045\ttotal: 10.5s\tremaining: 9.88s\n",
            "309:\tlearn: 0.8241839\ttotal: 10.5s\tremaining: 9.84s\n",
            "310:\tlearn: 0.8241839\ttotal: 10.6s\tremaining: 9.86s\n",
            "311:\tlearn: 0.8241839\ttotal: 10.6s\tremaining: 9.81s\n",
            "312:\tlearn: 0.8241839\ttotal: 10.7s\tremaining: 9.82s\n",
            "313:\tlearn: 0.8241839\ttotal: 10.7s\tremaining: 9.77s\n",
            "314:\tlearn: 0.8241839\ttotal: 10.7s\tremaining: 9.72s\n",
            "315:\tlearn: 0.8241839\ttotal: 10.8s\tremaining: 9.68s\n",
            "316:\tlearn: 0.8241839\ttotal: 10.8s\tremaining: 9.68s\n",
            "317:\tlearn: 0.8241839\ttotal: 10.9s\tremaining: 9.63s\n",
            "318:\tlearn: 0.8241839\ttotal: 10.9s\tremaining: 9.64s\n",
            "319:\tlearn: 0.8241839\ttotal: 11s\tremaining: 9.59s\n",
            "320:\tlearn: 0.8241839\ttotal: 11s\tremaining: 9.55s\n",
            "321:\tlearn: 0.8243045\ttotal: 11.1s\tremaining: 9.55s\n",
            "322:\tlearn: 0.8243045\ttotal: 11.1s\tremaining: 9.51s\n",
            "323:\tlearn: 0.8243045\ttotal: 11.2s\tremaining: 9.52s\n",
            "324:\tlearn: 0.8243045\ttotal: 11.2s\tremaining: 9.48s\n",
            "325:\tlearn: 0.8243045\ttotal: 11.2s\tremaining: 9.43s\n",
            "326:\tlearn: 0.8243045\ttotal: 11.2s\tremaining: 9.38s\n",
            "327:\tlearn: 0.8243045\ttotal: 11.3s\tremaining: 9.35s\n",
            "328:\tlearn: 0.8243045\ttotal: 11.3s\tremaining: 9.3s\n",
            "329:\tlearn: 0.8243045\ttotal: 11.3s\tremaining: 9.25s\n",
            "330:\tlearn: 0.8243045\ttotal: 11.3s\tremaining: 9.21s\n",
            "331:\tlearn: 0.8243045\ttotal: 11.3s\tremaining: 9.16s\n",
            "332:\tlearn: 0.8243045\ttotal: 11.4s\tremaining: 9.12s\n",
            "333:\tlearn: 0.8243045\ttotal: 11.4s\tremaining: 9.07s\n",
            "334:\tlearn: 0.8243045\ttotal: 11.5s\tremaining: 9.07s\n",
            "335:\tlearn: 0.8243045\ttotal: 11.5s\tremaining: 9.03s\n",
            "336:\tlearn: 0.8243045\ttotal: 11.5s\tremaining: 8.99s\n",
            "337:\tlearn: 0.8243045\ttotal: 11.5s\tremaining: 8.94s\n",
            "338:\tlearn: 0.8241324\ttotal: 11.6s\tremaining: 8.9s\n",
            "339:\tlearn: 0.8241324\ttotal: 11.6s\tremaining: 8.85s\n",
            "340:\tlearn: 0.8241324\ttotal: 11.6s\tremaining: 8.81s\n",
            "341:\tlearn: 0.8241324\ttotal: 11.7s\tremaining: 8.81s\n",
            "342:\tlearn: 0.8241324\ttotal: 11.7s\tremaining: 8.77s\n",
            "343:\tlearn: 0.8241324\ttotal: 11.7s\tremaining: 8.72s\n",
            "344:\tlearn: 0.8241324\ttotal: 11.7s\tremaining: 8.68s\n",
            "345:\tlearn: 0.8241324\ttotal: 11.8s\tremaining: 8.63s\n",
            "346:\tlearn: 0.8241324\ttotal: 11.8s\tremaining: 8.59s\n",
            "347:\tlearn: 0.8241324\ttotal: 11.9s\tremaining: 8.59s\n",
            "348:\tlearn: 0.8241324\ttotal: 11.9s\tremaining: 8.54s\n",
            "349:\tlearn: 0.8241324\ttotal: 11.9s\tremaining: 8.52s\n",
            "350:\tlearn: 0.8241324\ttotal: 11.9s\tremaining: 8.48s\n",
            "351:\tlearn: 0.8241839\ttotal: 12s\tremaining: 8.47s\n",
            "352:\tlearn: 0.8241839\ttotal: 12s\tremaining: 8.43s\n",
            "353:\tlearn: 0.8241839\ttotal: 12.1s\tremaining: 8.39s\n",
            "354:\tlearn: 0.8241839\ttotal: 12.1s\tremaining: 8.35s\n",
            "355:\tlearn: 0.8241839\ttotal: 12.1s\tremaining: 8.3s\n",
            "356:\tlearn: 0.8241839\ttotal: 12.2s\tremaining: 8.31s\n",
            "357:\tlearn: 0.8241839\ttotal: 12.3s\tremaining: 8.31s\n",
            "358:\tlearn: 0.8241839\ttotal: 12.3s\tremaining: 8.26s\n",
            "359:\tlearn: 0.8241839\ttotal: 12.3s\tremaining: 8.22s\n",
            "360:\tlearn: 0.8241839\ttotal: 12.4s\tremaining: 8.18s\n",
            "361:\tlearn: 0.8241839\ttotal: 12.4s\tremaining: 8.13s\n",
            "362:\tlearn: 0.8241839\ttotal: 12.4s\tremaining: 8.09s\n",
            "363:\tlearn: 0.8241839\ttotal: 12.4s\tremaining: 8.04s\n",
            "364:\tlearn: 0.8241839\ttotal: 12.4s\tremaining: 8s\n",
            "365:\tlearn: 0.8241839\ttotal: 12.5s\tremaining: 7.96s\n",
            "366:\tlearn: 0.8241839\ttotal: 12.5s\tremaining: 7.92s\n",
            "367:\tlearn: 0.8241839\ttotal: 12.5s\tremaining: 7.88s\n",
            "368:\tlearn: 0.8241839\ttotal: 12.5s\tremaining: 7.83s\n",
            "369:\tlearn: 0.8241839\ttotal: 12.5s\tremaining: 7.8s\n",
            "370:\tlearn: 0.8241839\ttotal: 12.6s\tremaining: 7.75s\n",
            "371:\tlearn: 0.8241839\ttotal: 12.6s\tremaining: 7.72s\n",
            "372:\tlearn: 0.8241839\ttotal: 12.6s\tremaining: 7.68s\n",
            "373:\tlearn: 0.8241839\ttotal: 12.6s\tremaining: 7.63s\n",
            "374:\tlearn: 0.8241839\ttotal: 12.6s\tremaining: 7.59s\n",
            "375:\tlearn: 0.8241839\ttotal: 12.7s\tremaining: 7.54s\n",
            "376:\tlearn: 0.8241839\ttotal: 12.7s\tremaining: 7.5s\n",
            "377:\tlearn: 0.8241839\ttotal: 12.8s\tremaining: 7.5s\n",
            "378:\tlearn: 0.8241839\ttotal: 12.8s\tremaining: 7.46s\n",
            "379:\tlearn: 0.8236673\ttotal: 12.8s\tremaining: 7.42s\n",
            "380:\tlearn: 0.8236673\ttotal: 12.8s\tremaining: 7.38s\n",
            "381:\tlearn: 0.8236673\ttotal: 12.9s\tremaining: 7.34s\n",
            "382:\tlearn: 0.8236673\ttotal: 12.9s\tremaining: 7.33s\n",
            "383:\tlearn: 0.8236673\ttotal: 13s\tremaining: 7.29s\n",
            "384:\tlearn: 0.8241839\ttotal: 13s\tremaining: 7.27s\n",
            "385:\tlearn: 0.8241839\ttotal: 13s\tremaining: 7.23s\n",
            "386:\tlearn: 0.8241839\ttotal: 13.1s\tremaining: 7.18s\n",
            "387:\tlearn: 0.8241839\ttotal: 13.1s\tremaining: 7.14s\n",
            "388:\tlearn: 0.8241839\ttotal: 13.1s\tremaining: 7.1s\n",
            "389:\tlearn: 0.8241839\ttotal: 13.1s\tremaining: 7.06s\n",
            "390:\tlearn: 0.8236673\ttotal: 13.1s\tremaining: 7.02s\n",
            "391:\tlearn: 0.8236673\ttotal: 13.1s\tremaining: 6.98s\n",
            "392:\tlearn: 0.8241839\ttotal: 13.2s\tremaining: 6.97s\n",
            "393:\tlearn: 0.8241839\ttotal: 13.3s\tremaining: 6.96s\n",
            "394:\tlearn: 0.8241839\ttotal: 13.3s\tremaining: 6.92s\n",
            "395:\tlearn: 0.8241839\ttotal: 13.4s\tremaining: 6.88s\n",
            "396:\tlearn: 0.8241839\ttotal: 13.4s\tremaining: 6.84s\n",
            "397:\tlearn: 0.8241839\ttotal: 13.4s\tremaining: 6.79s\n",
            "398:\tlearn: 0.8241839\ttotal: 13.4s\tremaining: 6.75s\n",
            "399:\tlearn: 0.8241839\ttotal: 13.4s\tremaining: 6.71s\n",
            "400:\tlearn: 0.8241839\ttotal: 13.4s\tremaining: 6.67s\n",
            "401:\tlearn: 0.8241839\ttotal: 13.5s\tremaining: 6.63s\n",
            "402:\tlearn: 0.8241839\ttotal: 13.5s\tremaining: 6.59s\n",
            "403:\tlearn: 0.8241839\ttotal: 13.6s\tremaining: 6.58s\n",
            "404:\tlearn: 0.8241839\ttotal: 13.6s\tremaining: 6.55s\n",
            "405:\tlearn: 0.8241839\ttotal: 13.6s\tremaining: 6.51s\n",
            "406:\tlearn: 0.8241839\ttotal: 13.7s\tremaining: 6.47s\n",
            "407:\tlearn: 0.8241839\ttotal: 13.7s\tremaining: 6.43s\n",
            "408:\tlearn: 0.8236673\ttotal: 13.7s\tremaining: 6.39s\n",
            "409:\tlearn: 0.8236673\ttotal: 13.7s\tremaining: 6.35s\n",
            "410:\tlearn: 0.8236673\ttotal: 13.7s\tremaining: 6.31s\n",
            "411:\tlearn: 0.8241839\ttotal: 13.8s\tremaining: 6.3s\n",
            "412:\tlearn: 0.8241839\ttotal: 13.8s\tremaining: 6.26s\n",
            "413:\tlearn: 0.8241839\ttotal: 13.9s\tremaining: 6.23s\n",
            "414:\tlearn: 0.8241839\ttotal: 13.9s\tremaining: 6.19s\n",
            "415:\tlearn: 0.8241839\ttotal: 13.9s\tremaining: 6.15s\n",
            "416:\tlearn: 0.8241839\ttotal: 13.9s\tremaining: 6.11s\n",
            "417:\tlearn: 0.8241839\ttotal: 13.9s\tremaining: 6.07s\n",
            "418:\tlearn: 0.8241839\ttotal: 14s\tremaining: 6.03s\n",
            "419:\tlearn: 0.8241839\ttotal: 14s\tremaining: 5.99s\n",
            "420:\tlearn: 0.8241839\ttotal: 14s\tremaining: 5.95s\n",
            "421:\tlearn: 0.8241839\ttotal: 14s\tremaining: 5.91s\n",
            "422:\tlearn: 0.8241839\ttotal: 14s\tremaining: 5.87s\n",
            "423:\tlearn: 0.8241839\ttotal: 14.1s\tremaining: 5.84s\n",
            "424:\tlearn: 0.8241839\ttotal: 14.1s\tremaining: 5.82s\n",
            "425:\tlearn: 0.8242353\ttotal: 14.2s\tremaining: 5.81s\n",
            "426:\tlearn: 0.8242353\ttotal: 14.3s\tremaining: 5.77s\n",
            "427:\tlearn: 0.8242353\ttotal: 14.3s\tremaining: 5.74s\n",
            "428:\tlearn: 0.8242353\ttotal: 14.3s\tremaining: 5.7s\n",
            "429:\tlearn: 0.8242353\ttotal: 14.3s\tremaining: 5.66s\n",
            "430:\tlearn: 0.8242353\ttotal: 14.3s\tremaining: 5.62s\n",
            "431:\tlearn: 0.8242353\ttotal: 14.3s\tremaining: 5.58s\n",
            "432:\tlearn: 0.8242353\ttotal: 14.4s\tremaining: 5.54s\n",
            "433:\tlearn: 0.8242353\ttotal: 14.4s\tremaining: 5.5s\n",
            "434:\tlearn: 0.8242353\ttotal: 14.4s\tremaining: 5.46s\n",
            "435:\tlearn: 0.8242353\ttotal: 14.4s\tremaining: 5.43s\n",
            "436:\tlearn: 0.8242353\ttotal: 14.5s\tremaining: 5.39s\n",
            "437:\tlearn: 0.8242353\ttotal: 14.5s\tremaining: 5.36s\n",
            "438:\tlearn: 0.8242353\ttotal: 14.5s\tremaining: 5.32s\n",
            "439:\tlearn: 0.8242353\ttotal: 14.6s\tremaining: 5.29s\n",
            "440:\tlearn: 0.8242353\ttotal: 14.6s\tremaining: 5.25s\n",
            "441:\tlearn: 0.8242353\ttotal: 14.6s\tremaining: 5.22s\n",
            "442:\tlearn: 0.8242353\ttotal: 14.6s\tremaining: 5.18s\n",
            "443:\tlearn: 0.8242353\ttotal: 14.7s\tremaining: 5.16s\n",
            "444:\tlearn: 0.8242353\ttotal: 14.7s\tremaining: 5.12s\n",
            "445:\tlearn: 0.8237189\ttotal: 14.8s\tremaining: 5.09s\n",
            "446:\tlearn: 0.8237189\ttotal: 14.8s\tremaining: 5.06s\n",
            "447:\tlearn: 0.8237189\ttotal: 14.9s\tremaining: 5.04s\n",
            "448:\tlearn: 0.8237189\ttotal: 14.9s\tremaining: 5.03s\n",
            "449:\tlearn: 0.8237189\ttotal: 15s\tremaining: 4.99s\n",
            "450:\tlearn: 0.8237189\ttotal: 15s\tremaining: 4.96s\n",
            "451:\tlearn: 0.8237189\ttotal: 15s\tremaining: 4.92s\n",
            "452:\tlearn: 0.8237189\ttotal: 15s\tremaining: 4.88s\n",
            "453:\tlearn: 0.8237189\ttotal: 15.1s\tremaining: 4.84s\n",
            "454:\tlearn: 0.8237189\ttotal: 15.1s\tremaining: 4.81s\n",
            "455:\tlearn: 0.8237189\ttotal: 15.1s\tremaining: 4.78s\n",
            "456:\tlearn: 0.8237189\ttotal: 15.1s\tremaining: 4.74s\n",
            "457:\tlearn: 0.8237189\ttotal: 15.2s\tremaining: 4.71s\n",
            "458:\tlearn: 0.8237189\ttotal: 15.2s\tremaining: 4.67s\n",
            "459:\tlearn: 0.8237189\ttotal: 15.2s\tremaining: 4.64s\n",
            "460:\tlearn: 0.8237189\ttotal: 15.3s\tremaining: 4.61s\n",
            "461:\tlearn: 0.8237189\ttotal: 15.4s\tremaining: 4.59s\n",
            "462:\tlearn: 0.8237189\ttotal: 15.4s\tremaining: 4.55s\n",
            "463:\tlearn: 0.8237189\ttotal: 15.4s\tremaining: 4.52s\n",
            "464:\tlearn: 0.8237189\ttotal: 15.4s\tremaining: 4.48s\n",
            "465:\tlearn: 0.8237189\ttotal: 15.5s\tremaining: 4.47s\n",
            "466:\tlearn: 0.8237189\ttotal: 15.6s\tremaining: 4.45s\n",
            "467:\tlearn: 0.8237189\ttotal: 15.7s\tremaining: 4.43s\n",
            "468:\tlearn: 0.8237189\ttotal: 15.8s\tremaining: 4.41s\n",
            "469:\tlearn: 0.8237189\ttotal: 15.8s\tremaining: 4.37s\n",
            "470:\tlearn: 0.8237189\ttotal: 15.8s\tremaining: 4.33s\n",
            "471:\tlearn: 0.8237189\ttotal: 15.9s\tremaining: 4.32s\n",
            "472:\tlearn: 0.8237189\ttotal: 15.9s\tremaining: 4.28s\n",
            "473:\tlearn: 0.8237189\ttotal: 15.9s\tremaining: 4.24s\n",
            "474:\tlearn: 0.8237189\ttotal: 16s\tremaining: 4.2s\n",
            "475:\tlearn: 0.8237189\ttotal: 16s\tremaining: 4.16s\n",
            "476:\tlearn: 0.8237189\ttotal: 16s\tremaining: 4.14s\n",
            "477:\tlearn: 0.8237189\ttotal: 16.1s\tremaining: 4.12s\n",
            "478:\tlearn: 0.8237189\ttotal: 16.1s\tremaining: 4.08s\n",
            "479:\tlearn: 0.8237189\ttotal: 16.2s\tremaining: 4.04s\n",
            "480:\tlearn: 0.8237189\ttotal: 16.2s\tremaining: 4.01s\n",
            "481:\tlearn: 0.8237189\ttotal: 16.2s\tremaining: 3.98s\n",
            "482:\tlearn: 0.8237189\ttotal: 16.3s\tremaining: 3.95s\n",
            "483:\tlearn: 0.8237189\ttotal: 16.3s\tremaining: 3.91s\n",
            "484:\tlearn: 0.8237189\ttotal: 16.4s\tremaining: 3.88s\n",
            "485:\tlearn: 0.8237189\ttotal: 16.4s\tremaining: 3.85s\n",
            "486:\tlearn: 0.8237189\ttotal: 16.5s\tremaining: 3.82s\n",
            "487:\tlearn: 0.8237189\ttotal: 16.5s\tremaining: 3.79s\n",
            "488:\tlearn: 0.8237189\ttotal: 16.5s\tremaining: 3.75s\n",
            "489:\tlearn: 0.8237189\ttotal: 16.5s\tremaining: 3.71s\n",
            "490:\tlearn: 0.8237189\ttotal: 16.6s\tremaining: 3.68s\n",
            "491:\tlearn: 0.8237189\ttotal: 16.7s\tremaining: 3.65s\n",
            "492:\tlearn: 0.8237189\ttotal: 16.7s\tremaining: 3.62s\n",
            "493:\tlearn: 0.8237189\ttotal: 16.7s\tremaining: 3.58s\n",
            "494:\tlearn: 0.8237189\ttotal: 16.7s\tremaining: 3.54s\n",
            "495:\tlearn: 0.8237189\ttotal: 16.8s\tremaining: 3.52s\n",
            "496:\tlearn: 0.8237189\ttotal: 16.8s\tremaining: 3.49s\n",
            "497:\tlearn: 0.8237189\ttotal: 16.9s\tremaining: 3.46s\n",
            "498:\tlearn: 0.8237189\ttotal: 16.9s\tremaining: 3.43s\n",
            "499:\tlearn: 0.8237189\ttotal: 17s\tremaining: 3.4s\n",
            "500:\tlearn: 0.8237189\ttotal: 17.1s\tremaining: 3.37s\n",
            "501:\tlearn: 0.8237189\ttotal: 17.1s\tremaining: 3.34s\n",
            "502:\tlearn: 0.8237189\ttotal: 17.1s\tremaining: 3.31s\n",
            "503:\tlearn: 0.8237189\ttotal: 17.2s\tremaining: 3.27s\n",
            "504:\tlearn: 0.8237189\ttotal: 17.3s\tremaining: 3.25s\n",
            "505:\tlearn: 0.8237189\ttotal: 17.3s\tremaining: 3.21s\n",
            "506:\tlearn: 0.8237189\ttotal: 17.4s\tremaining: 3.19s\n",
            "507:\tlearn: 0.8237189\ttotal: 17.4s\tremaining: 3.15s\n",
            "508:\tlearn: 0.8237189\ttotal: 17.5s\tremaining: 3.13s\n",
            "509:\tlearn: 0.8237189\ttotal: 17.6s\tremaining: 3.1s\n",
            "510:\tlearn: 0.8237189\ttotal: 17.6s\tremaining: 3.07s\n",
            "511:\tlearn: 0.8237189\ttotal: 17.7s\tremaining: 3.04s\n",
            "512:\tlearn: 0.8237189\ttotal: 17.7s\tremaining: 3s\n",
            "513:\tlearn: 0.8237189\ttotal: 17.8s\tremaining: 2.97s\n",
            "514:\tlearn: 0.8237189\ttotal: 17.8s\tremaining: 2.94s\n",
            "515:\tlearn: 0.8237189\ttotal: 17.8s\tremaining: 2.9s\n",
            "516:\tlearn: 0.8237189\ttotal: 17.8s\tremaining: 2.87s\n",
            "517:\tlearn: 0.8237189\ttotal: 17.9s\tremaining: 2.83s\n",
            "518:\tlearn: 0.8237189\ttotal: 17.9s\tremaining: 2.79s\n",
            "519:\tlearn: 0.8237189\ttotal: 17.9s\tremaining: 2.75s\n",
            "520:\tlearn: 0.8237189\ttotal: 17.9s\tremaining: 2.72s\n",
            "521:\tlearn: 0.8237189\ttotal: 18s\tremaining: 2.69s\n",
            "522:\tlearn: 0.8237189\ttotal: 18s\tremaining: 2.65s\n",
            "523:\tlearn: 0.8237189\ttotal: 18s\tremaining: 2.62s\n",
            "524:\tlearn: 0.8237189\ttotal: 18.1s\tremaining: 2.58s\n",
            "525:\tlearn: 0.8237189\ttotal: 18.2s\tremaining: 2.56s\n",
            "526:\tlearn: 0.8237189\ttotal: 18.2s\tremaining: 2.52s\n",
            "527:\tlearn: 0.8237189\ttotal: 18.3s\tremaining: 2.49s\n",
            "528:\tlearn: 0.8237189\ttotal: 18.4s\tremaining: 2.46s\n",
            "529:\tlearn: 0.8237189\ttotal: 18.4s\tremaining: 2.43s\n",
            "530:\tlearn: 0.8237189\ttotal: 18.4s\tremaining: 2.39s\n",
            "531:\tlearn: 0.8237189\ttotal: 18.5s\tremaining: 2.36s\n",
            "532:\tlearn: 0.8237189\ttotal: 18.5s\tremaining: 2.33s\n",
            "533:\tlearn: 0.8237189\ttotal: 18.6s\tremaining: 2.29s\n",
            "534:\tlearn: 0.8237189\ttotal: 18.6s\tremaining: 2.26s\n",
            "535:\tlearn: 0.8237189\ttotal: 18.7s\tremaining: 2.23s\n",
            "536:\tlearn: 0.8237189\ttotal: 18.7s\tremaining: 2.2s\n",
            "537:\tlearn: 0.8237189\ttotal: 18.8s\tremaining: 2.17s\n",
            "538:\tlearn: 0.8237189\ttotal: 18.9s\tremaining: 2.13s\n",
            "539:\tlearn: 0.8237189\ttotal: 18.9s\tremaining: 2.1s\n",
            "540:\tlearn: 0.8237189\ttotal: 18.9s\tremaining: 2.06s\n",
            "541:\tlearn: 0.8237189\ttotal: 19s\tremaining: 2.03s\n",
            "542:\tlearn: 0.8237189\ttotal: 19.1s\tremaining: 2s\n",
            "543:\tlearn: 0.8237189\ttotal: 19.2s\tremaining: 1.97s\n",
            "544:\tlearn: 0.8237189\ttotal: 19.2s\tremaining: 1.93s\n",
            "545:\tlearn: 0.8237189\ttotal: 19.2s\tremaining: 1.9s\n",
            "546:\tlearn: 0.8237189\ttotal: 19.3s\tremaining: 1.86s\n",
            "547:\tlearn: 0.8237189\ttotal: 19.3s\tremaining: 1.83s\n",
            "548:\tlearn: 0.8238911\ttotal: 19.3s\tremaining: 1.79s\n",
            "549:\tlearn: 0.8238911\ttotal: 19.3s\tremaining: 1.76s\n",
            "550:\tlearn: 0.8238911\ttotal: 19.4s\tremaining: 1.72s\n",
            "551:\tlearn: 0.8238911\ttotal: 19.4s\tremaining: 1.68s\n",
            "552:\tlearn: 0.8238911\ttotal: 19.4s\tremaining: 1.65s\n",
            "553:\tlearn: 0.8238911\ttotal: 19.4s\tremaining: 1.61s\n",
            "554:\tlearn: 0.8238911\ttotal: 19.4s\tremaining: 1.58s\n",
            "555:\tlearn: 0.8238911\ttotal: 19.5s\tremaining: 1.54s\n",
            "556:\tlearn: 0.8238911\ttotal: 19.5s\tremaining: 1.51s\n",
            "557:\tlearn: 0.8238911\ttotal: 19.6s\tremaining: 1.47s\n",
            "558:\tlearn: 0.8238911\ttotal: 19.6s\tremaining: 1.44s\n",
            "559:\tlearn: 0.8238911\ttotal: 19.6s\tremaining: 1.4s\n",
            "560:\tlearn: 0.8238911\ttotal: 19.6s\tremaining: 1.36s\n",
            "561:\tlearn: 0.8238911\ttotal: 19.6s\tremaining: 1.33s\n",
            "562:\tlearn: 0.8238911\ttotal: 19.6s\tremaining: 1.29s\n",
            "563:\tlearn: 0.8238911\ttotal: 19.7s\tremaining: 1.25s\n",
            "564:\tlearn: 0.8238911\ttotal: 19.7s\tremaining: 1.22s\n",
            "565:\tlearn: 0.8238911\ttotal: 19.7s\tremaining: 1.19s\n",
            "566:\tlearn: 0.8238911\ttotal: 19.8s\tremaining: 1.15s\n",
            "567:\tlearn: 0.8238911\ttotal: 19.8s\tremaining: 1.11s\n",
            "568:\tlearn: 0.8238911\ttotal: 19.8s\tremaining: 1.08s\n",
            "569:\tlearn: 0.8238911\ttotal: 19.8s\tremaining: 1.04s\n",
            "570:\tlearn: 0.8238911\ttotal: 19.9s\tremaining: 1.01s\n",
            "571:\tlearn: 0.8238911\ttotal: 19.9s\tremaining: 976ms\n",
            "572:\tlearn: 0.8238911\ttotal: 20s\tremaining: 940ms\n",
            "573:\tlearn: 0.8238911\ttotal: 20s\tremaining: 905ms\n",
            "574:\tlearn: 0.8238911\ttotal: 20s\tremaining: 871ms\n",
            "575:\tlearn: 0.8238911\ttotal: 20.1s\tremaining: 836ms\n",
            "576:\tlearn: 0.8238911\ttotal: 20.1s\tremaining: 801ms\n",
            "577:\tlearn: 0.8238911\ttotal: 20.1s\tremaining: 766ms\n",
            "578:\tlearn: 0.8238911\ttotal: 20.1s\tremaining: 730ms\n",
            "579:\tlearn: 0.8238911\ttotal: 20.2s\tremaining: 696ms\n",
            "580:\tlearn: 0.8238911\ttotal: 20.2s\tremaining: 661ms\n",
            "581:\tlearn: 0.8238911\ttotal: 20.2s\tremaining: 626ms\n",
            "582:\tlearn: 0.8238911\ttotal: 20.2s\tremaining: 590ms\n",
            "583:\tlearn: 0.8238911\ttotal: 20.3s\tremaining: 555ms\n",
            "584:\tlearn: 0.8238911\ttotal: 20.3s\tremaining: 522ms\n",
            "585:\tlearn: 0.8238911\ttotal: 20.4s\tremaining: 486ms\n",
            "586:\tlearn: 0.8238911\ttotal: 20.4s\tremaining: 452ms\n",
            "587:\tlearn: 0.8238911\ttotal: 20.4s\tremaining: 417ms\n",
            "588:\tlearn: 0.8238911\ttotal: 20.4s\tremaining: 382ms\n",
            "589:\tlearn: 0.8238911\ttotal: 20.5s\tremaining: 347ms\n",
            "590:\tlearn: 0.8237189\ttotal: 20.5s\tremaining: 312ms\n",
            "591:\tlearn: 0.8238911\ttotal: 20.5s\tremaining: 277ms\n",
            "592:\tlearn: 0.8238911\ttotal: 20.5s\tremaining: 242ms\n",
            "593:\tlearn: 0.8238911\ttotal: 20.6s\tremaining: 208ms\n",
            "594:\tlearn: 0.8238911\ttotal: 20.6s\tremaining: 173ms\n",
            "595:\tlearn: 0.8238911\ttotal: 20.7s\tremaining: 139ms\n",
            "596:\tlearn: 0.8237189\ttotal: 20.7s\tremaining: 104ms\n",
            "597:\tlearn: 0.8237189\ttotal: 20.7s\tremaining: 69.3ms\n",
            "598:\tlearn: 0.8237189\ttotal: 20.7s\tremaining: 34.6ms\n",
            "599:\tlearn: 0.8237189\ttotal: 20.8s\tremaining: 0us\n"
          ],
          "name": "stdout"
        },
        {
          "output_type": "execute_result",
          "data": {
            "text/plain": [
              "<catboost.core.CatBoostClassifier at 0x7f501d159910>"
            ]
          },
          "metadata": {
            "tags": []
          },
          "execution_count": 135
        }
      ]
    },
    {
      "cell_type": "code",
      "metadata": {
        "colab": {
          "base_uri": "https://localhost:8080/"
        },
        "id": "Npbm7ZnT4nT2",
        "outputId": "08644de2-95c6-4bf1-8e8a-5b619b2c1c5a"
      },
      "source": [
        "from sklearn.metrics import f1_score\n",
        "preds = [cb.predict([elem]) for elem in X_test]\n",
        "f1_score(preds, y_test)"
      ],
      "execution_count": null,
      "outputs": [
        {
          "output_type": "execute_result",
          "data": {
            "text/plain": [
              "0.8644688644688645"
            ]
          },
          "metadata": {
            "tags": []
          },
          "execution_count": 136
        }
      ]
    },
    {
      "cell_type": "markdown",
      "metadata": {
        "id": "NTySIrNyqnfV"
      },
      "source": [
        "# Test set"
      ]
    },
    {
      "cell_type": "code",
      "metadata": {
        "id": "clP_lRg2lqHQ",
        "colab": {
          "base_uri": "https://localhost:8080/",
          "height": 205
        },
        "outputId": "c652dcb8-3f67-48a1-e705-8c90b64ffc59"
      },
      "source": [
        "TEST_PATH = '/content/test.csv'\n",
        "df_test = pd.read_csv(TEST_PATH)\n",
        "df_test.head()"
      ],
      "execution_count": null,
      "outputs": [
        {
          "output_type": "execute_result",
          "data": {
            "text/html": [
              "<div>\n",
              "<style scoped>\n",
              "    .dataframe tbody tr th:only-of-type {\n",
              "        vertical-align: middle;\n",
              "    }\n",
              "\n",
              "    .dataframe tbody tr th {\n",
              "        vertical-align: top;\n",
              "    }\n",
              "\n",
              "    .dataframe thead th {\n",
              "        text-align: right;\n",
              "    }\n",
              "</style>\n",
              "<table border=\"1\" class=\"dataframe\">\n",
              "  <thead>\n",
              "    <tr style=\"text-align: right;\">\n",
              "      <th></th>\n",
              "      <th>id</th>\n",
              "      <th>keyword</th>\n",
              "      <th>location</th>\n",
              "      <th>text</th>\n",
              "    </tr>\n",
              "  </thead>\n",
              "  <tbody>\n",
              "    <tr>\n",
              "      <th>0</th>\n",
              "      <td>0</td>\n",
              "      <td>NaN</td>\n",
              "      <td>NaN</td>\n",
              "      <td>Just happened a terrible car crash</td>\n",
              "    </tr>\n",
              "    <tr>\n",
              "      <th>1</th>\n",
              "      <td>2</td>\n",
              "      <td>NaN</td>\n",
              "      <td>NaN</td>\n",
              "      <td>Heard about #earthquake is different cities, s...</td>\n",
              "    </tr>\n",
              "    <tr>\n",
              "      <th>2</th>\n",
              "      <td>3</td>\n",
              "      <td>NaN</td>\n",
              "      <td>NaN</td>\n",
              "      <td>there is a forest fire at spot pond, geese are...</td>\n",
              "    </tr>\n",
              "    <tr>\n",
              "      <th>3</th>\n",
              "      <td>9</td>\n",
              "      <td>NaN</td>\n",
              "      <td>NaN</td>\n",
              "      <td>Apocalypse lighting. #Spokane #wildfires</td>\n",
              "    </tr>\n",
              "    <tr>\n",
              "      <th>4</th>\n",
              "      <td>11</td>\n",
              "      <td>NaN</td>\n",
              "      <td>NaN</td>\n",
              "      <td>Typhoon Soudelor kills 28 in China and Taiwan</td>\n",
              "    </tr>\n",
              "  </tbody>\n",
              "</table>\n",
              "</div>"
            ],
            "text/plain": [
              "   id keyword location                                               text\n",
              "0   0     NaN      NaN                 Just happened a terrible car crash\n",
              "1   2     NaN      NaN  Heard about #earthquake is different cities, s...\n",
              "2   3     NaN      NaN  there is a forest fire at spot pond, geese are...\n",
              "3   9     NaN      NaN           Apocalypse lighting. #Spokane #wildfires\n",
              "4  11     NaN      NaN      Typhoon Soudelor kills 28 in China and Taiwan"
            ]
          },
          "metadata": {
            "tags": []
          },
          "execution_count": 137
        }
      ]
    },
    {
      "cell_type": "code",
      "metadata": {
        "id": "EUjJDfVXiEIJ",
        "colab": {
          "base_uri": "https://localhost:8080/",
          "height": 205
        },
        "outputId": "eaa35b6e-16d7-4251-d42f-57cb6fb50b02"
      },
      "source": [
        "df_test['text'] = df_test['text'].apply(clean_sentence)\n",
        "df_test.head()"
      ],
      "execution_count": null,
      "outputs": [
        {
          "output_type": "execute_result",
          "data": {
            "text/html": [
              "<div>\n",
              "<style scoped>\n",
              "    .dataframe tbody tr th:only-of-type {\n",
              "        vertical-align: middle;\n",
              "    }\n",
              "\n",
              "    .dataframe tbody tr th {\n",
              "        vertical-align: top;\n",
              "    }\n",
              "\n",
              "    .dataframe thead th {\n",
              "        text-align: right;\n",
              "    }\n",
              "</style>\n",
              "<table border=\"1\" class=\"dataframe\">\n",
              "  <thead>\n",
              "    <tr style=\"text-align: right;\">\n",
              "      <th></th>\n",
              "      <th>id</th>\n",
              "      <th>keyword</th>\n",
              "      <th>location</th>\n",
              "      <th>text</th>\n",
              "    </tr>\n",
              "  </thead>\n",
              "  <tbody>\n",
              "    <tr>\n",
              "      <th>0</th>\n",
              "      <td>0</td>\n",
              "      <td>NaN</td>\n",
              "      <td>NaN</td>\n",
              "      <td>happened terrible car crash</td>\n",
              "    </tr>\n",
              "    <tr>\n",
              "      <th>1</th>\n",
              "      <td>2</td>\n",
              "      <td>NaN</td>\n",
              "      <td>NaN</td>\n",
              "      <td>heard earthquake different cities, stay safe e...</td>\n",
              "    </tr>\n",
              "    <tr>\n",
              "      <th>2</th>\n",
              "      <td>3</td>\n",
              "      <td>NaN</td>\n",
              "      <td>NaN</td>\n",
              "      <td>forest fire spot pond, geese fleeing across st...</td>\n",
              "    </tr>\n",
              "    <tr>\n",
              "      <th>3</th>\n",
              "      <td>9</td>\n",
              "      <td>NaN</td>\n",
              "      <td>NaN</td>\n",
              "      <td>apocalypse lighting. spokane wildfires</td>\n",
              "    </tr>\n",
              "    <tr>\n",
              "      <th>4</th>\n",
              "      <td>11</td>\n",
              "      <td>NaN</td>\n",
              "      <td>NaN</td>\n",
              "      <td>typhoon soudelor kills 28 china taiwan</td>\n",
              "    </tr>\n",
              "  </tbody>\n",
              "</table>\n",
              "</div>"
            ],
            "text/plain": [
              "   id keyword location                                               text\n",
              "0   0     NaN      NaN                        happened terrible car crash\n",
              "1   2     NaN      NaN  heard earthquake different cities, stay safe e...\n",
              "2   3     NaN      NaN  forest fire spot pond, geese fleeing across st...\n",
              "3   9     NaN      NaN             apocalypse lighting. spokane wildfires\n",
              "4  11     NaN      NaN             typhoon soudelor kills 28 china taiwan"
            ]
          },
          "metadata": {
            "tags": []
          },
          "execution_count": 138
        }
      ]
    },
    {
      "cell_type": "code",
      "metadata": {
        "id": "EubEfL4Nq22H"
      },
      "source": [
        "test_input_ids = torch.tensor([])\n",
        "test_attention_masks = torch.tensor([])\n",
        "\n",
        "for sent in df_test.loc[:, 'text']:\n",
        "    encoded_sent = tokenizer.encode_plus(sent, add_special_tokens = True,\n",
        "                                         max_length = Config.max_len, padding = 'max_length',\n",
        "                                         return_tensors = 'pt')\n",
        "    test_input_ids = torch.cat([test_input_ids, encoded_sent['input_ids']])\n",
        "    test_attention_masks = torch.cat([test_attention_masks, encoded_sent['attention_mask']])"
      ],
      "execution_count": null,
      "outputs": []
    },
    {
      "cell_type": "code",
      "metadata": {
        "colab": {
          "base_uri": "https://localhost:8080/"
        },
        "id": "3JYpAUbgq25X",
        "outputId": "94916633-671c-4dcd-ed79-3c79aa57b96e"
      },
      "source": [
        "test_input_ids"
      ],
      "execution_count": null,
      "outputs": [
        {
          "output_type": "execute_result",
          "data": {
            "text/plain": [
              "tensor([[  101.,  2171.,  6434.,  ...,     0.,     0.,     0.],\n",
              "        [  101.,  1767.,  8386.,  ...,     0.,     0.,     0.],\n",
              "        [  101.,  3304.,  1783.,  ...,     0.,     0.,     0.],\n",
              "        ...,\n",
              "        [  101.,  2448.,  1413.,  ...,     0.,     0.,     0.],\n",
              "        [  101.,  1143.,  1403.,  ...,     0.,     0.,     0.],\n",
              "        [  101.,  1331., 10008.,  ...,     0.,     0.,     0.]])"
            ]
          },
          "metadata": {
            "tags": []
          },
          "execution_count": 140
        }
      ]
    },
    {
      "cell_type": "code",
      "metadata": {
        "colab": {
          "base_uri": "https://localhost:8080/"
        },
        "id": "xExOZIsxrn3V",
        "outputId": "7d98f9c4-15da-4ee5-b2d7-9ef9c55907b4"
      },
      "source": [
        "test_attention_masks"
      ],
      "execution_count": null,
      "outputs": [
        {
          "output_type": "execute_result",
          "data": {
            "text/plain": [
              "tensor([[1., 1., 1.,  ..., 0., 0., 0.],\n",
              "        [1., 1., 1.,  ..., 0., 0., 0.],\n",
              "        [1., 1., 1.,  ..., 0., 0., 0.],\n",
              "        ...,\n",
              "        [1., 1., 1.,  ..., 0., 0., 0.],\n",
              "        [1., 1., 1.,  ..., 0., 0., 0.],\n",
              "        [1., 1., 1.,  ..., 0., 0., 0.]])"
            ]
          },
          "metadata": {
            "tags": []
          },
          "execution_count": 141
        }
      ]
    },
    {
      "cell_type": "code",
      "metadata": {
        "colab": {
          "base_uri": "https://localhost:8080/"
        },
        "id": "byC8Vnigq29k",
        "outputId": "80f97623-c718-41f4-a818-f8814c63a248"
      },
      "source": [
        "test_dataset = TensorDataset(test_input_ids, test_attention_masks)\n",
        "test_dataset[0]"
      ],
      "execution_count": null,
      "outputs": [
        {
          "output_type": "execute_result",
          "data": {
            "text/plain": [
              "(tensor([ 101., 2171., 6434., 1610., 5683.,  102.,    0.,    0.,    0.,    0.,\n",
              "            0.,    0.,    0.,    0.,    0.,    0.,    0.,    0.,    0.,    0.,\n",
              "            0.,    0.,    0.,    0.,    0.,    0.,    0.,    0.,    0.,    0.,\n",
              "            0.,    0.,    0.,    0.,    0.,    0.,    0.,    0.,    0.,    0.,\n",
              "            0.,    0.,    0.,    0.,    0.,    0.,    0.,    0.,    0.,    0.,\n",
              "            0.,    0.,    0.,    0.,    0.,    0.,    0.,    0.,    0.,    0.,\n",
              "            0.,    0.,    0.,    0.,    0.,    0.,    0.,    0.,    0.,    0.,\n",
              "            0.]),\n",
              " tensor([1., 1., 1., 1., 1., 1., 0., 0., 0., 0., 0., 0., 0., 0., 0., 0., 0., 0.,\n",
              "         0., 0., 0., 0., 0., 0., 0., 0., 0., 0., 0., 0., 0., 0., 0., 0., 0., 0.,\n",
              "         0., 0., 0., 0., 0., 0., 0., 0., 0., 0., 0., 0., 0., 0., 0., 0., 0., 0.,\n",
              "         0., 0., 0., 0., 0., 0., 0., 0., 0., 0., 0., 0., 0., 0., 0., 0., 0.]))"
            ]
          },
          "metadata": {
            "tags": []
          },
          "execution_count": 150
        }
      ]
    },
    {
      "cell_type": "code",
      "metadata": {
        "id": "5Sp1LOL9q2_k"
      },
      "source": [
        "test_loader = DataLoader(test_dataset, sampler = SequentialSampler(test_dataset), batch_size = 1)"
      ],
      "execution_count": null,
      "outputs": []
    },
    {
      "cell_type": "code",
      "metadata": {
        "colab": {
          "base_uri": "https://localhost:8080/"
        },
        "id": "FI4p1t3Cr1pF",
        "outputId": "90b0e01e-17de-4236-d424-50b7eceffddd"
      },
      "source": [
        "next(iter(test_loader))"
      ],
      "execution_count": null,
      "outputs": [
        {
          "output_type": "execute_result",
          "data": {
            "text/plain": [
              "[tensor([[ 101., 2171., 6434., 1610., 5683.,  102.,    0.,    0.,    0.,    0.,\n",
              "             0.,    0.,    0.,    0.,    0.,    0.,    0.,    0.,    0.,    0.,\n",
              "             0.,    0.,    0.,    0.,    0.,    0.,    0.,    0.,    0.,    0.,\n",
              "             0.,    0.,    0.,    0.,    0.,    0.,    0.,    0.,    0.,    0.,\n",
              "             0.,    0.,    0.,    0.,    0.,    0.,    0.,    0.,    0.,    0.,\n",
              "             0.,    0.,    0.,    0.,    0.,    0.,    0.,    0.,    0.,    0.,\n",
              "             0.,    0.,    0.,    0.,    0.,    0.,    0.,    0.,    0.,    0.,\n",
              "             0.]]),\n",
              " tensor([[1., 1., 1., 1., 1., 1., 0., 0., 0., 0., 0., 0., 0., 0., 0., 0., 0., 0.,\n",
              "          0., 0., 0., 0., 0., 0., 0., 0., 0., 0., 0., 0., 0., 0., 0., 0., 0., 0.,\n",
              "          0., 0., 0., 0., 0., 0., 0., 0., 0., 0., 0., 0., 0., 0., 0., 0., 0., 0.,\n",
              "          0., 0., 0., 0., 0., 0., 0., 0., 0., 0., 0., 0., 0., 0., 0., 0., 0.]])]"
            ]
          },
          "metadata": {
            "tags": []
          },
          "execution_count": 144
        }
      ]
    },
    {
      "cell_type": "code",
      "metadata": {
        "id": "DjHr01Chr1rz"
      },
      "source": [
        "def get_preds(bert_model, cb_model, loader, df_test):\n",
        "\n",
        "    bert_model.eval() # Evaluation mode\n",
        "    res = torch.tensor([])\n",
        "    softmax = torch.nn.Softmax()\n",
        "\n",
        "    for index, (sentence, attention_mask) in enumerate(loader):\n",
        "        sentence = sentence.to(device).long()\n",
        "        attention_mask = attention_mask.to(device).long()\n",
        "\n",
        "        with torch.no_grad():\n",
        "            bert_pred = bert_model(sentence, token_type_ids = None, attention_mask = attention_mask)\n",
        "            bert_pred = softmax(bert_pred[0])\n",
        "            cb_pred = cb_model.predict_proba([df_test.loc[index, 'text']])\n",
        "            pred = (bert_pred + torch.tensor(cb_pred).to(device)) / 2\n",
        "        \n",
        "        _, indices = torch.max(pred, 1)\n",
        "        res = torch.cat([res.to(device), indices.to(device)])\n",
        "\n",
        "    return res\n",
        "\n",
        "# get_preds(bert_model, test_loader)"
      ],
      "execution_count": null,
      "outputs": []
    },
    {
      "cell_type": "code",
      "metadata": {
        "colab": {
          "base_uri": "https://localhost:8080/"
        },
        "id": "vbJSfWivr1uZ",
        "outputId": "22b88dd9-95a1-4f40-d965-08ae86fcae9c"
      },
      "source": [
        "preds = get_preds(bert_model, cb, test_loader, df_test)\n",
        "preds"
      ],
      "execution_count": null,
      "outputs": [
        {
          "output_type": "stream",
          "text": [
            "/usr/local/lib/python3.7/dist-packages/ipykernel_launcher.py:13: UserWarning: Implicit dimension choice for softmax has been deprecated. Change the call to include dim=X as an argument.\n",
            "  del sys.path[0]\n"
          ],
          "name": "stderr"
        },
        {
          "output_type": "execute_result",
          "data": {
            "text/plain": [
              "tensor([1., 1., 1.,  ..., 1., 1., 1.], device='cuda:0')"
            ]
          },
          "metadata": {
            "tags": []
          },
          "execution_count": 194
        }
      ]
    },
    {
      "cell_type": "code",
      "metadata": {
        "colab": {
          "base_uri": "https://localhost:8080/"
        },
        "id": "E9ggYcpnspZj",
        "outputId": "dc918db8-b600-4742-fcbd-6ccdd8695232"
      },
      "source": [
        "preds = pd.DataFrame({'id': df_test['id'], 'target': preds.cpu().int()})\n",
        "preds.shape"
      ],
      "execution_count": null,
      "outputs": [
        {
          "output_type": "execute_result",
          "data": {
            "text/plain": [
              "(3263, 2)"
            ]
          },
          "metadata": {
            "tags": []
          },
          "execution_count": 195
        }
      ]
    },
    {
      "cell_type": "code",
      "metadata": {
        "id": "RMfBLWOrt6kI"
      },
      "source": [
        "preds.to_csv('submission.csv', index = False)"
      ],
      "execution_count": null,
      "outputs": []
    },
    {
      "cell_type": "markdown",
      "metadata": {
        "id": "KfY438CyvzWT"
      },
      "source": [
        "# Save BERT"
      ]
    },
    {
      "cell_type": "code",
      "metadata": {
        "id": "YUSge7K2v0hr"
      },
      "source": [
        "# torch.save(bert_model.state_dict(), 'bert.pth')"
      ],
      "execution_count": null,
      "outputs": []
    },
    {
      "cell_type": "code",
      "metadata": {
        "id": "4ZjjtSTOv9N0"
      },
      "source": [
        "# modelB = BertForSequenceClassification.from_pretrained(\n",
        "#     'bert-base-cased',\n",
        "#     num_labels = 2,\n",
        "#     output_attentions = False,\n",
        "#     output_hidden_states = False\n",
        "# ).to(device\n",
        "#      )\n",
        "# modelB.load_state_dict(torch.load(PATH)) #, strict = False)"
      ],
      "execution_count": null,
      "outputs": []
    },
    {
      "cell_type": "markdown",
      "metadata": {
        "id": "DMHXYSjqJckP"
      },
      "source": [
        "# Save CatBoost"
      ]
    },
    {
      "cell_type": "code",
      "metadata": {
        "id": "F_HFjfymJeR1"
      },
      "source": [
        "# cb.save_model('CatBoostClassifier.cbm', format = 'cbm')"
      ],
      "execution_count": null,
      "outputs": []
    },
    {
      "cell_type": "code",
      "metadata": {
        "colab": {
          "base_uri": "https://localhost:8080/"
        },
        "id": "m9HwqOCNJvDO",
        "outputId": "7b4936a9-76da-4f68-a9ad-dee79d850b70"
      },
      "source": [
        "# model = CatBoostClassifier()\n",
        "# model.load_model('/content/CatBoostClassifier.cbm')"
      ],
      "execution_count": null,
      "outputs": [
        {
          "output_type": "execute_result",
          "data": {
            "text/plain": [
              "<catboost.core.CatBoostClassifier at 0x7f501cd712d0>"
            ]
          },
          "metadata": {
            "tags": []
          },
          "execution_count": 203
        }
      ]
    }
  ]
}
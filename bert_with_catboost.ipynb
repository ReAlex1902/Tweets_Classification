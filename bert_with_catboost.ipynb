{
  "nbformat": 4,
  "nbformat_minor": 0,
  "metadata": {
    "colab": {
      "name": "bert_with_catboost.ipynb",
      "provenance": [],
      "collapsed_sections": [],
      "authorship_tag": "ABX9TyNy+MRaS6mCbNPrQi1SceET",
      "include_colab_link": true
    },
    "kernelspec": {
      "name": "python3",
      "display_name": "Python 3"
    },
    "language_info": {
      "name": "python"
    },
    "accelerator": "GPU",
    "widgets": {
      "application/vnd.jupyter.widget-state+json": {
        "2ffc3fe122a54c698c99f5fc1d19d655": {
          "model_module": "@jupyter-widgets/controls",
          "model_name": "HBoxModel",
          "model_module_version": "1.5.0",
          "state": {
            "_view_name": "HBoxView",
            "_dom_classes": [],
            "_model_name": "HBoxModel",
            "_view_module": "@jupyter-widgets/controls",
            "_model_module_version": "1.5.0",
            "_view_count": null,
            "_view_module_version": "1.5.0",
            "box_style": "",
            "layout": "IPY_MODEL_fe42bdeaaba34fd2a1cfef08ef2c2540",
            "_model_module": "@jupyter-widgets/controls",
            "children": [
              "IPY_MODEL_1eb3f3eec16d47a582f944c6417efe3c",
              "IPY_MODEL_869c989ebdb343d1b92bcc015a7af3a9",
              "IPY_MODEL_1ddffa967fe6400e83f746169e510ed5"
            ]
          }
        },
        "fe42bdeaaba34fd2a1cfef08ef2c2540": {
          "model_module": "@jupyter-widgets/base",
          "model_name": "LayoutModel",
          "model_module_version": "1.2.0",
          "state": {
            "_view_name": "LayoutView",
            "grid_template_rows": null,
            "right": null,
            "justify_content": null,
            "_view_module": "@jupyter-widgets/base",
            "overflow": null,
            "_model_module_version": "1.2.0",
            "_view_count": null,
            "flex_flow": null,
            "width": null,
            "min_width": null,
            "border": null,
            "align_items": null,
            "bottom": null,
            "_model_module": "@jupyter-widgets/base",
            "top": null,
            "grid_column": null,
            "overflow_y": null,
            "overflow_x": null,
            "grid_auto_flow": null,
            "grid_area": null,
            "grid_template_columns": null,
            "flex": null,
            "_model_name": "LayoutModel",
            "justify_items": null,
            "grid_row": null,
            "max_height": null,
            "align_content": null,
            "visibility": null,
            "align_self": null,
            "height": null,
            "min_height": null,
            "padding": null,
            "grid_auto_rows": null,
            "grid_gap": null,
            "max_width": null,
            "order": null,
            "_view_module_version": "1.2.0",
            "grid_template_areas": null,
            "object_position": null,
            "object_fit": null,
            "grid_auto_columns": null,
            "margin": null,
            "display": null,
            "left": null
          }
        },
        "1eb3f3eec16d47a582f944c6417efe3c": {
          "model_module": "@jupyter-widgets/controls",
          "model_name": "HTMLModel",
          "model_module_version": "1.5.0",
          "state": {
            "_view_name": "HTMLView",
            "style": "IPY_MODEL_86fd2f9ddaf1423db5afa528ef9195ee",
            "_dom_classes": [],
            "description": "",
            "_model_name": "HTMLModel",
            "placeholder": "​",
            "_view_module": "@jupyter-widgets/controls",
            "_model_module_version": "1.5.0",
            "value": "Downloading: 100%",
            "_view_count": null,
            "_view_module_version": "1.5.0",
            "description_tooltip": null,
            "_model_module": "@jupyter-widgets/controls",
            "layout": "IPY_MODEL_86c72f1eb4ca4111a3571d8256fd62af"
          }
        },
        "869c989ebdb343d1b92bcc015a7af3a9": {
          "model_module": "@jupyter-widgets/controls",
          "model_name": "FloatProgressModel",
          "model_module_version": "1.5.0",
          "state": {
            "_view_name": "ProgressView",
            "style": "IPY_MODEL_ea98b77e0b314b048b574cfc8764a95b",
            "_dom_classes": [],
            "description": "",
            "_model_name": "FloatProgressModel",
            "bar_style": "success",
            "max": 213450,
            "_view_module": "@jupyter-widgets/controls",
            "_model_module_version": "1.5.0",
            "value": 213450,
            "_view_count": null,
            "_view_module_version": "1.5.0",
            "orientation": "horizontal",
            "min": 0,
            "description_tooltip": null,
            "_model_module": "@jupyter-widgets/controls",
            "layout": "IPY_MODEL_5c4e7337eaaa4ce2a81d662a5f767319"
          }
        },
        "1ddffa967fe6400e83f746169e510ed5": {
          "model_module": "@jupyter-widgets/controls",
          "model_name": "HTMLModel",
          "model_module_version": "1.5.0",
          "state": {
            "_view_name": "HTMLView",
            "style": "IPY_MODEL_dc2cae4fc2db4c099cb0b4a06cffb507",
            "_dom_classes": [],
            "description": "",
            "_model_name": "HTMLModel",
            "placeholder": "​",
            "_view_module": "@jupyter-widgets/controls",
            "_model_module_version": "1.5.0",
            "value": " 208k/208k [00:00&lt;00:00, 348kB/s]",
            "_view_count": null,
            "_view_module_version": "1.5.0",
            "description_tooltip": null,
            "_model_module": "@jupyter-widgets/controls",
            "layout": "IPY_MODEL_abcac6e5fb314397a87201d94518a1fe"
          }
        },
        "86fd2f9ddaf1423db5afa528ef9195ee": {
          "model_module": "@jupyter-widgets/controls",
          "model_name": "DescriptionStyleModel",
          "model_module_version": "1.5.0",
          "state": {
            "_view_name": "StyleView",
            "_model_name": "DescriptionStyleModel",
            "description_width": "",
            "_view_module": "@jupyter-widgets/base",
            "_model_module_version": "1.5.0",
            "_view_count": null,
            "_view_module_version": "1.2.0",
            "_model_module": "@jupyter-widgets/controls"
          }
        },
        "86c72f1eb4ca4111a3571d8256fd62af": {
          "model_module": "@jupyter-widgets/base",
          "model_name": "LayoutModel",
          "model_module_version": "1.2.0",
          "state": {
            "_view_name": "LayoutView",
            "grid_template_rows": null,
            "right": null,
            "justify_content": null,
            "_view_module": "@jupyter-widgets/base",
            "overflow": null,
            "_model_module_version": "1.2.0",
            "_view_count": null,
            "flex_flow": null,
            "width": null,
            "min_width": null,
            "border": null,
            "align_items": null,
            "bottom": null,
            "_model_module": "@jupyter-widgets/base",
            "top": null,
            "grid_column": null,
            "overflow_y": null,
            "overflow_x": null,
            "grid_auto_flow": null,
            "grid_area": null,
            "grid_template_columns": null,
            "flex": null,
            "_model_name": "LayoutModel",
            "justify_items": null,
            "grid_row": null,
            "max_height": null,
            "align_content": null,
            "visibility": null,
            "align_self": null,
            "height": null,
            "min_height": null,
            "padding": null,
            "grid_auto_rows": null,
            "grid_gap": null,
            "max_width": null,
            "order": null,
            "_view_module_version": "1.2.0",
            "grid_template_areas": null,
            "object_position": null,
            "object_fit": null,
            "grid_auto_columns": null,
            "margin": null,
            "display": null,
            "left": null
          }
        },
        "ea98b77e0b314b048b574cfc8764a95b": {
          "model_module": "@jupyter-widgets/controls",
          "model_name": "ProgressStyleModel",
          "model_module_version": "1.5.0",
          "state": {
            "_view_name": "StyleView",
            "_model_name": "ProgressStyleModel",
            "description_width": "",
            "_view_module": "@jupyter-widgets/base",
            "_model_module_version": "1.5.0",
            "_view_count": null,
            "_view_module_version": "1.2.0",
            "bar_color": null,
            "_model_module": "@jupyter-widgets/controls"
          }
        },
        "5c4e7337eaaa4ce2a81d662a5f767319": {
          "model_module": "@jupyter-widgets/base",
          "model_name": "LayoutModel",
          "model_module_version": "1.2.0",
          "state": {
            "_view_name": "LayoutView",
            "grid_template_rows": null,
            "right": null,
            "justify_content": null,
            "_view_module": "@jupyter-widgets/base",
            "overflow": null,
            "_model_module_version": "1.2.0",
            "_view_count": null,
            "flex_flow": null,
            "width": null,
            "min_width": null,
            "border": null,
            "align_items": null,
            "bottom": null,
            "_model_module": "@jupyter-widgets/base",
            "top": null,
            "grid_column": null,
            "overflow_y": null,
            "overflow_x": null,
            "grid_auto_flow": null,
            "grid_area": null,
            "grid_template_columns": null,
            "flex": null,
            "_model_name": "LayoutModel",
            "justify_items": null,
            "grid_row": null,
            "max_height": null,
            "align_content": null,
            "visibility": null,
            "align_self": null,
            "height": null,
            "min_height": null,
            "padding": null,
            "grid_auto_rows": null,
            "grid_gap": null,
            "max_width": null,
            "order": null,
            "_view_module_version": "1.2.0",
            "grid_template_areas": null,
            "object_position": null,
            "object_fit": null,
            "grid_auto_columns": null,
            "margin": null,
            "display": null,
            "left": null
          }
        },
        "dc2cae4fc2db4c099cb0b4a06cffb507": {
          "model_module": "@jupyter-widgets/controls",
          "model_name": "DescriptionStyleModel",
          "model_module_version": "1.5.0",
          "state": {
            "_view_name": "StyleView",
            "_model_name": "DescriptionStyleModel",
            "description_width": "",
            "_view_module": "@jupyter-widgets/base",
            "_model_module_version": "1.5.0",
            "_view_count": null,
            "_view_module_version": "1.2.0",
            "_model_module": "@jupyter-widgets/controls"
          }
        },
        "abcac6e5fb314397a87201d94518a1fe": {
          "model_module": "@jupyter-widgets/base",
          "model_name": "LayoutModel",
          "model_module_version": "1.2.0",
          "state": {
            "_view_name": "LayoutView",
            "grid_template_rows": null,
            "right": null,
            "justify_content": null,
            "_view_module": "@jupyter-widgets/base",
            "overflow": null,
            "_model_module_version": "1.2.0",
            "_view_count": null,
            "flex_flow": null,
            "width": null,
            "min_width": null,
            "border": null,
            "align_items": null,
            "bottom": null,
            "_model_module": "@jupyter-widgets/base",
            "top": null,
            "grid_column": null,
            "overflow_y": null,
            "overflow_x": null,
            "grid_auto_flow": null,
            "grid_area": null,
            "grid_template_columns": null,
            "flex": null,
            "_model_name": "LayoutModel",
            "justify_items": null,
            "grid_row": null,
            "max_height": null,
            "align_content": null,
            "visibility": null,
            "align_self": null,
            "height": null,
            "min_height": null,
            "padding": null,
            "grid_auto_rows": null,
            "grid_gap": null,
            "max_width": null,
            "order": null,
            "_view_module_version": "1.2.0",
            "grid_template_areas": null,
            "object_position": null,
            "object_fit": null,
            "grid_auto_columns": null,
            "margin": null,
            "display": null,
            "left": null
          }
        },
        "dd6fcff36ebc47b8978130a669a2c4e2": {
          "model_module": "@jupyter-widgets/controls",
          "model_name": "HBoxModel",
          "model_module_version": "1.5.0",
          "state": {
            "_view_name": "HBoxView",
            "_dom_classes": [],
            "_model_name": "HBoxModel",
            "_view_module": "@jupyter-widgets/controls",
            "_model_module_version": "1.5.0",
            "_view_count": null,
            "_view_module_version": "1.5.0",
            "box_style": "",
            "layout": "IPY_MODEL_8029cc56cff94802b701d07268c23fff",
            "_model_module": "@jupyter-widgets/controls",
            "children": [
              "IPY_MODEL_f449152847c94fd688c55db9409c48c2",
              "IPY_MODEL_718f56400bbb4cc69652b1305e20b927",
              "IPY_MODEL_23467cddbcda4b57bce87ab3a3fcfb59"
            ]
          }
        },
        "8029cc56cff94802b701d07268c23fff": {
          "model_module": "@jupyter-widgets/base",
          "model_name": "LayoutModel",
          "model_module_version": "1.2.0",
          "state": {
            "_view_name": "LayoutView",
            "grid_template_rows": null,
            "right": null,
            "justify_content": null,
            "_view_module": "@jupyter-widgets/base",
            "overflow": null,
            "_model_module_version": "1.2.0",
            "_view_count": null,
            "flex_flow": null,
            "width": null,
            "min_width": null,
            "border": null,
            "align_items": null,
            "bottom": null,
            "_model_module": "@jupyter-widgets/base",
            "top": null,
            "grid_column": null,
            "overflow_y": null,
            "overflow_x": null,
            "grid_auto_flow": null,
            "grid_area": null,
            "grid_template_columns": null,
            "flex": null,
            "_model_name": "LayoutModel",
            "justify_items": null,
            "grid_row": null,
            "max_height": null,
            "align_content": null,
            "visibility": null,
            "align_self": null,
            "height": null,
            "min_height": null,
            "padding": null,
            "grid_auto_rows": null,
            "grid_gap": null,
            "max_width": null,
            "order": null,
            "_view_module_version": "1.2.0",
            "grid_template_areas": null,
            "object_position": null,
            "object_fit": null,
            "grid_auto_columns": null,
            "margin": null,
            "display": null,
            "left": null
          }
        },
        "f449152847c94fd688c55db9409c48c2": {
          "model_module": "@jupyter-widgets/controls",
          "model_name": "HTMLModel",
          "model_module_version": "1.5.0",
          "state": {
            "_view_name": "HTMLView",
            "style": "IPY_MODEL_7cbedb117e9f445abc3486b394cbc670",
            "_dom_classes": [],
            "description": "",
            "_model_name": "HTMLModel",
            "placeholder": "​",
            "_view_module": "@jupyter-widgets/controls",
            "_model_module_version": "1.5.0",
            "value": "Downloading: 100%",
            "_view_count": null,
            "_view_module_version": "1.5.0",
            "description_tooltip": null,
            "_model_module": "@jupyter-widgets/controls",
            "layout": "IPY_MODEL_cf3f914e9e234c95be9757f847f0a40e"
          }
        },
        "718f56400bbb4cc69652b1305e20b927": {
          "model_module": "@jupyter-widgets/controls",
          "model_name": "FloatProgressModel",
          "model_module_version": "1.5.0",
          "state": {
            "_view_name": "ProgressView",
            "style": "IPY_MODEL_fe69b2b8728c4810a3e662d901311314",
            "_dom_classes": [],
            "description": "",
            "_model_name": "FloatProgressModel",
            "bar_style": "success",
            "max": 29,
            "_view_module": "@jupyter-widgets/controls",
            "_model_module_version": "1.5.0",
            "value": 29,
            "_view_count": null,
            "_view_module_version": "1.5.0",
            "orientation": "horizontal",
            "min": 0,
            "description_tooltip": null,
            "_model_module": "@jupyter-widgets/controls",
            "layout": "IPY_MODEL_8696c772cce043e08e7568b3225fc0c1"
          }
        },
        "23467cddbcda4b57bce87ab3a3fcfb59": {
          "model_module": "@jupyter-widgets/controls",
          "model_name": "HTMLModel",
          "model_module_version": "1.5.0",
          "state": {
            "_view_name": "HTMLView",
            "style": "IPY_MODEL_8b46f5403cd54e5bbccbbf8f485b9752",
            "_dom_classes": [],
            "description": "",
            "_model_name": "HTMLModel",
            "placeholder": "​",
            "_view_module": "@jupyter-widgets/controls",
            "_model_module_version": "1.5.0",
            "value": " 29.0/29.0 [00:00&lt;00:00, 736B/s]",
            "_view_count": null,
            "_view_module_version": "1.5.0",
            "description_tooltip": null,
            "_model_module": "@jupyter-widgets/controls",
            "layout": "IPY_MODEL_33c0affc434f4b04a9fc811aa4002e7a"
          }
        },
        "7cbedb117e9f445abc3486b394cbc670": {
          "model_module": "@jupyter-widgets/controls",
          "model_name": "DescriptionStyleModel",
          "model_module_version": "1.5.0",
          "state": {
            "_view_name": "StyleView",
            "_model_name": "DescriptionStyleModel",
            "description_width": "",
            "_view_module": "@jupyter-widgets/base",
            "_model_module_version": "1.5.0",
            "_view_count": null,
            "_view_module_version": "1.2.0",
            "_model_module": "@jupyter-widgets/controls"
          }
        },
        "cf3f914e9e234c95be9757f847f0a40e": {
          "model_module": "@jupyter-widgets/base",
          "model_name": "LayoutModel",
          "model_module_version": "1.2.0",
          "state": {
            "_view_name": "LayoutView",
            "grid_template_rows": null,
            "right": null,
            "justify_content": null,
            "_view_module": "@jupyter-widgets/base",
            "overflow": null,
            "_model_module_version": "1.2.0",
            "_view_count": null,
            "flex_flow": null,
            "width": null,
            "min_width": null,
            "border": null,
            "align_items": null,
            "bottom": null,
            "_model_module": "@jupyter-widgets/base",
            "top": null,
            "grid_column": null,
            "overflow_y": null,
            "overflow_x": null,
            "grid_auto_flow": null,
            "grid_area": null,
            "grid_template_columns": null,
            "flex": null,
            "_model_name": "LayoutModel",
            "justify_items": null,
            "grid_row": null,
            "max_height": null,
            "align_content": null,
            "visibility": null,
            "align_self": null,
            "height": null,
            "min_height": null,
            "padding": null,
            "grid_auto_rows": null,
            "grid_gap": null,
            "max_width": null,
            "order": null,
            "_view_module_version": "1.2.0",
            "grid_template_areas": null,
            "object_position": null,
            "object_fit": null,
            "grid_auto_columns": null,
            "margin": null,
            "display": null,
            "left": null
          }
        },
        "fe69b2b8728c4810a3e662d901311314": {
          "model_module": "@jupyter-widgets/controls",
          "model_name": "ProgressStyleModel",
          "model_module_version": "1.5.0",
          "state": {
            "_view_name": "StyleView",
            "_model_name": "ProgressStyleModel",
            "description_width": "",
            "_view_module": "@jupyter-widgets/base",
            "_model_module_version": "1.5.0",
            "_view_count": null,
            "_view_module_version": "1.2.0",
            "bar_color": null,
            "_model_module": "@jupyter-widgets/controls"
          }
        },
        "8696c772cce043e08e7568b3225fc0c1": {
          "model_module": "@jupyter-widgets/base",
          "model_name": "LayoutModel",
          "model_module_version": "1.2.0",
          "state": {
            "_view_name": "LayoutView",
            "grid_template_rows": null,
            "right": null,
            "justify_content": null,
            "_view_module": "@jupyter-widgets/base",
            "overflow": null,
            "_model_module_version": "1.2.0",
            "_view_count": null,
            "flex_flow": null,
            "width": null,
            "min_width": null,
            "border": null,
            "align_items": null,
            "bottom": null,
            "_model_module": "@jupyter-widgets/base",
            "top": null,
            "grid_column": null,
            "overflow_y": null,
            "overflow_x": null,
            "grid_auto_flow": null,
            "grid_area": null,
            "grid_template_columns": null,
            "flex": null,
            "_model_name": "LayoutModel",
            "justify_items": null,
            "grid_row": null,
            "max_height": null,
            "align_content": null,
            "visibility": null,
            "align_self": null,
            "height": null,
            "min_height": null,
            "padding": null,
            "grid_auto_rows": null,
            "grid_gap": null,
            "max_width": null,
            "order": null,
            "_view_module_version": "1.2.0",
            "grid_template_areas": null,
            "object_position": null,
            "object_fit": null,
            "grid_auto_columns": null,
            "margin": null,
            "display": null,
            "left": null
          }
        },
        "8b46f5403cd54e5bbccbbf8f485b9752": {
          "model_module": "@jupyter-widgets/controls",
          "model_name": "DescriptionStyleModel",
          "model_module_version": "1.5.0",
          "state": {
            "_view_name": "StyleView",
            "_model_name": "DescriptionStyleModel",
            "description_width": "",
            "_view_module": "@jupyter-widgets/base",
            "_model_module_version": "1.5.0",
            "_view_count": null,
            "_view_module_version": "1.2.0",
            "_model_module": "@jupyter-widgets/controls"
          }
        },
        "33c0affc434f4b04a9fc811aa4002e7a": {
          "model_module": "@jupyter-widgets/base",
          "model_name": "LayoutModel",
          "model_module_version": "1.2.0",
          "state": {
            "_view_name": "LayoutView",
            "grid_template_rows": null,
            "right": null,
            "justify_content": null,
            "_view_module": "@jupyter-widgets/base",
            "overflow": null,
            "_model_module_version": "1.2.0",
            "_view_count": null,
            "flex_flow": null,
            "width": null,
            "min_width": null,
            "border": null,
            "align_items": null,
            "bottom": null,
            "_model_module": "@jupyter-widgets/base",
            "top": null,
            "grid_column": null,
            "overflow_y": null,
            "overflow_x": null,
            "grid_auto_flow": null,
            "grid_area": null,
            "grid_template_columns": null,
            "flex": null,
            "_model_name": "LayoutModel",
            "justify_items": null,
            "grid_row": null,
            "max_height": null,
            "align_content": null,
            "visibility": null,
            "align_self": null,
            "height": null,
            "min_height": null,
            "padding": null,
            "grid_auto_rows": null,
            "grid_gap": null,
            "max_width": null,
            "order": null,
            "_view_module_version": "1.2.0",
            "grid_template_areas": null,
            "object_position": null,
            "object_fit": null,
            "grid_auto_columns": null,
            "margin": null,
            "display": null,
            "left": null
          }
        },
        "02dae652c3e74f2685665e246c3357ce": {
          "model_module": "@jupyter-widgets/controls",
          "model_name": "HBoxModel",
          "model_module_version": "1.5.0",
          "state": {
            "_view_name": "HBoxView",
            "_dom_classes": [],
            "_model_name": "HBoxModel",
            "_view_module": "@jupyter-widgets/controls",
            "_model_module_version": "1.5.0",
            "_view_count": null,
            "_view_module_version": "1.5.0",
            "box_style": "",
            "layout": "IPY_MODEL_ac2efe054e7c4cd4bfb4ba61bf49f8fe",
            "_model_module": "@jupyter-widgets/controls",
            "children": [
              "IPY_MODEL_a14dfdcd8a84475089bab38fc2e78405",
              "IPY_MODEL_90dbd029021441ad8bede61d5bc402c8",
              "IPY_MODEL_780e38338b9f425e939e86eae9cdf40c"
            ]
          }
        },
        "ac2efe054e7c4cd4bfb4ba61bf49f8fe": {
          "model_module": "@jupyter-widgets/base",
          "model_name": "LayoutModel",
          "model_module_version": "1.2.0",
          "state": {
            "_view_name": "LayoutView",
            "grid_template_rows": null,
            "right": null,
            "justify_content": null,
            "_view_module": "@jupyter-widgets/base",
            "overflow": null,
            "_model_module_version": "1.2.0",
            "_view_count": null,
            "flex_flow": null,
            "width": null,
            "min_width": null,
            "border": null,
            "align_items": null,
            "bottom": null,
            "_model_module": "@jupyter-widgets/base",
            "top": null,
            "grid_column": null,
            "overflow_y": null,
            "overflow_x": null,
            "grid_auto_flow": null,
            "grid_area": null,
            "grid_template_columns": null,
            "flex": null,
            "_model_name": "LayoutModel",
            "justify_items": null,
            "grid_row": null,
            "max_height": null,
            "align_content": null,
            "visibility": null,
            "align_self": null,
            "height": null,
            "min_height": null,
            "padding": null,
            "grid_auto_rows": null,
            "grid_gap": null,
            "max_width": null,
            "order": null,
            "_view_module_version": "1.2.0",
            "grid_template_areas": null,
            "object_position": null,
            "object_fit": null,
            "grid_auto_columns": null,
            "margin": null,
            "display": null,
            "left": null
          }
        },
        "a14dfdcd8a84475089bab38fc2e78405": {
          "model_module": "@jupyter-widgets/controls",
          "model_name": "HTMLModel",
          "model_module_version": "1.5.0",
          "state": {
            "_view_name": "HTMLView",
            "style": "IPY_MODEL_6745358097f6409eb9b937c0e5455c8c",
            "_dom_classes": [],
            "description": "",
            "_model_name": "HTMLModel",
            "placeholder": "​",
            "_view_module": "@jupyter-widgets/controls",
            "_model_module_version": "1.5.0",
            "value": "Downloading: 100%",
            "_view_count": null,
            "_view_module_version": "1.5.0",
            "description_tooltip": null,
            "_model_module": "@jupyter-widgets/controls",
            "layout": "IPY_MODEL_ec55b4b2c66241acb166a418d9fc5703"
          }
        },
        "90dbd029021441ad8bede61d5bc402c8": {
          "model_module": "@jupyter-widgets/controls",
          "model_name": "FloatProgressModel",
          "model_module_version": "1.5.0",
          "state": {
            "_view_name": "ProgressView",
            "style": "IPY_MODEL_6c05d48ab46a4a8c93d94cf69ab40421",
            "_dom_classes": [],
            "description": "",
            "_model_name": "FloatProgressModel",
            "bar_style": "success",
            "max": 435797,
            "_view_module": "@jupyter-widgets/controls",
            "_model_module_version": "1.5.0",
            "value": 435797,
            "_view_count": null,
            "_view_module_version": "1.5.0",
            "orientation": "horizontal",
            "min": 0,
            "description_tooltip": null,
            "_model_module": "@jupyter-widgets/controls",
            "layout": "IPY_MODEL_b3cfb21d55c84df5bb845a78c258dbfb"
          }
        },
        "780e38338b9f425e939e86eae9cdf40c": {
          "model_module": "@jupyter-widgets/controls",
          "model_name": "HTMLModel",
          "model_module_version": "1.5.0",
          "state": {
            "_view_name": "HTMLView",
            "style": "IPY_MODEL_b739adc1890d4fbda107517dcc72f094",
            "_dom_classes": [],
            "description": "",
            "_model_name": "HTMLModel",
            "placeholder": "​",
            "_view_module": "@jupyter-widgets/controls",
            "_model_module_version": "1.5.0",
            "value": " 426k/426k [00:00&lt;00:00, 364kB/s]",
            "_view_count": null,
            "_view_module_version": "1.5.0",
            "description_tooltip": null,
            "_model_module": "@jupyter-widgets/controls",
            "layout": "IPY_MODEL_d4c35aff0a4b45988d2aaf71a72f51af"
          }
        },
        "6745358097f6409eb9b937c0e5455c8c": {
          "model_module": "@jupyter-widgets/controls",
          "model_name": "DescriptionStyleModel",
          "model_module_version": "1.5.0",
          "state": {
            "_view_name": "StyleView",
            "_model_name": "DescriptionStyleModel",
            "description_width": "",
            "_view_module": "@jupyter-widgets/base",
            "_model_module_version": "1.5.0",
            "_view_count": null,
            "_view_module_version": "1.2.0",
            "_model_module": "@jupyter-widgets/controls"
          }
        },
        "ec55b4b2c66241acb166a418d9fc5703": {
          "model_module": "@jupyter-widgets/base",
          "model_name": "LayoutModel",
          "model_module_version": "1.2.0",
          "state": {
            "_view_name": "LayoutView",
            "grid_template_rows": null,
            "right": null,
            "justify_content": null,
            "_view_module": "@jupyter-widgets/base",
            "overflow": null,
            "_model_module_version": "1.2.0",
            "_view_count": null,
            "flex_flow": null,
            "width": null,
            "min_width": null,
            "border": null,
            "align_items": null,
            "bottom": null,
            "_model_module": "@jupyter-widgets/base",
            "top": null,
            "grid_column": null,
            "overflow_y": null,
            "overflow_x": null,
            "grid_auto_flow": null,
            "grid_area": null,
            "grid_template_columns": null,
            "flex": null,
            "_model_name": "LayoutModel",
            "justify_items": null,
            "grid_row": null,
            "max_height": null,
            "align_content": null,
            "visibility": null,
            "align_self": null,
            "height": null,
            "min_height": null,
            "padding": null,
            "grid_auto_rows": null,
            "grid_gap": null,
            "max_width": null,
            "order": null,
            "_view_module_version": "1.2.0",
            "grid_template_areas": null,
            "object_position": null,
            "object_fit": null,
            "grid_auto_columns": null,
            "margin": null,
            "display": null,
            "left": null
          }
        },
        "6c05d48ab46a4a8c93d94cf69ab40421": {
          "model_module": "@jupyter-widgets/controls",
          "model_name": "ProgressStyleModel",
          "model_module_version": "1.5.0",
          "state": {
            "_view_name": "StyleView",
            "_model_name": "ProgressStyleModel",
            "description_width": "",
            "_view_module": "@jupyter-widgets/base",
            "_model_module_version": "1.5.0",
            "_view_count": null,
            "_view_module_version": "1.2.0",
            "bar_color": null,
            "_model_module": "@jupyter-widgets/controls"
          }
        },
        "b3cfb21d55c84df5bb845a78c258dbfb": {
          "model_module": "@jupyter-widgets/base",
          "model_name": "LayoutModel",
          "model_module_version": "1.2.0",
          "state": {
            "_view_name": "LayoutView",
            "grid_template_rows": null,
            "right": null,
            "justify_content": null,
            "_view_module": "@jupyter-widgets/base",
            "overflow": null,
            "_model_module_version": "1.2.0",
            "_view_count": null,
            "flex_flow": null,
            "width": null,
            "min_width": null,
            "border": null,
            "align_items": null,
            "bottom": null,
            "_model_module": "@jupyter-widgets/base",
            "top": null,
            "grid_column": null,
            "overflow_y": null,
            "overflow_x": null,
            "grid_auto_flow": null,
            "grid_area": null,
            "grid_template_columns": null,
            "flex": null,
            "_model_name": "LayoutModel",
            "justify_items": null,
            "grid_row": null,
            "max_height": null,
            "align_content": null,
            "visibility": null,
            "align_self": null,
            "height": null,
            "min_height": null,
            "padding": null,
            "grid_auto_rows": null,
            "grid_gap": null,
            "max_width": null,
            "order": null,
            "_view_module_version": "1.2.0",
            "grid_template_areas": null,
            "object_position": null,
            "object_fit": null,
            "grid_auto_columns": null,
            "margin": null,
            "display": null,
            "left": null
          }
        },
        "b739adc1890d4fbda107517dcc72f094": {
          "model_module": "@jupyter-widgets/controls",
          "model_name": "DescriptionStyleModel",
          "model_module_version": "1.5.0",
          "state": {
            "_view_name": "StyleView",
            "_model_name": "DescriptionStyleModel",
            "description_width": "",
            "_view_module": "@jupyter-widgets/base",
            "_model_module_version": "1.5.0",
            "_view_count": null,
            "_view_module_version": "1.2.0",
            "_model_module": "@jupyter-widgets/controls"
          }
        },
        "d4c35aff0a4b45988d2aaf71a72f51af": {
          "model_module": "@jupyter-widgets/base",
          "model_name": "LayoutModel",
          "model_module_version": "1.2.0",
          "state": {
            "_view_name": "LayoutView",
            "grid_template_rows": null,
            "right": null,
            "justify_content": null,
            "_view_module": "@jupyter-widgets/base",
            "overflow": null,
            "_model_module_version": "1.2.0",
            "_view_count": null,
            "flex_flow": null,
            "width": null,
            "min_width": null,
            "border": null,
            "align_items": null,
            "bottom": null,
            "_model_module": "@jupyter-widgets/base",
            "top": null,
            "grid_column": null,
            "overflow_y": null,
            "overflow_x": null,
            "grid_auto_flow": null,
            "grid_area": null,
            "grid_template_columns": null,
            "flex": null,
            "_model_name": "LayoutModel",
            "justify_items": null,
            "grid_row": null,
            "max_height": null,
            "align_content": null,
            "visibility": null,
            "align_self": null,
            "height": null,
            "min_height": null,
            "padding": null,
            "grid_auto_rows": null,
            "grid_gap": null,
            "max_width": null,
            "order": null,
            "_view_module_version": "1.2.0",
            "grid_template_areas": null,
            "object_position": null,
            "object_fit": null,
            "grid_auto_columns": null,
            "margin": null,
            "display": null,
            "left": null
          }
        },
        "36296c2de2134554b5eefae93700e585": {
          "model_module": "@jupyter-widgets/controls",
          "model_name": "HBoxModel",
          "model_module_version": "1.5.0",
          "state": {
            "_view_name": "HBoxView",
            "_dom_classes": [],
            "_model_name": "HBoxModel",
            "_view_module": "@jupyter-widgets/controls",
            "_model_module_version": "1.5.0",
            "_view_count": null,
            "_view_module_version": "1.5.0",
            "box_style": "",
            "layout": "IPY_MODEL_6f7acc57adfa4313a7bd406805809058",
            "_model_module": "@jupyter-widgets/controls",
            "children": [
              "IPY_MODEL_c9cc11d2708842329266ac7a063c3a62",
              "IPY_MODEL_d7a2d3568bee47da8e25cde1549a5880",
              "IPY_MODEL_5ad45db05925452994fa130cae8989e6"
            ]
          }
        },
        "6f7acc57adfa4313a7bd406805809058": {
          "model_module": "@jupyter-widgets/base",
          "model_name": "LayoutModel",
          "model_module_version": "1.2.0",
          "state": {
            "_view_name": "LayoutView",
            "grid_template_rows": null,
            "right": null,
            "justify_content": null,
            "_view_module": "@jupyter-widgets/base",
            "overflow": null,
            "_model_module_version": "1.2.0",
            "_view_count": null,
            "flex_flow": null,
            "width": null,
            "min_width": null,
            "border": null,
            "align_items": null,
            "bottom": null,
            "_model_module": "@jupyter-widgets/base",
            "top": null,
            "grid_column": null,
            "overflow_y": null,
            "overflow_x": null,
            "grid_auto_flow": null,
            "grid_area": null,
            "grid_template_columns": null,
            "flex": null,
            "_model_name": "LayoutModel",
            "justify_items": null,
            "grid_row": null,
            "max_height": null,
            "align_content": null,
            "visibility": null,
            "align_self": null,
            "height": null,
            "min_height": null,
            "padding": null,
            "grid_auto_rows": null,
            "grid_gap": null,
            "max_width": null,
            "order": null,
            "_view_module_version": "1.2.0",
            "grid_template_areas": null,
            "object_position": null,
            "object_fit": null,
            "grid_auto_columns": null,
            "margin": null,
            "display": null,
            "left": null
          }
        },
        "c9cc11d2708842329266ac7a063c3a62": {
          "model_module": "@jupyter-widgets/controls",
          "model_name": "HTMLModel",
          "model_module_version": "1.5.0",
          "state": {
            "_view_name": "HTMLView",
            "style": "IPY_MODEL_3d08f01b278c4b678616c9d22e03a532",
            "_dom_classes": [],
            "description": "",
            "_model_name": "HTMLModel",
            "placeholder": "​",
            "_view_module": "@jupyter-widgets/controls",
            "_model_module_version": "1.5.0",
            "value": "Downloading: 100%",
            "_view_count": null,
            "_view_module_version": "1.5.0",
            "description_tooltip": null,
            "_model_module": "@jupyter-widgets/controls",
            "layout": "IPY_MODEL_41c502c0641d4363b79e7cf874050d00"
          }
        },
        "d7a2d3568bee47da8e25cde1549a5880": {
          "model_module": "@jupyter-widgets/controls",
          "model_name": "FloatProgressModel",
          "model_module_version": "1.5.0",
          "state": {
            "_view_name": "ProgressView",
            "style": "IPY_MODEL_225ecce80d194932b6dd306f2258bb74",
            "_dom_classes": [],
            "description": "",
            "_model_name": "FloatProgressModel",
            "bar_style": "success",
            "max": 762,
            "_view_module": "@jupyter-widgets/controls",
            "_model_module_version": "1.5.0",
            "value": 762,
            "_view_count": null,
            "_view_module_version": "1.5.0",
            "orientation": "horizontal",
            "min": 0,
            "description_tooltip": null,
            "_model_module": "@jupyter-widgets/controls",
            "layout": "IPY_MODEL_e3399cc6151841c6ab3f8ac5c99c224e"
          }
        },
        "5ad45db05925452994fa130cae8989e6": {
          "model_module": "@jupyter-widgets/controls",
          "model_name": "HTMLModel",
          "model_module_version": "1.5.0",
          "state": {
            "_view_name": "HTMLView",
            "style": "IPY_MODEL_5ecefd3b4a1a4b649b67207cf553d115",
            "_dom_classes": [],
            "description": "",
            "_model_name": "HTMLModel",
            "placeholder": "​",
            "_view_module": "@jupyter-widgets/controls",
            "_model_module_version": "1.5.0",
            "value": " 762/762 [00:00&lt;00:00, 18.1kB/s]",
            "_view_count": null,
            "_view_module_version": "1.5.0",
            "description_tooltip": null,
            "_model_module": "@jupyter-widgets/controls",
            "layout": "IPY_MODEL_c9328c48a2a04c898aef25d1a2cbdeaa"
          }
        },
        "3d08f01b278c4b678616c9d22e03a532": {
          "model_module": "@jupyter-widgets/controls",
          "model_name": "DescriptionStyleModel",
          "model_module_version": "1.5.0",
          "state": {
            "_view_name": "StyleView",
            "_model_name": "DescriptionStyleModel",
            "description_width": "",
            "_view_module": "@jupyter-widgets/base",
            "_model_module_version": "1.5.0",
            "_view_count": null,
            "_view_module_version": "1.2.0",
            "_model_module": "@jupyter-widgets/controls"
          }
        },
        "41c502c0641d4363b79e7cf874050d00": {
          "model_module": "@jupyter-widgets/base",
          "model_name": "LayoutModel",
          "model_module_version": "1.2.0",
          "state": {
            "_view_name": "LayoutView",
            "grid_template_rows": null,
            "right": null,
            "justify_content": null,
            "_view_module": "@jupyter-widgets/base",
            "overflow": null,
            "_model_module_version": "1.2.0",
            "_view_count": null,
            "flex_flow": null,
            "width": null,
            "min_width": null,
            "border": null,
            "align_items": null,
            "bottom": null,
            "_model_module": "@jupyter-widgets/base",
            "top": null,
            "grid_column": null,
            "overflow_y": null,
            "overflow_x": null,
            "grid_auto_flow": null,
            "grid_area": null,
            "grid_template_columns": null,
            "flex": null,
            "_model_name": "LayoutModel",
            "justify_items": null,
            "grid_row": null,
            "max_height": null,
            "align_content": null,
            "visibility": null,
            "align_self": null,
            "height": null,
            "min_height": null,
            "padding": null,
            "grid_auto_rows": null,
            "grid_gap": null,
            "max_width": null,
            "order": null,
            "_view_module_version": "1.2.0",
            "grid_template_areas": null,
            "object_position": null,
            "object_fit": null,
            "grid_auto_columns": null,
            "margin": null,
            "display": null,
            "left": null
          }
        },
        "225ecce80d194932b6dd306f2258bb74": {
          "model_module": "@jupyter-widgets/controls",
          "model_name": "ProgressStyleModel",
          "model_module_version": "1.5.0",
          "state": {
            "_view_name": "StyleView",
            "_model_name": "ProgressStyleModel",
            "description_width": "",
            "_view_module": "@jupyter-widgets/base",
            "_model_module_version": "1.5.0",
            "_view_count": null,
            "_view_module_version": "1.2.0",
            "bar_color": null,
            "_model_module": "@jupyter-widgets/controls"
          }
        },
        "e3399cc6151841c6ab3f8ac5c99c224e": {
          "model_module": "@jupyter-widgets/base",
          "model_name": "LayoutModel",
          "model_module_version": "1.2.0",
          "state": {
            "_view_name": "LayoutView",
            "grid_template_rows": null,
            "right": null,
            "justify_content": null,
            "_view_module": "@jupyter-widgets/base",
            "overflow": null,
            "_model_module_version": "1.2.0",
            "_view_count": null,
            "flex_flow": null,
            "width": null,
            "min_width": null,
            "border": null,
            "align_items": null,
            "bottom": null,
            "_model_module": "@jupyter-widgets/base",
            "top": null,
            "grid_column": null,
            "overflow_y": null,
            "overflow_x": null,
            "grid_auto_flow": null,
            "grid_area": null,
            "grid_template_columns": null,
            "flex": null,
            "_model_name": "LayoutModel",
            "justify_items": null,
            "grid_row": null,
            "max_height": null,
            "align_content": null,
            "visibility": null,
            "align_self": null,
            "height": null,
            "min_height": null,
            "padding": null,
            "grid_auto_rows": null,
            "grid_gap": null,
            "max_width": null,
            "order": null,
            "_view_module_version": "1.2.0",
            "grid_template_areas": null,
            "object_position": null,
            "object_fit": null,
            "grid_auto_columns": null,
            "margin": null,
            "display": null,
            "left": null
          }
        },
        "5ecefd3b4a1a4b649b67207cf553d115": {
          "model_module": "@jupyter-widgets/controls",
          "model_name": "DescriptionStyleModel",
          "model_module_version": "1.5.0",
          "state": {
            "_view_name": "StyleView",
            "_model_name": "DescriptionStyleModel",
            "description_width": "",
            "_view_module": "@jupyter-widgets/base",
            "_model_module_version": "1.5.0",
            "_view_count": null,
            "_view_module_version": "1.2.0",
            "_model_module": "@jupyter-widgets/controls"
          }
        },
        "c9328c48a2a04c898aef25d1a2cbdeaa": {
          "model_module": "@jupyter-widgets/base",
          "model_name": "LayoutModel",
          "model_module_version": "1.2.0",
          "state": {
            "_view_name": "LayoutView",
            "grid_template_rows": null,
            "right": null,
            "justify_content": null,
            "_view_module": "@jupyter-widgets/base",
            "overflow": null,
            "_model_module_version": "1.2.0",
            "_view_count": null,
            "flex_flow": null,
            "width": null,
            "min_width": null,
            "border": null,
            "align_items": null,
            "bottom": null,
            "_model_module": "@jupyter-widgets/base",
            "top": null,
            "grid_column": null,
            "overflow_y": null,
            "overflow_x": null,
            "grid_auto_flow": null,
            "grid_area": null,
            "grid_template_columns": null,
            "flex": null,
            "_model_name": "LayoutModel",
            "justify_items": null,
            "grid_row": null,
            "max_height": null,
            "align_content": null,
            "visibility": null,
            "align_self": null,
            "height": null,
            "min_height": null,
            "padding": null,
            "grid_auto_rows": null,
            "grid_gap": null,
            "max_width": null,
            "order": null,
            "_view_module_version": "1.2.0",
            "grid_template_areas": null,
            "object_position": null,
            "object_fit": null,
            "grid_auto_columns": null,
            "margin": null,
            "display": null,
            "left": null
          }
        }
      }
    }
  },
  "cells": [
    {
      "cell_type": "markdown",
      "metadata": {
        "id": "view-in-github",
        "colab_type": "text"
      },
      "source": [
        "<a href=\"https://colab.research.google.com/github/ReAlex1902/Tweets_Classification/blob/main/bert_with_catboost.ipynb\" target=\"_parent\"><img src=\"https://colab.research.google.com/assets/colab-badge.svg\" alt=\"Open In Colab\"/></a>"
      ]
    },
    {
      "cell_type": "code",
      "metadata": {
        "colab": {
          "base_uri": "https://localhost:8080/"
        },
        "id": "2YcCsaAwPA7R",
        "outputId": "2116aba9-c56d-4876-970d-7d7d3f9f8b3c"
      },
      "source": [
        "!pip install kaggle\n",
        "!pip install transformers"
      ],
      "execution_count": 1,
      "outputs": [
        {
          "output_type": "stream",
          "name": "stdout",
          "text": [
            "Requirement already satisfied: kaggle in /usr/local/lib/python3.7/dist-packages (1.5.12)\n",
            "Requirement already satisfied: certifi in /usr/local/lib/python3.7/dist-packages (from kaggle) (2021.10.8)\n",
            "Requirement already satisfied: requests in /usr/local/lib/python3.7/dist-packages (from kaggle) (2.23.0)\n",
            "Requirement already satisfied: six>=1.10 in /usr/local/lib/python3.7/dist-packages (from kaggle) (1.15.0)\n",
            "Requirement already satisfied: python-slugify in /usr/local/lib/python3.7/dist-packages (from kaggle) (5.0.2)\n",
            "Requirement already satisfied: urllib3 in /usr/local/lib/python3.7/dist-packages (from kaggle) (1.24.3)\n",
            "Requirement already satisfied: python-dateutil in /usr/local/lib/python3.7/dist-packages (from kaggle) (2.8.2)\n",
            "Requirement already satisfied: tqdm in /usr/local/lib/python3.7/dist-packages (from kaggle) (4.62.3)\n",
            "Requirement already satisfied: text-unidecode>=1.3 in /usr/local/lib/python3.7/dist-packages (from python-slugify->kaggle) (1.3)\n",
            "Requirement already satisfied: idna<3,>=2.5 in /usr/local/lib/python3.7/dist-packages (from requests->kaggle) (2.10)\n",
            "Requirement already satisfied: chardet<4,>=3.0.2 in /usr/local/lib/python3.7/dist-packages (from requests->kaggle) (3.0.4)\n",
            "Collecting transformers\n",
            "  Downloading transformers-4.12.5-py3-none-any.whl (3.1 MB)\n",
            "\u001b[K     |████████████████████████████████| 3.1 MB 4.3 MB/s \n",
            "\u001b[?25hCollecting tokenizers<0.11,>=0.10.1\n",
            "  Downloading tokenizers-0.10.3-cp37-cp37m-manylinux_2_5_x86_64.manylinux1_x86_64.manylinux_2_12_x86_64.manylinux2010_x86_64.whl (3.3 MB)\n",
            "\u001b[K     |████████████████████████████████| 3.3 MB 34.9 MB/s \n",
            "\u001b[?25hRequirement already satisfied: tqdm>=4.27 in /usr/local/lib/python3.7/dist-packages (from transformers) (4.62.3)\n",
            "Requirement already satisfied: importlib-metadata in /usr/local/lib/python3.7/dist-packages (from transformers) (4.8.2)\n",
            "Collecting huggingface-hub<1.0,>=0.1.0\n",
            "  Downloading huggingface_hub-0.1.2-py3-none-any.whl (59 kB)\n",
            "\u001b[K     |████████████████████████████████| 59 kB 6.2 MB/s \n",
            "\u001b[?25hCollecting pyyaml>=5.1\n",
            "  Downloading PyYAML-6.0-cp37-cp37m-manylinux_2_5_x86_64.manylinux1_x86_64.manylinux_2_12_x86_64.manylinux2010_x86_64.whl (596 kB)\n",
            "\u001b[K     |████████████████████████████████| 596 kB 51.5 MB/s \n",
            "\u001b[?25hRequirement already satisfied: filelock in /usr/local/lib/python3.7/dist-packages (from transformers) (3.4.0)\n",
            "Requirement already satisfied: numpy>=1.17 in /usr/local/lib/python3.7/dist-packages (from transformers) (1.19.5)\n",
            "Requirement already satisfied: regex!=2019.12.17 in /usr/local/lib/python3.7/dist-packages (from transformers) (2019.12.20)\n",
            "Requirement already satisfied: packaging>=20.0 in /usr/local/lib/python3.7/dist-packages (from transformers) (21.3)\n",
            "Requirement already satisfied: requests in /usr/local/lib/python3.7/dist-packages (from transformers) (2.23.0)\n",
            "Collecting sacremoses\n",
            "  Downloading sacremoses-0.0.46-py3-none-any.whl (895 kB)\n",
            "\u001b[K     |████████████████████████████████| 895 kB 55.7 MB/s \n",
            "\u001b[?25hRequirement already satisfied: typing-extensions>=3.7.4.3 in /usr/local/lib/python3.7/dist-packages (from huggingface-hub<1.0,>=0.1.0->transformers) (3.10.0.2)\n",
            "Requirement already satisfied: pyparsing!=3.0.5,>=2.0.2 in /usr/local/lib/python3.7/dist-packages (from packaging>=20.0->transformers) (3.0.6)\n",
            "Requirement already satisfied: zipp>=0.5 in /usr/local/lib/python3.7/dist-packages (from importlib-metadata->transformers) (3.6.0)\n",
            "Requirement already satisfied: chardet<4,>=3.0.2 in /usr/local/lib/python3.7/dist-packages (from requests->transformers) (3.0.4)\n",
            "Requirement already satisfied: idna<3,>=2.5 in /usr/local/lib/python3.7/dist-packages (from requests->transformers) (2.10)\n",
            "Requirement already satisfied: certifi>=2017.4.17 in /usr/local/lib/python3.7/dist-packages (from requests->transformers) (2021.10.8)\n",
            "Requirement already satisfied: urllib3!=1.25.0,!=1.25.1,<1.26,>=1.21.1 in /usr/local/lib/python3.7/dist-packages (from requests->transformers) (1.24.3)\n",
            "Requirement already satisfied: joblib in /usr/local/lib/python3.7/dist-packages (from sacremoses->transformers) (1.1.0)\n",
            "Requirement already satisfied: six in /usr/local/lib/python3.7/dist-packages (from sacremoses->transformers) (1.15.0)\n",
            "Requirement already satisfied: click in /usr/local/lib/python3.7/dist-packages (from sacremoses->transformers) (7.1.2)\n",
            "Installing collected packages: pyyaml, tokenizers, sacremoses, huggingface-hub, transformers\n",
            "  Attempting uninstall: pyyaml\n",
            "    Found existing installation: PyYAML 3.13\n",
            "    Uninstalling PyYAML-3.13:\n",
            "      Successfully uninstalled PyYAML-3.13\n",
            "Successfully installed huggingface-hub-0.1.2 pyyaml-6.0 sacremoses-0.0.46 tokenizers-0.10.3 transformers-4.12.5\n"
          ]
        }
      ]
    },
    {
      "cell_type": "code",
      "metadata": {
        "colab": {
          "resources": {
            "http://localhost:8080/nbextensions/google.colab/files.js": {
              "data": "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",
              "ok": true,
              "headers": [
                [
                  "content-type",
                  "application/javascript"
                ]
              ],
              "status": 200,
              "status_text": ""
            }
          },
          "base_uri": "https://localhost:8080/",
          "height": 90
        },
        "id": "sQyMXhgkPUPZ",
        "outputId": "5dd657eb-3e8d-43ce-ed8a-b6c33ad8edd8"
      },
      "source": [
        "## upload your kaggle.json\n",
        "\n",
        "from google.colab import files\n",
        "files.upload()"
      ],
      "execution_count": 2,
      "outputs": [
        {
          "output_type": "display_data",
          "data": {
            "text/html": [
              "\n",
              "     <input type=\"file\" id=\"files-067c18a6-c769-4dfa-91df-6f64a001c175\" name=\"files[]\" multiple disabled\n",
              "        style=\"border:none\" />\n",
              "     <output id=\"result-067c18a6-c769-4dfa-91df-6f64a001c175\">\n",
              "      Upload widget is only available when the cell has been executed in the\n",
              "      current browser session. Please rerun this cell to enable.\n",
              "      </output>\n",
              "      <script src=\"/nbextensions/google.colab/files.js\"></script> "
            ],
            "text/plain": [
              "<IPython.core.display.HTML object>"
            ]
          },
          "metadata": {}
        },
        {
          "output_type": "stream",
          "name": "stdout",
          "text": [
            "Saving kaggle.json to kaggle.json\n"
          ]
        },
        {
          "output_type": "execute_result",
          "data": {
            "text/plain": [
              "{'kaggle.json': b'{\"username\":\"alexdraxler\",\"key\":\"591fcba6ee3bd3090df1a79f71b77413\"}'}"
            ]
          },
          "metadata": {},
          "execution_count": 2
        }
      ]
    },
    {
      "cell_type": "code",
      "metadata": {
        "id": "EUH5ZJddPXwa"
      },
      "source": [
        "#before importing the dataset we want to use this code\n",
        "# The Kaggle API client expects this file to be in ~/.kaggle,\n",
        "!mkdir -p ~/.kaggle\n",
        "!cp kaggle.json ~/.kaggle/\n",
        "\n",
        "# This permissions change avoids a warning on Kaggle tool startup.\n",
        "!chmod 600 ~/.kaggle/kaggle.json"
      ],
      "execution_count": 3,
      "outputs": []
    },
    {
      "cell_type": "markdown",
      "metadata": {
        "id": "yleOriR3uc1Y"
      },
      "source": [
        "# Loading Data"
      ]
    },
    {
      "cell_type": "code",
      "metadata": {
        "colab": {
          "base_uri": "https://localhost:8080/"
        },
        "id": "pNFrPp2OPdM3",
        "outputId": "abf0b886-6f11-40bb-da08-3377b8f75994"
      },
      "source": [
        "!kaggle competitions download -c nlp-getting-started"
      ],
      "execution_count": 4,
      "outputs": [
        {
          "output_type": "stream",
          "name": "stdout",
          "text": [
            "Warning: Looks like you're using an outdated API Version, please consider updating (server 1.5.12 / client 1.5.4)\n",
            "Downloading sample_submission.csv to /content\n",
            "  0% 0.00/22.2k [00:00<?, ?B/s]\n",
            "100% 22.2k/22.2k [00:00<00:00, 40.1MB/s]\n",
            "Downloading train.csv to /content\n",
            "  0% 0.00/965k [00:00<?, ?B/s]\n",
            "100% 965k/965k [00:00<00:00, 59.9MB/s]\n",
            "Downloading test.csv to /content\n",
            "  0% 0.00/411k [00:00<?, ?B/s]\n",
            "100% 411k/411k [00:00<00:00, 58.0MB/s]\n"
          ]
        }
      ]
    },
    {
      "cell_type": "code",
      "metadata": {
        "id": "0F9HHJq4ewLx"
      },
      "source": [
        "import numpy as np\n",
        "import pandas as pd\n",
        "import matplotlib.pyplot as plt\n",
        "import seaborn as sns\n",
        "\n",
        "import torch"
      ],
      "execution_count": 5,
      "outputs": []
    },
    {
      "cell_type": "code",
      "metadata": {
        "colab": {
          "base_uri": "https://localhost:8080/"
        },
        "id": "xmMHflh5exrV",
        "outputId": "d13db793-7fe7-4dab-c45f-e9bd643b9b90"
      },
      "source": [
        "## Let's use GPU\n",
        "\n",
        "device = torch.device('cuda' if torch.cuda.is_available() else 'cpu')\n",
        "device"
      ],
      "execution_count": 6,
      "outputs": [
        {
          "output_type": "execute_result",
          "data": {
            "text/plain": [
              "device(type='cuda')"
            ]
          },
          "metadata": {},
          "execution_count": 6
        }
      ]
    },
    {
      "cell_type": "code",
      "metadata": {
        "colab": {
          "base_uri": "https://localhost:8080/",
          "height": 204
        },
        "id": "_FDl7K9wPhZJ",
        "outputId": "d84fa459-bf2b-4152-d329-c523fa728e7e"
      },
      "source": [
        "PATH = '/content/train.csv'\n",
        "df = pd.read_csv(PATH)\n",
        "df.head()"
      ],
      "execution_count": 7,
      "outputs": [
        {
          "output_type": "execute_result",
          "data": {
            "text/html": [
              "<div>\n",
              "<style scoped>\n",
              "    .dataframe tbody tr th:only-of-type {\n",
              "        vertical-align: middle;\n",
              "    }\n",
              "\n",
              "    .dataframe tbody tr th {\n",
              "        vertical-align: top;\n",
              "    }\n",
              "\n",
              "    .dataframe thead th {\n",
              "        text-align: right;\n",
              "    }\n",
              "</style>\n",
              "<table border=\"1\" class=\"dataframe\">\n",
              "  <thead>\n",
              "    <tr style=\"text-align: right;\">\n",
              "      <th></th>\n",
              "      <th>id</th>\n",
              "      <th>keyword</th>\n",
              "      <th>location</th>\n",
              "      <th>text</th>\n",
              "      <th>target</th>\n",
              "    </tr>\n",
              "  </thead>\n",
              "  <tbody>\n",
              "    <tr>\n",
              "      <th>0</th>\n",
              "      <td>1</td>\n",
              "      <td>NaN</td>\n",
              "      <td>NaN</td>\n",
              "      <td>Our Deeds are the Reason of this #earthquake M...</td>\n",
              "      <td>1</td>\n",
              "    </tr>\n",
              "    <tr>\n",
              "      <th>1</th>\n",
              "      <td>4</td>\n",
              "      <td>NaN</td>\n",
              "      <td>NaN</td>\n",
              "      <td>Forest fire near La Ronge Sask. Canada</td>\n",
              "      <td>1</td>\n",
              "    </tr>\n",
              "    <tr>\n",
              "      <th>2</th>\n",
              "      <td>5</td>\n",
              "      <td>NaN</td>\n",
              "      <td>NaN</td>\n",
              "      <td>All residents asked to 'shelter in place' are ...</td>\n",
              "      <td>1</td>\n",
              "    </tr>\n",
              "    <tr>\n",
              "      <th>3</th>\n",
              "      <td>6</td>\n",
              "      <td>NaN</td>\n",
              "      <td>NaN</td>\n",
              "      <td>13,000 people receive #wildfires evacuation or...</td>\n",
              "      <td>1</td>\n",
              "    </tr>\n",
              "    <tr>\n",
              "      <th>4</th>\n",
              "      <td>7</td>\n",
              "      <td>NaN</td>\n",
              "      <td>NaN</td>\n",
              "      <td>Just got sent this photo from Ruby #Alaska as ...</td>\n",
              "      <td>1</td>\n",
              "    </tr>\n",
              "  </tbody>\n",
              "</table>\n",
              "</div>"
            ],
            "text/plain": [
              "   id keyword  ...                                               text target\n",
              "0   1     NaN  ...  Our Deeds are the Reason of this #earthquake M...      1\n",
              "1   4     NaN  ...             Forest fire near La Ronge Sask. Canada      1\n",
              "2   5     NaN  ...  All residents asked to 'shelter in place' are ...      1\n",
              "3   6     NaN  ...  13,000 people receive #wildfires evacuation or...      1\n",
              "4   7     NaN  ...  Just got sent this photo from Ruby #Alaska as ...      1\n",
              "\n",
              "[5 rows x 5 columns]"
            ]
          },
          "metadata": {},
          "execution_count": 7
        }
      ]
    },
    {
      "cell_type": "code",
      "metadata": {
        "colab": {
          "base_uri": "https://localhost:8080/"
        },
        "id": "arFnxz2JdyEe",
        "outputId": "cbf353bb-061a-47ed-a1ac-d5ff945c6a18"
      },
      "source": [
        "df.shape, df[df['target'] == 1].shape, df[df['target'] == 0].shape"
      ],
      "execution_count": 8,
      "outputs": [
        {
          "output_type": "execute_result",
          "data": {
            "text/plain": [
              "((7613, 5), (3271, 5), (4342, 5))"
            ]
          },
          "metadata": {},
          "execution_count": 8
        }
      ]
    },
    {
      "cell_type": "code",
      "metadata": {
        "colab": {
          "base_uri": "https://localhost:8080/",
          "height": 265
        },
        "id": "yVCXGRJX9Zqx",
        "outputId": "90ebd4c1-abb3-46a9-e9a8-9559fef1227f"
      },
      "source": [
        "df['target'].hist();"
      ],
      "execution_count": 9,
      "outputs": [
        {
          "output_type": "display_data",
          "data": {
            "image/png": "[encoded data removed]",
            "text/plain": [
              "<Figure size 432x288 with 1 Axes>"
            ]
          },
          "metadata": {
            "needs_background": "light"
          }
        }
      ]
    },
    {
      "cell_type": "code",
      "metadata": {
        "colab": {
          "base_uri": "https://localhost:8080/"
        },
        "id": "p9CO5z8gd6Tr",
        "outputId": "ea9a9241-8ba9-41f1-8ff1-03eec37bfecb"
      },
      "source": [
        "## We will upsample our data to have 50/50 division\n",
        "\n",
        "from sklearn.utils import resample\n",
        "\n",
        "df_minority = df[df['target'] == 1].copy()\n",
        "df_minority_upsampled = resample(df_minority, replace = True, \n",
        "                                 n_samples = df['target'].value_counts()[0], \n",
        "                                 random_state = 11)\n",
        "df_minority_upsampled.shape"
      ],
      "execution_count": 10,
      "outputs": [
        {
          "output_type": "execute_result",
          "data": {
            "text/plain": [
              "(4342, 5)"
            ]
          },
          "metadata": {},
          "execution_count": 10
        }
      ]
    },
    {
      "cell_type": "code",
      "metadata": {
        "colab": {
          "base_uri": "https://localhost:8080/",
          "height": 204
        },
        "id": "gA490_tXeHr-",
        "outputId": "c2ed95fa-d8d1-4f21-86fa-aca41e74b6d8"
      },
      "source": [
        "df = pd.concat([df[df['target'] == 0].copy(), df_minority_upsampled]).reset_index()\n",
        "df.sample(5)"
      ],
      "execution_count": 11,
      "outputs": [
        {
          "output_type": "execute_result",
          "data": {
            "text/html": [
              "<div>\n",
              "<style scoped>\n",
              "    .dataframe tbody tr th:only-of-type {\n",
              "        vertical-align: middle;\n",
              "    }\n",
              "\n",
              "    .dataframe tbody tr th {\n",
              "        vertical-align: top;\n",
              "    }\n",
              "\n",
              "    .dataframe thead th {\n",
              "        text-align: right;\n",
              "    }\n",
              "</style>\n",
              "<table border=\"1\" class=\"dataframe\">\n",
              "  <thead>\n",
              "    <tr style=\"text-align: right;\">\n",
              "      <th></th>\n",
              "      <th>index</th>\n",
              "      <th>id</th>\n",
              "      <th>keyword</th>\n",
              "      <th>location</th>\n",
              "      <th>text</th>\n",
              "      <th>target</th>\n",
              "    </tr>\n",
              "  </thead>\n",
              "  <tbody>\n",
              "    <tr>\n",
              "      <th>3224</th>\n",
              "      <td>5539</td>\n",
              "      <td>7903</td>\n",
              "      <td>radiation%20emergency</td>\n",
              "      <td>La Grange Park, IL</td>\n",
              "      <td>DOE's WIPP facility in NM investigating a site...</td>\n",
              "      <td>0</td>\n",
              "    </tr>\n",
              "    <tr>\n",
              "      <th>3061</th>\n",
              "      <td>5320</td>\n",
              "      <td>7595</td>\n",
              "      <td>pandemonium</td>\n",
              "      <td>NaN</td>\n",
              "      <td>Tube strike = absolute pandemonium</td>\n",
              "      <td>0</td>\n",
              "    </tr>\n",
              "    <tr>\n",
              "      <th>2254</th>\n",
              "      <td>3811</td>\n",
              "      <td>5413</td>\n",
              "      <td>first%20responders</td>\n",
              "      <td>Texas</td>\n",
              "      <td>@USATODAY.  PRAYING FOR GOD'S HEALING AND SAFE...</td>\n",
              "      <td>0</td>\n",
              "    </tr>\n",
              "    <tr>\n",
              "      <th>1184</th>\n",
              "      <td>1907</td>\n",
              "      <td>2741</td>\n",
              "      <td>crushed</td>\n",
              "      <td>NaN</td>\n",
              "      <td>#AyekoRadio play Brasswork Agency - Crushed an...</td>\n",
              "      <td>0</td>\n",
              "    </tr>\n",
              "    <tr>\n",
              "      <th>920</th>\n",
              "      <td>1473</td>\n",
              "      <td>2122</td>\n",
              "      <td>catastrophe</td>\n",
              "      <td>New Brunswick, NJ</td>\n",
              "      <td>God bless catastrophe</td>\n",
              "      <td>0</td>\n",
              "    </tr>\n",
              "  </tbody>\n",
              "</table>\n",
              "</div>"
            ],
            "text/plain": [
              "      index    id  ...                                               text target\n",
              "3224   5539  7903  ...  DOE's WIPP facility in NM investigating a site...      0\n",
              "3061   5320  7595  ...                 Tube strike = absolute pandemonium      0\n",
              "2254   3811  5413  ...  @USATODAY.  PRAYING FOR GOD'S HEALING AND SAFE...      0\n",
              "1184   1907  2741  ...  #AyekoRadio play Brasswork Agency - Crushed an...      0\n",
              "920    1473  2122  ...                              God bless catastrophe      0\n",
              "\n",
              "[5 rows x 6 columns]"
            ]
          },
          "metadata": {},
          "execution_count": 11
        }
      ]
    },
    {
      "cell_type": "code",
      "metadata": {
        "colab": {
          "base_uri": "https://localhost:8080/",
          "height": 265
        },
        "id": "hwsNXQdieSqF",
        "outputId": "00bb166c-3391-4eab-a2dc-ed35259c7bae"
      },
      "source": [
        "df['target'].hist();"
      ],
      "execution_count": 12,
      "outputs": [
        {
          "output_type": "display_data",
          "data": {
            "image/png": "[encoded data removed]",
            "text/plain": [
              "<Figure size 432x288 with 1 Axes>"
            ]
          },
          "metadata": {
            "needs_background": "light"
          }
        }
      ]
    },
    {
      "cell_type": "markdown",
      "metadata": {
        "id": "rlM78YvTeUaC"
      },
      "source": [
        "# Tokenization"
      ]
    },
    {
      "cell_type": "code",
      "metadata": {
        "id": "iJlTBZqPU_X9",
        "colab": {
          "base_uri": "https://localhost:8080/",
          "height": 145,
          "referenced_widgets": [
            "2ffc3fe122a54c698c99f5fc1d19d655",
            "fe42bdeaaba34fd2a1cfef08ef2c2540",
            "1eb3f3eec16d47a582f944c6417efe3c",
            "869c989ebdb343d1b92bcc015a7af3a9",
            "1ddffa967fe6400e83f746169e510ed5",
            "86fd2f9ddaf1423db5afa528ef9195ee",
            "86c72f1eb4ca4111a3571d8256fd62af",
            "ea98b77e0b314b048b574cfc8764a95b",
            "5c4e7337eaaa4ce2a81d662a5f767319",
            "dc2cae4fc2db4c099cb0b4a06cffb507",
            "abcac6e5fb314397a87201d94518a1fe",
            "dd6fcff36ebc47b8978130a669a2c4e2",
            "8029cc56cff94802b701d07268c23fff",
            "f449152847c94fd688c55db9409c48c2",
            "718f56400bbb4cc69652b1305e20b927",
            "23467cddbcda4b57bce87ab3a3fcfb59",
            "7cbedb117e9f445abc3486b394cbc670",
            "cf3f914e9e234c95be9757f847f0a40e",
            "fe69b2b8728c4810a3e662d901311314",
            "8696c772cce043e08e7568b3225fc0c1",
            "8b46f5403cd54e5bbccbbf8f485b9752",
            "33c0affc434f4b04a9fc811aa4002e7a",
            "02dae652c3e74f2685665e246c3357ce",
            "ac2efe054e7c4cd4bfb4ba61bf49f8fe",
            "a14dfdcd8a84475089bab38fc2e78405",
            "90dbd029021441ad8bede61d5bc402c8",
            "780e38338b9f425e939e86eae9cdf40c",
            "6745358097f6409eb9b937c0e5455c8c",
            "ec55b4b2c66241acb166a418d9fc5703",
            "6c05d48ab46a4a8c93d94cf69ab40421",
            "b3cfb21d55c84df5bb845a78c258dbfb",
            "b739adc1890d4fbda107517dcc72f094",
            "d4c35aff0a4b45988d2aaf71a72f51af",
            "36296c2de2134554b5eefae93700e585",
            "6f7acc57adfa4313a7bd406805809058",
            "c9cc11d2708842329266ac7a063c3a62",
            "d7a2d3568bee47da8e25cde1549a5880",
            "5ad45db05925452994fa130cae8989e6",
            "3d08f01b278c4b678616c9d22e03a532",
            "41c502c0641d4363b79e7cf874050d00",
            "225ecce80d194932b6dd306f2258bb74",
            "e3399cc6151841c6ab3f8ac5c99c224e",
            "5ecefd3b4a1a4b649b67207cf553d115",
            "c9328c48a2a04c898aef25d1a2cbdeaa"
          ]
        },
        "outputId": "58e53e4e-b8fa-40b4-a2d7-ba311af7435f"
      },
      "source": [
        "from transformers import BertTokenizer\n",
        "tokenizer = BertTokenizer.from_pretrained('bert-large-cased', do_lower_case = True)"
      ],
      "execution_count": 13,
      "outputs": [
        {
          "output_type": "display_data",
          "data": {
            "application/vnd.jupyter.widget-view+json": {
              "model_id": "2ffc3fe122a54c698c99f5fc1d19d655",
              "version_minor": 0,
              "version_major": 2
            },
            "text/plain": [
              "Downloading:   0%|          | 0.00/208k [00:00<?, ?B/s]"
            ]
          },
          "metadata": {}
        },
        {
          "output_type": "display_data",
          "data": {
            "application/vnd.jupyter.widget-view+json": {
              "model_id": "dd6fcff36ebc47b8978130a669a2c4e2",
              "version_minor": 0,
              "version_major": 2
            },
            "text/plain": [
              "Downloading:   0%|          | 0.00/29.0 [00:00<?, ?B/s]"
            ]
          },
          "metadata": {}
        },
        {
          "output_type": "display_data",
          "data": {
            "application/vnd.jupyter.widget-view+json": {
              "model_id": "02dae652c3e74f2685665e246c3357ce",
              "version_minor": 0,
              "version_major": 2
            },
            "text/plain": [
              "Downloading:   0%|          | 0.00/426k [00:00<?, ?B/s]"
            ]
          },
          "metadata": {}
        },
        {
          "output_type": "display_data",
          "data": {
            "application/vnd.jupyter.widget-view+json": {
              "model_id": "36296c2de2134554b5eefae93700e585",
              "version_minor": 0,
              "version_major": 2
            },
            "text/plain": [
              "Downloading:   0%|          | 0.00/762 [00:00<?, ?B/s]"
            ]
          },
          "metadata": {}
        }
      ]
    },
    {
      "cell_type": "code",
      "metadata": {
        "colab": {
          "base_uri": "https://localhost:8080/"
        },
        "id": "QEY8_gy6gNpu",
        "outputId": "9bce7c68-6593-47d3-f85d-bfe1d8006f42"
      },
      "source": [
        "sentence = df.loc[0, 'text']\n",
        "\n",
        "print(sentence)\n",
        "print(tokenizer.tokenize(sentence))\n",
        "print(tokenizer.convert_tokens_to_ids(tokenizer.tokenize(sentence)))"
      ],
      "execution_count": 14,
      "outputs": [
        {
          "output_type": "stream",
          "name": "stdout",
          "text": [
            "What's up man?\n",
            "['what', \"'\", 's', 'up', 'man', '?']\n",
            "[1184, 112, 188, 1146, 1299, 136]\n"
          ]
        }
      ]
    },
    {
      "cell_type": "code",
      "metadata": {
        "colab": {
          "base_uri": "https://localhost:8080/"
        },
        "id": "QgmlIEDigYm2",
        "outputId": "b5623005-3f42-4a15-a0b9-01435dfe887e"
      },
      "source": [
        "print(tokenizer.encode(sentence))"
      ],
      "execution_count": 15,
      "outputs": [
        {
          "output_type": "stream",
          "name": "stdout",
          "text": [
            "[101, 1184, 112, 188, 1146, 1299, 136, 102]\n"
          ]
        }
      ]
    },
    {
      "cell_type": "code",
      "metadata": {
        "colab": {
          "base_uri": "https://localhost:8080/"
        },
        "id": "J0IwVscsiO_-",
        "outputId": "366049d1-f3f7-4d66-fc65-7c5a1d7dc584"
      },
      "source": [
        "print(tokenizer.encode_plus(sentence))"
      ],
      "execution_count": 16,
      "outputs": [
        {
          "output_type": "stream",
          "name": "stdout",
          "text": [
            "{'input_ids': [101, 1184, 112, 188, 1146, 1299, 136, 102], 'token_type_ids': [0, 0, 0, 0, 0, 0, 0, 0], 'attention_mask': [1, 1, 1, 1, 1, 1, 1, 1]}\n"
          ]
        }
      ]
    },
    {
      "cell_type": "code",
      "metadata": {
        "id": "W-4h_jHAgRGL",
        "colab": {
          "base_uri": "https://localhost:8080/"
        },
        "outputId": "32039b67-3291-463b-ac94-6b3e7148549d"
      },
      "source": [
        "import re\n",
        "import nltk\n",
        "from nltk.corpus import stopwords\n",
        "from nltk.tokenize import word_tokenize\n",
        "from string import punctuation, digits\n",
        "\n",
        "nltk.download('stopwords')\n",
        "\n",
        "def remove_punctuation(s):\n",
        "    list_punctuation = list(punctuation)\n",
        "    for i in list_punctuation:\n",
        "        s = s.replace(i,'')\n",
        "    return s.lower()\n",
        "\n",
        "def clean_sentence(sentence, ):\n",
        "    sentence = sentence.lower()\n",
        "    sentence = re.sub(r'(\\W)\\1{2,}', r'\\1', sentence) \n",
        "    sentence = re.sub(r'(\\w)\\1{2,}', r'\\1\\1', sentence)\n",
        "    sentence = re.sub(r'(?P<url>https?://[^\\s]+)', '', sentence) # remove URL adresses\n",
        "    # sentence = re.sub(r\"\\@(\\w+)\", '', sentence) # remove usernames\n",
        "    # sentence = re.sub(r\"\\#(\\w+)\", '', sentence) # remove hashtags\n",
        "    # sentence = re.sub(r\"\\$(\\w+)\", '', sentence) # remove cashtags\n",
        "    sentence = sentence.replace(\"-\",' ')\n",
        "    tokens = sentence.split()\n",
        "    # tokens = [remove_punctuation(w) for w in tokens] # remove punctuations\n",
        "    stop_words = set(stopwords.words('english')) # remove stopwords\n",
        "    tokens = [w for w in tokens if not w in stop_words]\n",
        "    # remove_digits = str.maketrans('', '', digits)\n",
        "    # tokens = [w.translate(remove_digits) for w in tokens]\n",
        "    tokens = [w.strip() for w in tokens]\n",
        "    tokens = [w for w in tokens if w!=\"\"]\n",
        "    tokens = ' '.join(tokens)\n",
        "    tokens = tokens.replace(\"â\", \"\")\n",
        "    tokens = tokens.replace(\"@\", \"\")\n",
        "    tokens = tokens.replace(\"#\", \"\")\n",
        "    tokens = tokens.replace(\"$\", \"\")\n",
        "    return tokens\n",
        "\n",
        "df['text'] = df['text'].apply(clean_sentence)"
      ],
      "execution_count": 17,
      "outputs": [
        {
          "output_type": "stream",
          "name": "stdout",
          "text": [
            "[nltk_data] Downloading package stopwords to /root/nltk_data...\n",
            "[nltk_data]   Unzipping corpora/stopwords.zip.\n"
          ]
        }
      ]
    },
    {
      "cell_type": "code",
      "metadata": {
        "colab": {
          "base_uri": "https://localhost:8080/",
          "height": 359
        },
        "id": "K5UZNoTSlt2E",
        "outputId": "c95032e2-4c5a-43a7-e83b-da085f4206d5"
      },
      "source": [
        "df.sample(10)"
      ],
      "execution_count": 18,
      "outputs": [
        {
          "output_type": "execute_result",
          "data": {
            "text/html": [
              "<div>\n",
              "<style scoped>\n",
              "    .dataframe tbody tr th:only-of-type {\n",
              "        vertical-align: middle;\n",
              "    }\n",
              "\n",
              "    .dataframe tbody tr th {\n",
              "        vertical-align: top;\n",
              "    }\n",
              "\n",
              "    .dataframe thead th {\n",
              "        text-align: right;\n",
              "    }\n",
              "</style>\n",
              "<table border=\"1\" class=\"dataframe\">\n",
              "  <thead>\n",
              "    <tr style=\"text-align: right;\">\n",
              "      <th></th>\n",
              "      <th>index</th>\n",
              "      <th>id</th>\n",
              "      <th>keyword</th>\n",
              "      <th>location</th>\n",
              "      <th>text</th>\n",
              "      <th>target</th>\n",
              "    </tr>\n",
              "  </thead>\n",
              "  <tbody>\n",
              "    <tr>\n",
              "      <th>5480</th>\n",
              "      <td>5618</td>\n",
              "      <td>8016</td>\n",
              "      <td>refugees</td>\n",
              "      <td>paradise</td>\n",
              "      <td>retweet cameroon repatriating 1200 nigerian re...</td>\n",
              "      <td>1</td>\n",
              "    </tr>\n",
              "    <tr>\n",
              "      <th>4051</th>\n",
              "      <td>6998</td>\n",
              "      <td>10035</td>\n",
              "      <td>twister</td>\n",
              "      <td>Plano,TX</td>\n",
              "      <td>briannafrost twister bill paxton helen hunt!</td>\n",
              "      <td>0</td>\n",
              "    </tr>\n",
              "    <tr>\n",
              "      <th>6586</th>\n",
              "      <td>7339</td>\n",
              "      <td>10506</td>\n",
              "      <td>wildfire</td>\n",
              "      <td>NaN</td>\n",
              "      <td>wildfire burns california u.s. china economic ...</td>\n",
              "      <td>1</td>\n",
              "    </tr>\n",
              "    <tr>\n",
              "      <th>2100</th>\n",
              "      <td>3529</td>\n",
              "      <td>5044</td>\n",
              "      <td>eyewitness</td>\n",
              "      <td>NaN</td>\n",
              "      <td>dk eyewitness travel guide: denmark: travel gu...</td>\n",
              "      <td>0</td>\n",
              "    </tr>\n",
              "    <tr>\n",
              "      <th>1267</th>\n",
              "      <td>2038</td>\n",
              "      <td>2925</td>\n",
              "      <td>danger</td>\n",
              "      <td>World</td>\n",
              "      <td>permits bear hunting danger outnumbering actua...</td>\n",
              "      <td>0</td>\n",
              "    </tr>\n",
              "    <tr>\n",
              "      <th>3632</th>\n",
              "      <td>6214</td>\n",
              "      <td>8865</td>\n",
              "      <td>smoke</td>\n",
              "      <td>NaN</td>\n",
              "      <td>sammysosita smoke blunt &amp;amp; get it.. ciggs you.</td>\n",
              "      <td>0</td>\n",
              "    </tr>\n",
              "    <tr>\n",
              "      <th>2967</th>\n",
              "      <td>5128</td>\n",
              "      <td>7315</td>\n",
              "      <td>nuclear%20reactor</td>\n",
              "      <td>Anywhere I like</td>\n",
              "      <td>government pressure abandon plans construct uk...</td>\n",
              "      <td>0</td>\n",
              "    </tr>\n",
              "    <tr>\n",
              "      <th>2582</th>\n",
              "      <td>4448</td>\n",
              "      <td>6330</td>\n",
              "      <td>hostage</td>\n",
              "      <td>Victorville, CA</td>\n",
              "      <td>wut lonely lunch. got ditched. i'm hungrier ho...</td>\n",
              "      <td>0</td>\n",
              "    </tr>\n",
              "    <tr>\n",
              "      <th>3568</th>\n",
              "      <td>6138</td>\n",
              "      <td>8757</td>\n",
              "      <td>siren</td>\n",
              "      <td>Paris.</td>\n",
              "      <td>? nowplaying song siren john frusciante (2009)</td>\n",
              "      <td>0</td>\n",
              "    </tr>\n",
              "    <tr>\n",
              "      <th>3643</th>\n",
              "      <td>6227</td>\n",
              "      <td>8888</td>\n",
              "      <td>smoke</td>\n",
              "      <td>Indonesia</td>\n",
              "      <td>teamatowinner no.. mean mino said smoke? u men...</td>\n",
              "      <td>0</td>\n",
              "    </tr>\n",
              "  </tbody>\n",
              "</table>\n",
              "</div>"
            ],
            "text/plain": [
              "      index     id  ...                                               text target\n",
              "5480   5618   8016  ...  retweet cameroon repatriating 1200 nigerian re...      1\n",
              "4051   6998  10035  ...       briannafrost twister bill paxton helen hunt!      0\n",
              "6586   7339  10506  ...  wildfire burns california u.s. china economic ...      1\n",
              "2100   3529   5044  ...  dk eyewitness travel guide: denmark: travel gu...      0\n",
              "1267   2038   2925  ...  permits bear hunting danger outnumbering actua...      0\n",
              "3632   6214   8865  ...  sammysosita smoke blunt &amp; get it.. ciggs you.      0\n",
              "2967   5128   7315  ...  government pressure abandon plans construct uk...      0\n",
              "2582   4448   6330  ...  wut lonely lunch. got ditched. i'm hungrier ho...      0\n",
              "3568   6138   8757  ...     ? nowplaying song siren john frusciante (2009)      0\n",
              "3643   6227   8888  ...  teamatowinner no.. mean mino said smoke? u men...      0\n",
              "\n",
              "[10 rows x 6 columns]"
            ]
          },
          "metadata": {},
          "execution_count": 18
        }
      ]
    },
    {
      "cell_type": "code",
      "metadata": {
        "id": "Mncrw4pxnoY5"
      },
      "source": [
        "## some key constants\n",
        "\n",
        "class Config:\n",
        "    batch_size = 32\n",
        "    max_len = 0"
      ],
      "execution_count": 19,
      "outputs": []
    },
    {
      "cell_type": "code",
      "metadata": {
        "colab": {
          "base_uri": "https://localhost:8080/"
        },
        "id": "S2pHQb_bhYo7",
        "outputId": "67cc3cb1-5cd5-48a6-bc9b-5fd757d6cc41"
      },
      "source": [
        "## Finding the maximum length of the sentence\n",
        "\n",
        "Config.max_len = 0\n",
        "\n",
        "for sent in df.loc[:, 'text']:\n",
        "    sent = tokenizer.encode(sent, add_special_tokens = True)\n",
        "    Config.max_len = max(Config.max_len, len(sent))\n",
        "\n",
        "Config.max_len"
      ],
      "execution_count": 20,
      "outputs": [
        {
          "output_type": "execute_result",
          "data": {
            "text/plain": [
              "71"
            ]
          },
          "metadata": {},
          "execution_count": 20
        }
      ]
    },
    {
      "cell_type": "code",
      "metadata": {
        "id": "-8civ12-iApn"
      },
      "source": [
        "## Creating torch tensors with input IDs and attention masks\n",
        "\n",
        "input_ids = torch.tensor([])\n",
        "attention_masks = torch.tensor([])\n",
        "\n",
        "for sent in df.loc[:, 'text']:\n",
        "    encoded_sent = tokenizer.encode_plus(sent, add_special_tokens = True,\n",
        "                                         max_length = Config.max_len, padding = 'max_length',\n",
        "                                         return_tensors = 'pt')\n",
        "    input_ids = torch.cat([input_ids, encoded_sent['input_ids']])\n",
        "    attention_masks = torch.cat([attention_masks, encoded_sent['attention_mask']])"
      ],
      "execution_count": 21,
      "outputs": []
    },
    {
      "cell_type": "code",
      "metadata": {
        "colab": {
          "base_uri": "https://localhost:8080/"
        },
        "id": "6I_9DBmViD0x",
        "outputId": "d79281af-29ed-4975-f9e4-c7e2366c20e1"
      },
      "source": [
        "input_ids"
      ],
      "execution_count": 22,
      "outputs": [
        {
          "output_type": "execute_result",
          "data": {
            "text/plain": [
              "tensor([[  101.,  1184.,   112.,  ...,     0.,     0.,     0.],\n",
              "        [  101.,  1567., 11669.,  ...,     0.,     0.,     0.],\n",
              "        [  101.,  2247.,  9020.,  ...,     0.,     0.,     0.],\n",
              "        ...,\n",
              "        [  101.,  9605.,  4680.,  ...,     0.,     0.,     0.],\n",
              "        [  101.,  2824.,  3871.,  ...,     0.,     0.,     0.],\n",
              "        [  101., 20454.,  2737.,  ...,     0.,     0.,     0.]])"
            ]
          },
          "metadata": {},
          "execution_count": 22
        }
      ]
    },
    {
      "cell_type": "code",
      "metadata": {
        "colab": {
          "base_uri": "https://localhost:8080/"
        },
        "id": "SdAWyPVViD3x",
        "outputId": "fa87fc79-dce7-410d-9bda-9590a9cb3342"
      },
      "source": [
        "attention_masks"
      ],
      "execution_count": 23,
      "outputs": [
        {
          "output_type": "execute_result",
          "data": {
            "text/plain": [
              "tensor([[1., 1., 1.,  ..., 0., 0., 0.],\n",
              "        [1., 1., 1.,  ..., 0., 0., 0.],\n",
              "        [1., 1., 1.,  ..., 0., 0., 0.],\n",
              "        ...,\n",
              "        [1., 1., 1.,  ..., 0., 0., 0.],\n",
              "        [1., 1., 1.,  ..., 0., 0., 0.],\n",
              "        [1., 1., 1.,  ..., 0., 0., 0.]])"
            ]
          },
          "metadata": {},
          "execution_count": 23
        }
      ]
    },
    {
      "cell_type": "code",
      "metadata": {
        "colab": {
          "base_uri": "https://localhost:8080/"
        },
        "id": "MOq4iNJviD61",
        "outputId": "fc9c8507-29d9-4521-ec6e-2df140c264eb"
      },
      "source": [
        "labels = torch.tensor(df['target'])\n",
        "labels"
      ],
      "execution_count": 24,
      "outputs": [
        {
          "output_type": "execute_result",
          "data": {
            "text/plain": [
              "tensor([0, 0, 0,  ..., 1, 1, 1])"
            ]
          },
          "metadata": {},
          "execution_count": 24
        }
      ]
    },
    {
      "cell_type": "code",
      "metadata": {
        "colab": {
          "base_uri": "https://localhost:8080/"
        },
        "id": "zAcFqNl04LJK",
        "outputId": "318222f0-5daa-4717-d612-25c6bea7261e"
      },
      "source": [
        "len(input_ids), len(attention_masks), len(labels)"
      ],
      "execution_count": 29,
      "outputs": [
        {
          "output_type": "execute_result",
          "data": {
            "text/plain": [
              "(8684, 8684, 8684)"
            ]
          },
          "metadata": {},
          "execution_count": 29
        }
      ]
    },
    {
      "cell_type": "code",
      "metadata": {
        "colab": {
          "base_uri": "https://localhost:8080/"
        },
        "id": "iR9Yxo9x4l79",
        "outputId": "43e5a426-b824-4441-c0a8-d5bc0b2b612c"
      },
      "source": [
        "input_ids"
      ],
      "execution_count": 32,
      "outputs": [
        {
          "output_type": "execute_result",
          "data": {
            "text/plain": [
              "tensor([[  101.,  1184.,   112.,  ...,     0.,     0.,     0.],\n",
              "        [  101.,  1567., 11669.,  ...,     0.,     0.,     0.],\n",
              "        [  101.,  2247.,  9020.,  ...,     0.,     0.,     0.],\n",
              "        ...,\n",
              "        [  101.,  9605.,  4680.,  ...,     0.,     0.,     0.],\n",
              "        [  101.,  2824.,  3871.,  ...,     0.,     0.,     0.],\n",
              "        [  101., 20454.,  2737.,  ...,     0.,     0.,     0.]])"
            ]
          },
          "metadata": {},
          "execution_count": 32
        }
      ]
    },
    {
      "cell_type": "code",
      "metadata": {
        "id": "Ft_fwP594RGx"
      },
      "source": [
        "from numpy.random import default_rng\n",
        "\n",
        "rng = default_rng()\n",
        "numbers = rng.choice(20, size=10, replace=False)\n",
        "\n",
        "num = int(0.9*len(input_ids))\n",
        "ids = np.array(range(len(input_ids)))\n",
        "train_ids = rng.choice(ids, size = num, replace = False)\n",
        "val_ids = ids[~np.isin(ids, train_ids)]"
      ],
      "execution_count": 95,
      "outputs": []
    },
    {
      "cell_type": "code",
      "metadata": {
        "colab": {
          "base_uri": "https://localhost:8080/"
        },
        "id": "TSvgK9nH5JTs",
        "outputId": "850a580e-2c27-4b3a-cfeb-3ff0f78b1094"
      },
      "source": [
        "train_ids.shape, val_ids.shape, ids.shape"
      ],
      "execution_count": 97,
      "outputs": [
        {
          "output_type": "execute_result",
          "data": {
            "text/plain": [
              "((7815,), (869,), (8684,))"
            ]
          },
          "metadata": {},
          "execution_count": 97
        }
      ]
    },
    {
      "cell_type": "code",
      "metadata": {
        "id": "80DIJNZHiD9d"
      },
      "source": [
        "## Creating torch dataset for training and validation\n",
        "\n",
        "from torch.utils.data import TensorDataset, random_split\n",
        "\n",
        "# dataset = TensorDataset(input_ids, attention_masks, labels)\n",
        "# val_size = int(0.1 * len(dataset))\n",
        "# train_size = len(dataset) - val_size\n",
        "\n",
        "# train_dataset, val_dataset = random_split(dataset, [train_size, val_size])\n",
        "\n",
        "train_dataset = TensorDataset(input_ids[train_ids], attention_masks[train_ids], labels[train_ids])\n",
        "val_dataset = TensorDataset(input_ids[val_ids], attention_masks[val_ids], labels[val_ids])"
      ],
      "execution_count": 99,
      "outputs": []
    },
    {
      "cell_type": "code",
      "metadata": {
        "colab": {
          "base_uri": "https://localhost:8080/"
        },
        "id": "Ucxhm-C0lp4P",
        "outputId": "c4f65fb1-73b9-41c7-c301-bfb6bc50f2fe"
      },
      "source": [
        "len(train_dataset), len(val_dataset)"
      ],
      "execution_count": 100,
      "outputs": [
        {
          "output_type": "execute_result",
          "data": {
            "text/plain": [
              "(7815, 869)"
            ]
          },
          "metadata": {},
          "execution_count": 100
        }
      ]
    },
    {
      "cell_type": "code",
      "metadata": {
        "id": "EMgKRNAylp8g"
      },
      "source": [
        "from torch.utils.data import DataLoader, RandomSampler, SequentialSampler\n",
        "\n",
        "train_loader = DataLoader(train_dataset, sampler = RandomSampler(train_dataset), batch_size = Config.batch_size)\n",
        "val_loader = DataLoader(val_dataset, sampler = SequentialSampler(val_dataset), batch_size = Config.batch_size)"
      ],
      "execution_count": 101,
      "outputs": []
    },
    {
      "cell_type": "code",
      "metadata": {
        "colab": {
          "base_uri": "https://localhost:8080/"
        },
        "id": "T5NJrh0hm61f",
        "outputId": "36143fe4-efc3-47fb-c9ee-807f2746e0a7"
      },
      "source": [
        "next(iter(val_loader))"
      ],
      "execution_count": 102,
      "outputs": [
        {
          "output_type": "execute_result",
          "data": {
            "text/plain": [
              "[tensor([[  101.,   183.,  1183.,  ...,     0.,     0.,     0.],\n",
              "         [  101.,  6675.,  1167.,  ...,     0.,     0.,     0.],\n",
              "         [  101.,   185.,  1324.,  ...,     0.,     0.,     0.],\n",
              "         ...,\n",
              "         [  101.,  1469.,   168.,  ...,     0.,     0.,     0.],\n",
              "         [  101., 11019., 20623.,  ...,     0.,     0.,     0.],\n",
              "         [  101., 13280.,  2296.,  ...,     0.,     0.,     0.]]),\n",
              " tensor([[1., 1., 1.,  ..., 0., 0., 0.],\n",
              "         [1., 1., 1.,  ..., 0., 0., 0.],\n",
              "         [1., 1., 1.,  ..., 0., 0., 0.],\n",
              "         ...,\n",
              "         [1., 1., 1.,  ..., 0., 0., 0.],\n",
              "         [1., 1., 1.,  ..., 0., 0., 0.],\n",
              "         [1., 1., 1.,  ..., 0., 0., 0.]]),\n",
              " tensor([0, 0, 0, 0, 0, 0, 0, 0, 0, 0, 0, 0, 0, 0, 0, 0, 0, 0, 0, 0, 0, 0, 0, 0,\n",
              "         0, 0, 0, 0, 0, 0, 0, 0])]"
            ]
          },
          "metadata": {},
          "execution_count": 102
        }
      ]
    },
    {
      "cell_type": "markdown",
      "metadata": {
        "id": "OUjdpaK6qIA3"
      },
      "source": [
        "# BERT"
      ]
    },
    {
      "cell_type": "code",
      "metadata": {
        "colab": {
          "base_uri": "https://localhost:8080/"
        },
        "id": "3ZygkYYfm64v",
        "outputId": "b25138b8-a01e-4c5c-cca4-c1e2f3d3a8ba"
      },
      "source": [
        "from transformers import BertForSequenceClassification, AdamW, BertConfig\n",
        "\n",
        "bert_model = BertForSequenceClassification.from_pretrained(\n",
        "    'bert-base-cased',\n",
        "    num_labels = 2,\n",
        "    output_attentions = False,\n",
        "    output_hidden_states = False\n",
        ")\n",
        "\n",
        "bert_model.to(device)"
      ],
      "execution_count": 107,
      "outputs": [
        {
          "output_type": "stream",
          "name": "stderr",
          "text": [
            "Some weights of the model checkpoint at bert-base-cased were not used when initializing BertForSequenceClassification: ['cls.predictions.transform.LayerNorm.bias', 'cls.seq_relationship.bias', 'cls.predictions.transform.dense.bias', 'cls.predictions.transform.dense.weight', 'cls.predictions.decoder.weight', 'cls.predictions.bias', 'cls.predictions.transform.LayerNorm.weight', 'cls.seq_relationship.weight']\n",
            "- This IS expected if you are initializing BertForSequenceClassification from the checkpoint of a model trained on another task or with another architecture (e.g. initializing a BertForSequenceClassification model from a BertForPreTraining model).\n",
            "- This IS NOT expected if you are initializing BertForSequenceClassification from the checkpoint of a model that you expect to be exactly identical (initializing a BertForSequenceClassification model from a BertForSequenceClassification model).\n",
            "Some weights of BertForSequenceClassification were not initialized from the model checkpoint at bert-base-cased and are newly initialized: ['classifier.weight', 'classifier.bias']\n",
            "You should probably TRAIN this model on a down-stream task to be able to use it for predictions and inference.\n"
          ]
        },
        {
          "output_type": "execute_result",
          "data": {
            "text/plain": [
              "BertForSequenceClassification(\n",
              "  (bert): BertModel(\n",
              "    (embeddings): BertEmbeddings(\n",
              "      (word_embeddings): Embedding(28996, 768, padding_idx=0)\n",
              "      (position_embeddings): Embedding(512, 768)\n",
              "      (token_type_embeddings): Embedding(2, 768)\n",
              "      (LayerNorm): LayerNorm((768,), eps=1e-12, elementwise_affine=True)\n",
              "      (dropout): Dropout(p=0.1, inplace=False)\n",
              "    )\n",
              "    (encoder): BertEncoder(\n",
              "      (layer): ModuleList(\n",
              "        (0): BertLayer(\n",
              "          (attention): BertAttention(\n",
              "            (self): BertSelfAttention(\n",
              "              (query): Linear(in_features=768, out_features=768, bias=True)\n",
              "              (key): Linear(in_features=768, out_features=768, bias=True)\n",
              "              (value): Linear(in_features=768, out_features=768, bias=True)\n",
              "              (dropout): Dropout(p=0.1, inplace=False)\n",
              "            )\n",
              "            (output): BertSelfOutput(\n",
              "              (dense): Linear(in_features=768, out_features=768, bias=True)\n",
              "              (LayerNorm): LayerNorm((768,), eps=1e-12, elementwise_affine=True)\n",
              "              (dropout): Dropout(p=0.1, inplace=False)\n",
              "            )\n",
              "          )\n",
              "          (intermediate): BertIntermediate(\n",
              "            (dense): Linear(in_features=768, out_features=3072, bias=True)\n",
              "          )\n",
              "          (output): BertOutput(\n",
              "            (dense): Linear(in_features=3072, out_features=768, bias=True)\n",
              "            (LayerNorm): LayerNorm((768,), eps=1e-12, elementwise_affine=True)\n",
              "            (dropout): Dropout(p=0.1, inplace=False)\n",
              "          )\n",
              "        )\n",
              "        (1): BertLayer(\n",
              "          (attention): BertAttention(\n",
              "            (self): BertSelfAttention(\n",
              "              (query): Linear(in_features=768, out_features=768, bias=True)\n",
              "              (key): Linear(in_features=768, out_features=768, bias=True)\n",
              "              (value): Linear(in_features=768, out_features=768, bias=True)\n",
              "              (dropout): Dropout(p=0.1, inplace=False)\n",
              "            )\n",
              "            (output): BertSelfOutput(\n",
              "              (dense): Linear(in_features=768, out_features=768, bias=True)\n",
              "              (LayerNorm): LayerNorm((768,), eps=1e-12, elementwise_affine=True)\n",
              "              (dropout): Dropout(p=0.1, inplace=False)\n",
              "            )\n",
              "          )\n",
              "          (intermediate): BertIntermediate(\n",
              "            (dense): Linear(in_features=768, out_features=3072, bias=True)\n",
              "          )\n",
              "          (output): BertOutput(\n",
              "            (dense): Linear(in_features=3072, out_features=768, bias=True)\n",
              "            (LayerNorm): LayerNorm((768,), eps=1e-12, elementwise_affine=True)\n",
              "            (dropout): Dropout(p=0.1, inplace=False)\n",
              "          )\n",
              "        )\n",
              "        (2): BertLayer(\n",
              "          (attention): BertAttention(\n",
              "            (self): BertSelfAttention(\n",
              "              (query): Linear(in_features=768, out_features=768, bias=True)\n",
              "              (key): Linear(in_features=768, out_features=768, bias=True)\n",
              "              (value): Linear(in_features=768, out_features=768, bias=True)\n",
              "              (dropout): Dropout(p=0.1, inplace=False)\n",
              "            )\n",
              "            (output): BertSelfOutput(\n",
              "              (dense): Linear(in_features=768, out_features=768, bias=True)\n",
              "              (LayerNorm): LayerNorm((768,), eps=1e-12, elementwise_affine=True)\n",
              "              (dropout): Dropout(p=0.1, inplace=False)\n",
              "            )\n",
              "          )\n",
              "          (intermediate): BertIntermediate(\n",
              "            (dense): Linear(in_features=768, out_features=3072, bias=True)\n",
              "          )\n",
              "          (output): BertOutput(\n",
              "            (dense): Linear(in_features=3072, out_features=768, bias=True)\n",
              "            (LayerNorm): LayerNorm((768,), eps=1e-12, elementwise_affine=True)\n",
              "            (dropout): Dropout(p=0.1, inplace=False)\n",
              "          )\n",
              "        )\n",
              "        (3): BertLayer(\n",
              "          (attention): BertAttention(\n",
              "            (self): BertSelfAttention(\n",
              "              (query): Linear(in_features=768, out_features=768, bias=True)\n",
              "              (key): Linear(in_features=768, out_features=768, bias=True)\n",
              "              (value): Linear(in_features=768, out_features=768, bias=True)\n",
              "              (dropout): Dropout(p=0.1, inplace=False)\n",
              "            )\n",
              "            (output): BertSelfOutput(\n",
              "              (dense): Linear(in_features=768, out_features=768, bias=True)\n",
              "              (LayerNorm): LayerNorm((768,), eps=1e-12, elementwise_affine=True)\n",
              "              (dropout): Dropout(p=0.1, inplace=False)\n",
              "            )\n",
              "          )\n",
              "          (intermediate): BertIntermediate(\n",
              "            (dense): Linear(in_features=768, out_features=3072, bias=True)\n",
              "          )\n",
              "          (output): BertOutput(\n",
              "            (dense): Linear(in_features=3072, out_features=768, bias=True)\n",
              "            (LayerNorm): LayerNorm((768,), eps=1e-12, elementwise_affine=True)\n",
              "            (dropout): Dropout(p=0.1, inplace=False)\n",
              "          )\n",
              "        )\n",
              "        (4): BertLayer(\n",
              "          (attention): BertAttention(\n",
              "            (self): BertSelfAttention(\n",
              "              (query): Linear(in_features=768, out_features=768, bias=True)\n",
              "              (key): Linear(in_features=768, out_features=768, bias=True)\n",
              "              (value): Linear(in_features=768, out_features=768, bias=True)\n",
              "              (dropout): Dropout(p=0.1, inplace=False)\n",
              "            )\n",
              "            (output): BertSelfOutput(\n",
              "              (dense): Linear(in_features=768, out_features=768, bias=True)\n",
              "              (LayerNorm): LayerNorm((768,), eps=1e-12, elementwise_affine=True)\n",
              "              (dropout): Dropout(p=0.1, inplace=False)\n",
              "            )\n",
              "          )\n",
              "          (intermediate): BertIntermediate(\n",
              "            (dense): Linear(in_features=768, out_features=3072, bias=True)\n",
              "          )\n",
              "          (output): BertOutput(\n",
              "            (dense): Linear(in_features=3072, out_features=768, bias=True)\n",
              "            (LayerNorm): LayerNorm((768,), eps=1e-12, elementwise_affine=True)\n",
              "            (dropout): Dropout(p=0.1, inplace=False)\n",
              "          )\n",
              "        )\n",
              "        (5): BertLayer(\n",
              "          (attention): BertAttention(\n",
              "            (self): BertSelfAttention(\n",
              "              (query): Linear(in_features=768, out_features=768, bias=True)\n",
              "              (key): Linear(in_features=768, out_features=768, bias=True)\n",
              "              (value): Linear(in_features=768, out_features=768, bias=True)\n",
              "              (dropout): Dropout(p=0.1, inplace=False)\n",
              "            )\n",
              "            (output): BertSelfOutput(\n",
              "              (dense): Linear(in_features=768, out_features=768, bias=True)\n",
              "              (LayerNorm): LayerNorm((768,), eps=1e-12, elementwise_affine=True)\n",
              "              (dropout): Dropout(p=0.1, inplace=False)\n",
              "            )\n",
              "          )\n",
              "          (intermediate): BertIntermediate(\n",
              "            (dense): Linear(in_features=768, out_features=3072, bias=True)\n",
              "          )\n",
              "          (output): BertOutput(\n",
              "            (dense): Linear(in_features=3072, out_features=768, bias=True)\n",
              "            (LayerNorm): LayerNorm((768,), eps=1e-12, elementwise_affine=True)\n",
              "            (dropout): Dropout(p=0.1, inplace=False)\n",
              "          )\n",
              "        )\n",
              "        (6): BertLayer(\n",
              "          (attention): BertAttention(\n",
              "            (self): BertSelfAttention(\n",
              "              (query): Linear(in_features=768, out_features=768, bias=True)\n",
              "              (key): Linear(in_features=768, out_features=768, bias=True)\n",
              "              (value): Linear(in_features=768, out_features=768, bias=True)\n",
              "              (dropout): Dropout(p=0.1, inplace=False)\n",
              "            )\n",
              "            (output): BertSelfOutput(\n",
              "              (dense): Linear(in_features=768, out_features=768, bias=True)\n",
              "              (LayerNorm): LayerNorm((768,), eps=1e-12, elementwise_affine=True)\n",
              "              (dropout): Dropout(p=0.1, inplace=False)\n",
              "            )\n",
              "          )\n",
              "          (intermediate): BertIntermediate(\n",
              "            (dense): Linear(in_features=768, out_features=3072, bias=True)\n",
              "          )\n",
              "          (output): BertOutput(\n",
              "            (dense): Linear(in_features=3072, out_features=768, bias=True)\n",
              "            (LayerNorm): LayerNorm((768,), eps=1e-12, elementwise_affine=True)\n",
              "            (dropout): Dropout(p=0.1, inplace=False)\n",
              "          )\n",
              "        )\n",
              "        (7): BertLayer(\n",
              "          (attention): BertAttention(\n",
              "            (self): BertSelfAttention(\n",
              "              (query): Linear(in_features=768, out_features=768, bias=True)\n",
              "              (key): Linear(in_features=768, out_features=768, bias=True)\n",
              "              (value): Linear(in_features=768, out_features=768, bias=True)\n",
              "              (dropout): Dropout(p=0.1, inplace=False)\n",
              "            )\n",
              "            (output): BertSelfOutput(\n",
              "              (dense): Linear(in_features=768, out_features=768, bias=True)\n",
              "              (LayerNorm): LayerNorm((768,), eps=1e-12, elementwise_affine=True)\n",
              "              (dropout): Dropout(p=0.1, inplace=False)\n",
              "            )\n",
              "          )\n",
              "          (intermediate): BertIntermediate(\n",
              "            (dense): Linear(in_features=768, out_features=3072, bias=True)\n",
              "          )\n",
              "          (output): BertOutput(\n",
              "            (dense): Linear(in_features=3072, out_features=768, bias=True)\n",
              "            (LayerNorm): LayerNorm((768,), eps=1e-12, elementwise_affine=True)\n",
              "            (dropout): Dropout(p=0.1, inplace=False)\n",
              "          )\n",
              "        )\n",
              "        (8): BertLayer(\n",
              "          (attention): BertAttention(\n",
              "            (self): BertSelfAttention(\n",
              "              (query): Linear(in_features=768, out_features=768, bias=True)\n",
              "              (key): Linear(in_features=768, out_features=768, bias=True)\n",
              "              (value): Linear(in_features=768, out_features=768, bias=True)\n",
              "              (dropout): Dropout(p=0.1, inplace=False)\n",
              "            )\n",
              "            (output): BertSelfOutput(\n",
              "              (dense): Linear(in_features=768, out_features=768, bias=True)\n",
              "              (LayerNorm): LayerNorm((768,), eps=1e-12, elementwise_affine=True)\n",
              "              (dropout): Dropout(p=0.1, inplace=False)\n",
              "            )\n",
              "          )\n",
              "          (intermediate): BertIntermediate(\n",
              "            (dense): Linear(in_features=768, out_features=3072, bias=True)\n",
              "          )\n",
              "          (output): BertOutput(\n",
              "            (dense): Linear(in_features=3072, out_features=768, bias=True)\n",
              "            (LayerNorm): LayerNorm((768,), eps=1e-12, elementwise_affine=True)\n",
              "            (dropout): Dropout(p=0.1, inplace=False)\n",
              "          )\n",
              "        )\n",
              "        (9): BertLayer(\n",
              "          (attention): BertAttention(\n",
              "            (self): BertSelfAttention(\n",
              "              (query): Linear(in_features=768, out_features=768, bias=True)\n",
              "              (key): Linear(in_features=768, out_features=768, bias=True)\n",
              "              (value): Linear(in_features=768, out_features=768, bias=True)\n",
              "              (dropout): Dropout(p=0.1, inplace=False)\n",
              "            )\n",
              "            (output): BertSelfOutput(\n",
              "              (dense): Linear(in_features=768, out_features=768, bias=True)\n",
              "              (LayerNorm): LayerNorm((768,), eps=1e-12, elementwise_affine=True)\n",
              "              (dropout): Dropout(p=0.1, inplace=False)\n",
              "            )\n",
              "          )\n",
              "          (intermediate): BertIntermediate(\n",
              "            (dense): Linear(in_features=768, out_features=3072, bias=True)\n",
              "          )\n",
              "          (output): BertOutput(\n",
              "            (dense): Linear(in_features=3072, out_features=768, bias=True)\n",
              "            (LayerNorm): LayerNorm((768,), eps=1e-12, elementwise_affine=True)\n",
              "            (dropout): Dropout(p=0.1, inplace=False)\n",
              "          )\n",
              "        )\n",
              "        (10): BertLayer(\n",
              "          (attention): BertAttention(\n",
              "            (self): BertSelfAttention(\n",
              "              (query): Linear(in_features=768, out_features=768, bias=True)\n",
              "              (key): Linear(in_features=768, out_features=768, bias=True)\n",
              "              (value): Linear(in_features=768, out_features=768, bias=True)\n",
              "              (dropout): Dropout(p=0.1, inplace=False)\n",
              "            )\n",
              "            (output): BertSelfOutput(\n",
              "              (dense): Linear(in_features=768, out_features=768, bias=True)\n",
              "              (LayerNorm): LayerNorm((768,), eps=1e-12, elementwise_affine=True)\n",
              "              (dropout): Dropout(p=0.1, inplace=False)\n",
              "            )\n",
              "          )\n",
              "          (intermediate): BertIntermediate(\n",
              "            (dense): Linear(in_features=768, out_features=3072, bias=True)\n",
              "          )\n",
              "          (output): BertOutput(\n",
              "            (dense): Linear(in_features=3072, out_features=768, bias=True)\n",
              "            (LayerNorm): LayerNorm((768,), eps=1e-12, elementwise_affine=True)\n",
              "            (dropout): Dropout(p=0.1, inplace=False)\n",
              "          )\n",
              "        )\n",
              "        (11): BertLayer(\n",
              "          (attention): BertAttention(\n",
              "            (self): BertSelfAttention(\n",
              "              (query): Linear(in_features=768, out_features=768, bias=True)\n",
              "              (key): Linear(in_features=768, out_features=768, bias=True)\n",
              "              (value): Linear(in_features=768, out_features=768, bias=True)\n",
              "              (dropout): Dropout(p=0.1, inplace=False)\n",
              "            )\n",
              "            (output): BertSelfOutput(\n",
              "              (dense): Linear(in_features=768, out_features=768, bias=True)\n",
              "              (LayerNorm): LayerNorm((768,), eps=1e-12, elementwise_affine=True)\n",
              "              (dropout): Dropout(p=0.1, inplace=False)\n",
              "            )\n",
              "          )\n",
              "          (intermediate): BertIntermediate(\n",
              "            (dense): Linear(in_features=768, out_features=3072, bias=True)\n",
              "          )\n",
              "          (output): BertOutput(\n",
              "            (dense): Linear(in_features=3072, out_features=768, bias=True)\n",
              "            (LayerNorm): LayerNorm((768,), eps=1e-12, elementwise_affine=True)\n",
              "            (dropout): Dropout(p=0.1, inplace=False)\n",
              "          )\n",
              "        )\n",
              "      )\n",
              "    )\n",
              "    (pooler): BertPooler(\n",
              "      (dense): Linear(in_features=768, out_features=768, bias=True)\n",
              "      (activation): Tanh()\n",
              "    )\n",
              "  )\n",
              "  (dropout): Dropout(p=0.1, inplace=False)\n",
              "  (classifier): Linear(in_features=768, out_features=2, bias=True)\n",
              ")"
            ]
          },
          "metadata": {},
          "execution_count": 107
        }
      ]
    },
    {
      "cell_type": "code",
      "metadata": {
        "id": "V_lVbir1m7BC"
      },
      "source": [
        "import random\n",
        "\n",
        "seed_val = 42\n",
        "\n",
        "random.seed(seed_val)\n",
        "np.random.seed(seed_val)\n",
        "torch.manual_seed(seed_val)\n",
        "torch.cuda.manual_seed_all(seed_val)\n",
        "\n",
        "def train_model(model, train_loader, val_loader, optimizer, num_epochs, scheduler = None):\n",
        "    train_loss_history = []\n",
        "    train_f1_history = []\n",
        "    train_accuracy_history = []\n",
        "    val_accuracy_history = []\n",
        "    val_f1_history = []\n",
        "\n",
        "    for epoch in range(num_epochs):\n",
        "        model.train() # Enter train mode\n",
        "        \n",
        "        train_loss_accum = 0\n",
        "        correct_samples = 0\n",
        "        total_samples = 0\n",
        "\n",
        "        tp, tn, fp, fn = 0, 0, 0, 0\n",
        "\n",
        "        for index, (sentence, attention_mask, label) in enumerate(train_loader):\n",
        "            model.zero_grad()\n",
        "\n",
        "            sentence = sentence.to(device).long()\n",
        "            attention_mask = attention_mask.to(device).long()\n",
        "            label = label.to(device).long()\n",
        "\n",
        "            output = model(sentence, token_type_ids = None, attention_mask = attention_mask, labels = label)\n",
        "            loss_value, logits = output[0], output[1]\n",
        "            train_loss_accum += loss_value.item()\n",
        "\n",
        "            loss_value.backward()\n",
        "            optimizer.step()\n",
        "            if scheduler:\n",
        "                scheduler.step()\n",
        "\n",
        "            _, indices = torch.max(logits, 1)\n",
        "            correct_samples += torch.sum(indices == label)\n",
        "            tp += len(indices[(indices == label) & (indices == 1)])\n",
        "            tn += len(indices[(indices == label) & (indices == 0)])\n",
        "            fp += len(indices[(indices != label) & (indices == 1)])\n",
        "            fn += len(indices[(indices != label) & (indices == 0)])\n",
        "            total_samples += label.shape[0]\n",
        "            \n",
        "        avg_loss = train_loss_accum / index\n",
        "        train_accuracy = float(correct_samples) / total_samples\n",
        "        train_precision = tp / (tp + fp)\n",
        "        train_recall = tp / (tp + fn)\n",
        "        f1_train = (2*train_precision*train_recall) / (train_precision + train_recall)\n",
        "        \n",
        "        val_accuracy, f1_val = eval_model(model, val_loader)\n",
        "\n",
        "        train_loss_history.append(avg_loss)\n",
        "        train_accuracy_history.append(train_accuracy)\n",
        "        train_f1_history.append(f1_train)\n",
        "        val_accuracy_history.append(val_accuracy)\n",
        "        val_f1_history.append(f1_val)\n",
        "\n",
        "        print(f\"EPOCH: {epoch}, Train_loss: {avg_loss}, Train_Acc: {train_accuracy}, Train_F1: {f1_train}, Val_Acc: {val_accuracy}, Val_F1: {f1_val}\")\n",
        "        if avg_loss < 0.05:\n",
        "            return train_loss_history, train_accuracy_history, train_f1_history, val_accuracy_history, val_f1_history\n",
        "\n",
        "    return train_loss_history, train_accuracy_history, train_f1_history, val_accuracy_history, val_f1_history\n",
        "\n",
        "def eval_model(model, loader):\n",
        "\n",
        "    model.eval() # Evaluation mode\n",
        "    tp, tn, fp, fn = 0, 0, 0, 0\n",
        "    correct_samples = 0\n",
        "    total_samples = 0\n",
        "\n",
        "    for sentence, attention_mask, label in loader:\n",
        "        sentence = sentence.to(device).long()\n",
        "        attention_mask = attention_mask.to(device).long()\n",
        "        label = label.to(device).long()\n",
        "\n",
        "        with torch.no_grad():\n",
        "            preds = model(sentence, token_type_ids = None, attention_mask = attention_mask)\n",
        "        \n",
        "        _, indices = torch.max(preds[0], 1)\n",
        "        correct_samples += torch.sum(indices == label)\n",
        "        tp += len(indices[(indices == label) & (indices == 1)])\n",
        "        tn += len(indices[(indices == label) & (indices == 0)])\n",
        "        fp += len(indices[(indices != label) & (indices == 1)])\n",
        "        fn += len(indices[(indices != label) & (indices == 0)])\n",
        "        total_samples += label.shape[0]\n",
        "\n",
        "    val_accuracy = float(correct_samples) / total_samples\n",
        "    val_precision = tp / (tp + fp)\n",
        "    val_recall = tp / (tp + fn)\n",
        "    f1_val = (2*val_precision*val_recall) / (val_precision + val_recall)\n",
        "\n",
        "    return val_accuracy, f1_val"
      ],
      "execution_count": 108,
      "outputs": []
    },
    {
      "cell_type": "code",
      "metadata": {
        "id": "hw0BtAn2lqBi",
        "colab": {
          "base_uri": "https://localhost:8080/"
        },
        "outputId": "401df6ee-c3c6-41a7-93f6-f5e4ce77a537"
      },
      "source": [
        "%%time\n",
        "\n",
        "from transformers import get_linear_schedule_with_warmup\n",
        "\n",
        "EPOCHS = 5\n",
        "\n",
        "optimizer = AdamW(bert_model.parameters(), lr = 1e-5, eps = 1e-8)\n",
        "scheduler = get_linear_schedule_with_warmup(optimizer, num_warmup_steps = 0, num_training_steps = EPOCHS*len(train_dataset))\n",
        "\n",
        "train_loss_history, train_accuracy_history, train_f1_history, val_acc_history, val_f1_history = \\\n",
        "                    train_model(bert_model, train_loader, val_loader, optimizer, EPOCHS, scheduler)"
      ],
      "execution_count": 109,
      "outputs": [
        {
          "output_type": "stream",
          "name": "stdout",
          "text": [
            "EPOCH: 0, Train_loss: 0.4840414135671053, Train_Acc: 0.7700575815738964, Train_F1: 0.762897479878612, Val_Acc: 0.8388952819332566, Val_F1: 0.8405466970387244\n",
            "EPOCH: 1, Train_loss: 0.3271151256029967, Train_Acc: 0.8685860524632117, Train_F1: 0.8622031396752986, Val_Acc: 0.8584579976985041, Val_F1: 0.8600682593856656\n",
            "EPOCH: 2, Train_loss: 0.229798101331489, Train_Acc: 0.9105566218809981, Train_F1: 0.9075763585878621, Val_Acc: 0.8849252013808976, Val_F1: 0.8798076923076923\n",
            "EPOCH: 3, Train_loss: 0.16228250137789815, Train_Acc: 0.9410108765195138, Train_F1: 0.9396201702685004, Val_Acc: 0.8780207134637514, Val_F1: 0.8842794759825329\n",
            "EPOCH: 4, Train_loss: 0.11167065610681645, Train_Acc: 0.9585412667946257, Train_F1: 0.9578783151326054, Val_Acc: 0.8757192174913694, Val_F1: 0.8826086956521739\n",
            "CPU times: user 11min 17s, sys: 4min 3s, total: 15min 21s\n",
            "Wall time: 15min 19s\n"
          ]
        }
      ]
    },
    {
      "cell_type": "markdown",
      "metadata": {
        "id": "jDTfZaAU1jeK"
      },
      "source": [
        "# CatBoost"
      ]
    },
    {
      "cell_type": "code",
      "metadata": {
        "colab": {
          "base_uri": "https://localhost:8080/"
        },
        "id": "f0z8x2VA4bnS",
        "outputId": "8a230aed-1ced-45f1-e257-84482522bf6b"
      },
      "source": [
        "!pip install catboost"
      ],
      "execution_count": 110,
      "outputs": [
        {
          "output_type": "stream",
          "name": "stdout",
          "text": [
            "Collecting catboost\n",
            "  Downloading catboost-1.0.3-cp37-none-manylinux1_x86_64.whl (76.3 MB)\n",
            "\u001b[K     |████████████████████████████████| 76.3 MB 47 kB/s \n",
            "\u001b[?25hRequirement already satisfied: six in /usr/local/lib/python3.7/dist-packages (from catboost) (1.15.0)\n",
            "Requirement already satisfied: scipy in /usr/local/lib/python3.7/dist-packages (from catboost) (1.4.1)\n",
            "Requirement already satisfied: numpy>=1.16.0 in /usr/local/lib/python3.7/dist-packages (from catboost) (1.19.5)\n",
            "Requirement already satisfied: pandas>=0.24.0 in /usr/local/lib/python3.7/dist-packages (from catboost) (1.1.5)\n",
            "Requirement already satisfied: plotly in /usr/local/lib/python3.7/dist-packages (from catboost) (4.4.1)\n",
            "Requirement already satisfied: graphviz in /usr/local/lib/python3.7/dist-packages (from catboost) (0.10.1)\n",
            "Requirement already satisfied: matplotlib in /usr/local/lib/python3.7/dist-packages (from catboost) (3.2.2)\n",
            "Requirement already satisfied: python-dateutil>=2.7.3 in /usr/local/lib/python3.7/dist-packages (from pandas>=0.24.0->catboost) (2.8.2)\n",
            "Requirement already satisfied: pytz>=2017.2 in /usr/local/lib/python3.7/dist-packages (from pandas>=0.24.0->catboost) (2018.9)\n",
            "Requirement already satisfied: cycler>=0.10 in /usr/local/lib/python3.7/dist-packages (from matplotlib->catboost) (0.11.0)\n",
            "Requirement already satisfied: pyparsing!=2.0.4,!=2.1.2,!=2.1.6,>=2.0.1 in /usr/local/lib/python3.7/dist-packages (from matplotlib->catboost) (3.0.6)\n",
            "Requirement already satisfied: kiwisolver>=1.0.1 in /usr/local/lib/python3.7/dist-packages (from matplotlib->catboost) (1.3.2)\n",
            "Requirement already satisfied: retrying>=1.3.3 in /usr/local/lib/python3.7/dist-packages (from plotly->catboost) (1.3.3)\n",
            "Installing collected packages: catboost\n",
            "Successfully installed catboost-1.0.3\n"
          ]
        }
      ]
    },
    {
      "cell_type": "code",
      "metadata": {
        "id": "WplOTnaf1B2B"
      },
      "source": [
        "from sklearn.model_selection import train_test_split\n",
        "from catboost import CatBoostClassifier\n",
        "\n",
        "cat_features = [0]\n",
        "# X_train, X_test, y_train, y_test = train_test_split(df['text'].values, df['target'].values, test_size = 0.1)\n",
        "X_train = df.loc[train_ids, 'text']\n",
        "X_test = df.loc[val_ids, 'text']\n",
        "y_train = df.loc[train_ids, 'target']\n",
        "y_test = df.loc[val_ids, 'target']\n",
        "\n",
        "cb = CatBoostClassifier(num_trees = 600, task_type = 'GPU', eval_metric = 'F1', eta = 0.12, l2_leaf_reg = 5, max_depth = 8)"
      ],
      "execution_count": 112,
      "outputs": []
    },
    {
      "cell_type": "code",
      "metadata": {
        "colab": {
          "base_uri": "https://localhost:8080/"
        },
        "id": "lkwdPmH14ikv",
        "outputId": "a42e94a3-f95c-450b-943d-ee73c4384990"
      },
      "source": [
        "cb.fit(X_train, y_train, cat_features)"
      ],
      "execution_count": 113,
      "outputs": [
        {
          "output_type": "stream",
          "name": "stderr",
          "text": [
            "Warning: less than 75% gpu memory available for training. Free: 3788.8125 Total: 11441.1875\n"
          ]
        },
        {
          "output_type": "stream",
          "name": "stdout",
          "text": [
            "0:\tlearn: 0.8266434\ttotal: 139ms\tremaining: 1m 23s\n",
            "1:\tlearn: 0.8253738\ttotal: 177ms\tremaining: 53s\n",
            "2:\tlearn: 0.8251850\ttotal: 258ms\tremaining: 51.4s\n",
            "3:\tlearn: 0.8256321\ttotal: 388ms\tremaining: 57.8s\n",
            "4:\tlearn: 0.8260049\ttotal: 433ms\tremaining: 51.5s\n",
            "5:\tlearn: 0.8261122\ttotal: 490ms\tremaining: 48.5s\n",
            "6:\tlearn: 0.8260617\ttotal: 530ms\tremaining: 44.9s\n",
            "7:\tlearn: 0.8262829\ttotal: 642ms\tremaining: 47.5s\n",
            "8:\tlearn: 0.8272053\ttotal: 710ms\tremaining: 46.6s\n",
            "9:\tlearn: 0.8272556\ttotal: 751ms\tremaining: 44.3s\n",
            "10:\tlearn: 0.8272859\ttotal: 781ms\tremaining: 41.8s\n",
            "11:\tlearn: 0.8272859\ttotal: 900ms\tremaining: 44.1s\n",
            "12:\tlearn: 0.8268059\ttotal: 937ms\tremaining: 42.3s\n",
            "13:\tlearn: 0.8272859\ttotal: 976ms\tremaining: 40.9s\n",
            "14:\tlearn: 0.8275461\ttotal: 1.07s\tremaining: 41.9s\n",
            "15:\tlearn: 0.8274458\ttotal: 1.18s\tremaining: 43.1s\n",
            "16:\tlearn: 0.8274458\ttotal: 1.22s\tremaining: 41.7s\n",
            "17:\tlearn: 0.8268951\ttotal: 1.26s\tremaining: 40.6s\n",
            "18:\tlearn: 0.8269650\ttotal: 1.35s\tremaining: 41.4s\n",
            "19:\tlearn: 0.8268449\ttotal: 1.4s\tremaining: 40.7s\n",
            "20:\tlearn: 0.8270655\ttotal: 1.5s\tremaining: 41.3s\n",
            "21:\tlearn: 0.8270655\ttotal: 1.53s\tremaining: 40.2s\n",
            "22:\tlearn: 0.8270655\ttotal: 1.56s\tremaining: 39.3s\n",
            "23:\tlearn: 0.8270655\ttotal: 1.6s\tremaining: 38.5s\n",
            "24:\tlearn: 0.8270655\ttotal: 1.64s\tremaining: 37.8s\n",
            "25:\tlearn: 0.8275461\ttotal: 1.74s\tremaining: 38.4s\n",
            "26:\tlearn: 0.8274960\ttotal: 1.77s\tremaining: 37.7s\n",
            "27:\tlearn: 0.8274960\ttotal: 1.83s\tremaining: 37.3s\n",
            "28:\tlearn: 0.8277665\ttotal: 1.87s\tremaining: 36.8s\n",
            "29:\tlearn: 0.8277665\ttotal: 1.91s\tremaining: 36.2s\n",
            "30:\tlearn: 0.8272251\ttotal: 1.97s\tremaining: 36.1s\n",
            "31:\tlearn: 0.8272754\ttotal: 2.04s\tremaining: 36.1s\n",
            "32:\tlearn: 0.8274458\ttotal: 2.13s\tremaining: 36.6s\n",
            "33:\tlearn: 0.8274458\ttotal: 2.16s\tremaining: 36s\n",
            "34:\tlearn: 0.8274458\ttotal: 2.19s\tremaining: 35.4s\n",
            "35:\tlearn: 0.8274458\ttotal: 2.23s\tremaining: 35s\n",
            "36:\tlearn: 0.8274458\ttotal: 2.27s\tremaining: 34.5s\n",
            "37:\tlearn: 0.8274458\ttotal: 2.3s\tremaining: 34.1s\n",
            "38:\tlearn: 0.8274458\ttotal: 2.35s\tremaining: 33.8s\n",
            "39:\tlearn: 0.8275662\ttotal: 2.41s\tremaining: 33.8s\n",
            "40:\tlearn: 0.8275662\ttotal: 2.51s\tremaining: 34.2s\n",
            "41:\tlearn: 0.8275662\ttotal: 2.54s\tremaining: 33.7s\n",
            "42:\tlearn: 0.8275662\ttotal: 2.57s\tremaining: 33.3s\n",
            "43:\tlearn: 0.8275662\ttotal: 2.6s\tremaining: 32.9s\n",
            "44:\tlearn: 0.8275662\ttotal: 2.65s\tremaining: 32.7s\n",
            "45:\tlearn: 0.8275662\ttotal: 2.69s\tremaining: 32.4s\n",
            "46:\tlearn: 0.8275662\ttotal: 2.73s\tremaining: 32.1s\n",
            "47:\tlearn: 0.8275662\ttotal: 2.76s\tremaining: 31.8s\n",
            "48:\tlearn: 0.8275662\ttotal: 2.83s\tremaining: 31.8s\n",
            "49:\tlearn: 0.8275662\ttotal: 2.87s\tremaining: 31.6s\n",
            "50:\tlearn: 0.8275662\ttotal: 2.9s\tremaining: 31.2s\n",
            "51:\tlearn: 0.8275662\ttotal: 2.94s\tremaining: 31s\n",
            "52:\tlearn: 0.8274458\ttotal: 2.97s\tremaining: 30.7s\n",
            "53:\tlearn: 0.8275662\ttotal: 3.01s\tremaining: 30.4s\n",
            "54:\tlearn: 0.8274458\ttotal: 3.1s\tremaining: 30.8s\n",
            "55:\tlearn: 0.8274458\ttotal: 3.2s\tremaining: 31.1s\n",
            "56:\tlearn: 0.8274458\ttotal: 3.24s\tremaining: 30.9s\n",
            "57:\tlearn: 0.8274458\ttotal: 3.27s\tremaining: 30.6s\n",
            "58:\tlearn: 0.8274458\ttotal: 3.32s\tremaining: 30.4s\n",
            "59:\tlearn: 0.8274458\ttotal: 3.38s\tremaining: 30.5s\n",
            "60:\tlearn: 0.8276163\ttotal: 3.48s\tremaining: 30.8s\n",
            "61:\tlearn: 0.8276163\ttotal: 3.51s\tremaining: 30.5s\n",
            "62:\tlearn: 0.8280977\ttotal: 3.61s\tremaining: 30.7s\n",
            "63:\tlearn: 0.8280977\ttotal: 3.65s\tremaining: 30.6s\n",
            "64:\tlearn: 0.8282182\ttotal: 3.75s\tremaining: 30.8s\n",
            "65:\tlearn: 0.8282182\ttotal: 3.84s\tremaining: 31.1s\n",
            "66:\tlearn: 0.8282182\ttotal: 3.88s\tremaining: 30.8s\n",
            "67:\tlearn: 0.8282182\ttotal: 3.97s\tremaining: 31.1s\n",
            "68:\tlearn: 0.8282182\ttotal: 4s\tremaining: 30.8s\n",
            "69:\tlearn: 0.8280977\ttotal: 4.1s\tremaining: 31s\n",
            "70:\tlearn: 0.8280977\ttotal: 4.13s\tremaining: 30.8s\n",
            "71:\tlearn: 0.8280977\ttotal: 4.17s\tremaining: 30.5s\n",
            "72:\tlearn: 0.8280977\ttotal: 4.2s\tremaining: 30.3s\n",
            "73:\tlearn: 0.8280977\ttotal: 4.25s\tremaining: 30.2s\n",
            "74:\tlearn: 0.8280977\ttotal: 4.28s\tremaining: 30s\n",
            "75:\tlearn: 0.8280977\ttotal: 4.31s\tremaining: 29.7s\n",
            "76:\tlearn: 0.8280977\ttotal: 4.35s\tremaining: 29.5s\n",
            "77:\tlearn: 0.8280977\ttotal: 4.38s\tremaining: 29.3s\n",
            "78:\tlearn: 0.8280977\ttotal: 4.48s\tremaining: 29.6s\n",
            "79:\tlearn: 0.8280977\ttotal: 4.51s\tremaining: 29.3s\n",
            "80:\tlearn: 0.8280977\ttotal: 4.55s\tremaining: 29.2s\n",
            "81:\tlearn: 0.8280977\ttotal: 4.6s\tremaining: 29s\n",
            "82:\tlearn: 0.8280977\ttotal: 4.63s\tremaining: 28.9s\n",
            "83:\tlearn: 0.8280977\ttotal: 4.73s\tremaining: 29.1s\n",
            "84:\tlearn: 0.8280977\ttotal: 4.82s\tremaining: 29.2s\n",
            "85:\tlearn: 0.8280977\ttotal: 4.9s\tremaining: 29.3s\n",
            "86:\tlearn: 0.8280977\ttotal: 5s\tremaining: 29.5s\n",
            "87:\tlearn: 0.8280977\ttotal: 5.03s\tremaining: 29.2s\n",
            "88:\tlearn: 0.8280977\ttotal: 5.06s\tremaining: 29s\n",
            "89:\tlearn: 0.8280977\ttotal: 5.1s\tremaining: 28.9s\n",
            "90:\tlearn: 0.8280977\ttotal: 5.16s\tremaining: 28.9s\n",
            "91:\tlearn: 0.8280977\ttotal: 5.2s\tremaining: 28.7s\n",
            "92:\tlearn: 0.8280977\ttotal: 5.23s\tremaining: 28.5s\n",
            "93:\tlearn: 0.8279273\ttotal: 5.27s\tremaining: 28.4s\n",
            "94:\tlearn: 0.8279273\ttotal: 5.3s\tremaining: 28.2s\n",
            "95:\tlearn: 0.8280977\ttotal: 5.4s\tremaining: 28.3s\n",
            "96:\tlearn: 0.8280977\ttotal: 5.43s\tremaining: 28.2s\n",
            "97:\tlearn: 0.8280977\ttotal: 5.47s\tremaining: 28s\n",
            "98:\tlearn: 0.8278772\ttotal: 5.51s\tremaining: 27.9s\n",
            "99:\tlearn: 0.8278772\ttotal: 5.54s\tremaining: 27.7s\n",
            "100:\tlearn: 0.8278772\ttotal: 5.57s\tremaining: 27.5s\n",
            "101:\tlearn: 0.8278772\ttotal: 5.61s\tremaining: 27.4s\n",
            "102:\tlearn: 0.8278772\ttotal: 5.72s\tremaining: 27.6s\n",
            "103:\tlearn: 0.8278772\ttotal: 5.75s\tremaining: 27.4s\n",
            "104:\tlearn: 0.8278772\ttotal: 5.79s\tremaining: 27.3s\n",
            "105:\tlearn: 0.8278772\ttotal: 5.86s\tremaining: 27.3s\n",
            "106:\tlearn: 0.8278772\ttotal: 5.9s\tremaining: 27.2s\n",
            "107:\tlearn: 0.8278772\ttotal: 5.99s\tremaining: 27.3s\n",
            "108:\tlearn: 0.8278772\ttotal: 6.04s\tremaining: 27.2s\n",
            "109:\tlearn: 0.8278772\ttotal: 6.08s\tremaining: 27.1s\n",
            "110:\tlearn: 0.8282182\ttotal: 6.17s\tremaining: 27.2s\n",
            "111:\tlearn: 0.8280477\ttotal: 6.26s\tremaining: 27.3s\n",
            "112:\tlearn: 0.8280477\ttotal: 6.3s\tremaining: 27.1s\n",
            "113:\tlearn: 0.8280977\ttotal: 6.33s\tremaining: 27s\n",
            "114:\tlearn: 0.8280977\ttotal: 6.43s\tremaining: 27.1s\n",
            "115:\tlearn: 0.8282681\ttotal: 6.53s\tremaining: 27.2s\n",
            "116:\tlearn: 0.8282681\ttotal: 6.56s\tremaining: 27.1s\n",
            "117:\tlearn: 0.8282681\ttotal: 6.66s\tremaining: 27.2s\n",
            "118:\tlearn: 0.8282681\ttotal: 6.69s\tremaining: 27s\n",
            "119:\tlearn: 0.8282681\ttotal: 6.74s\tremaining: 27s\n",
            "120:\tlearn: 0.8282681\ttotal: 6.77s\tremaining: 26.8s\n",
            "121:\tlearn: 0.8282681\ttotal: 6.81s\tremaining: 26.7s\n",
            "122:\tlearn: 0.8282681\ttotal: 6.84s\tremaining: 26.5s\n",
            "123:\tlearn: 0.8279273\ttotal: 6.95s\tremaining: 26.7s\n",
            "124:\tlearn: 0.8279273\ttotal: 6.98s\tremaining: 26.5s\n",
            "125:\tlearn: 0.8279273\ttotal: 7.04s\tremaining: 26.5s\n",
            "126:\tlearn: 0.8279273\ttotal: 7.09s\tremaining: 26.4s\n",
            "127:\tlearn: 0.8279273\ttotal: 7.18s\tremaining: 26.5s\n",
            "128:\tlearn: 0.8279273\ttotal: 7.22s\tremaining: 26.4s\n",
            "129:\tlearn: 0.8279273\ttotal: 7.28s\tremaining: 26.3s\n",
            "130:\tlearn: 0.8279273\ttotal: 7.31s\tremaining: 26.2s\n",
            "131:\tlearn: 0.8279273\ttotal: 7.35s\tremaining: 26s\n",
            "132:\tlearn: 0.8279273\ttotal: 7.38s\tremaining: 25.9s\n",
            "133:\tlearn: 0.8279273\ttotal: 7.42s\tremaining: 25.8s\n",
            "134:\tlearn: 0.8279273\ttotal: 7.45s\tremaining: 25.7s\n",
            "135:\tlearn: 0.8280977\ttotal: 7.54s\tremaining: 25.7s\n",
            "136:\tlearn: 0.8280977\ttotal: 7.57s\tremaining: 25.6s\n",
            "137:\tlearn: 0.8280977\ttotal: 7.61s\tremaining: 25.5s\n",
            "138:\tlearn: 0.8280977\ttotal: 7.68s\tremaining: 25.5s\n",
            "139:\tlearn: 0.8280977\ttotal: 7.71s\tremaining: 25.3s\n",
            "140:\tlearn: 0.8280977\ttotal: 7.74s\tremaining: 25.2s\n",
            "141:\tlearn: 0.8280977\ttotal: 7.76s\tremaining: 25s\n",
            "142:\tlearn: 0.8280977\ttotal: 7.87s\tremaining: 25.1s\n",
            "143:\tlearn: 0.8280977\ttotal: 7.91s\tremaining: 25s\n",
            "144:\tlearn: 0.8280977\ttotal: 7.94s\tremaining: 24.9s\n",
            "145:\tlearn: 0.8280977\ttotal: 7.97s\tremaining: 24.8s\n",
            "146:\tlearn: 0.8280977\ttotal: 8s\tremaining: 24.6s\n",
            "147:\tlearn: 0.8280977\ttotal: 8.09s\tremaining: 24.7s\n",
            "148:\tlearn: 0.8280977\ttotal: 8.13s\tremaining: 24.6s\n",
            "149:\tlearn: 0.8280977\ttotal: 8.16s\tremaining: 24.5s\n",
            "150:\tlearn: 0.8280977\ttotal: 8.19s\tremaining: 24.4s\n",
            "151:\tlearn: 0.8280977\ttotal: 8.23s\tremaining: 24.3s\n",
            "152:\tlearn: 0.8280977\ttotal: 8.26s\tremaining: 24.1s\n",
            "153:\tlearn: 0.8280977\ttotal: 8.36s\tremaining: 24.2s\n",
            "154:\tlearn: 0.8280977\ttotal: 8.39s\tremaining: 24.1s\n",
            "155:\tlearn: 0.8280977\ttotal: 8.48s\tremaining: 24.1s\n",
            "156:\tlearn: 0.8280977\ttotal: 8.58s\tremaining: 24.2s\n",
            "157:\tlearn: 0.8280977\ttotal: 8.61s\tremaining: 24.1s\n",
            "158:\tlearn: 0.8280977\ttotal: 8.64s\tremaining: 24s\n",
            "159:\tlearn: 0.8280977\ttotal: 8.7s\tremaining: 23.9s\n",
            "160:\tlearn: 0.8281477\ttotal: 8.74s\tremaining: 23.8s\n",
            "161:\tlearn: 0.8281477\ttotal: 8.79s\tremaining: 23.8s\n",
            "162:\tlearn: 0.8281477\ttotal: 8.81s\tremaining: 23.6s\n",
            "163:\tlearn: 0.8281477\ttotal: 8.92s\tremaining: 23.7s\n",
            "164:\tlearn: 0.8281477\ttotal: 8.95s\tremaining: 23.6s\n",
            "165:\tlearn: 0.8281477\ttotal: 9.05s\tremaining: 23.7s\n",
            "166:\tlearn: 0.8281477\ttotal: 9.08s\tremaining: 23.5s\n",
            "167:\tlearn: 0.8281477\ttotal: 9.11s\tremaining: 23.4s\n",
            "168:\tlearn: 0.8281477\ttotal: 9.17s\tremaining: 23.4s\n",
            "169:\tlearn: 0.8281477\ttotal: 9.2s\tremaining: 23.3s\n",
            "170:\tlearn: 0.8281477\ttotal: 9.23s\tremaining: 23.2s\n",
            "171:\tlearn: 0.8281477\ttotal: 9.31s\tremaining: 23.2s\n",
            "172:\tlearn: 0.8283181\ttotal: 9.41s\tremaining: 23.2s\n",
            "173:\tlearn: 0.8283181\ttotal: 9.44s\tremaining: 23.1s\n",
            "174:\tlearn: 0.8283181\ttotal: 9.48s\tremaining: 23s\n",
            "175:\tlearn: 0.8283181\ttotal: 9.6s\tremaining: 23.1s\n",
            "176:\tlearn: 0.8283181\ttotal: 9.63s\tremaining: 23s\n",
            "177:\tlearn: 0.8283181\ttotal: 9.66s\tremaining: 22.9s\n",
            "178:\tlearn: 0.8283181\ttotal: 9.68s\tremaining: 22.8s\n",
            "179:\tlearn: 0.8283181\ttotal: 9.71s\tremaining: 22.7s\n",
            "180:\tlearn: 0.8283181\ttotal: 9.74s\tremaining: 22.6s\n",
            "181:\tlearn: 0.8283181\ttotal: 9.78s\tremaining: 22.5s\n",
            "182:\tlearn: 0.8283181\ttotal: 9.82s\tremaining: 22.4s\n",
            "183:\tlearn: 0.8281477\ttotal: 9.91s\tremaining: 22.4s\n",
            "184:\tlearn: 0.8282681\ttotal: 10s\tremaining: 22.5s\n",
            "185:\tlearn: 0.8282681\ttotal: 10.1s\tremaining: 22.4s\n",
            "186:\tlearn: 0.8282681\ttotal: 10.1s\tremaining: 22.3s\n",
            "187:\tlearn: 0.8282681\ttotal: 10.1s\tremaining: 22.2s\n",
            "188:\tlearn: 0.8282681\ttotal: 10.2s\tremaining: 22.1s\n",
            "189:\tlearn: 0.8282681\ttotal: 10.3s\tremaining: 22.1s\n",
            "190:\tlearn: 0.8282681\ttotal: 10.3s\tremaining: 22.1s\n",
            "191:\tlearn: 0.8282681\ttotal: 10.4s\tremaining: 22s\n",
            "192:\tlearn: 0.8282681\ttotal: 10.4s\tremaining: 21.9s\n",
            "193:\tlearn: 0.8282182\ttotal: 10.4s\tremaining: 21.8s\n",
            "194:\tlearn: 0.8282182\ttotal: 10.5s\tremaining: 21.7s\n",
            "195:\tlearn: 0.8282182\ttotal: 10.5s\tremaining: 21.7s\n",
            "196:\tlearn: 0.8282182\ttotal: 10.6s\tremaining: 21.7s\n",
            "197:\tlearn: 0.8282182\ttotal: 10.6s\tremaining: 21.6s\n",
            "198:\tlearn: 0.8282182\ttotal: 10.7s\tremaining: 21.5s\n",
            "199:\tlearn: 0.8282182\ttotal: 10.7s\tremaining: 21.4s\n",
            "200:\tlearn: 0.8282182\ttotal: 10.7s\tremaining: 21.3s\n",
            "201:\tlearn: 0.8282182\ttotal: 10.8s\tremaining: 21.3s\n",
            "202:\tlearn: 0.8282182\ttotal: 10.8s\tremaining: 21.2s\n",
            "203:\tlearn: 0.8282182\ttotal: 10.9s\tremaining: 21.1s\n",
            "204:\tlearn: 0.8282182\ttotal: 11s\tremaining: 21.1s\n",
            "205:\tlearn: 0.8282182\ttotal: 11.1s\tremaining: 21.2s\n",
            "206:\tlearn: 0.8282182\ttotal: 11.1s\tremaining: 21.1s\n",
            "207:\tlearn: 0.8282182\ttotal: 11.1s\tremaining: 21s\n",
            "208:\tlearn: 0.8282182\ttotal: 11.2s\tremaining: 21s\n",
            "209:\tlearn: 0.8282182\ttotal: 11.3s\tremaining: 20.9s\n",
            "210:\tlearn: 0.8282182\ttotal: 11.3s\tremaining: 20.8s\n",
            "211:\tlearn: 0.8282182\ttotal: 11.3s\tremaining: 20.7s\n",
            "212:\tlearn: 0.8282182\ttotal: 11.4s\tremaining: 20.6s\n",
            "213:\tlearn: 0.8282182\ttotal: 11.4s\tremaining: 20.7s\n",
            "214:\tlearn: 0.8282182\ttotal: 11.5s\tremaining: 20.6s\n",
            "215:\tlearn: 0.8282182\ttotal: 11.6s\tremaining: 20.6s\n",
            "216:\tlearn: 0.8282182\ttotal: 11.6s\tremaining: 20.5s\n",
            "217:\tlearn: 0.8282182\ttotal: 11.6s\tremaining: 20.4s\n",
            "218:\tlearn: 0.8282182\ttotal: 11.7s\tremaining: 20.4s\n",
            "219:\tlearn: 0.8282182\ttotal: 11.8s\tremaining: 20.3s\n",
            "220:\tlearn: 0.8282182\ttotal: 11.8s\tremaining: 20.2s\n",
            "221:\tlearn: 0.8282182\ttotal: 11.8s\tremaining: 20.2s\n",
            "222:\tlearn: 0.8282182\ttotal: 11.9s\tremaining: 20.1s\n",
            "223:\tlearn: 0.8282182\ttotal: 11.9s\tremaining: 20s\n",
            "224:\tlearn: 0.8282182\ttotal: 11.9s\tremaining: 19.9s\n",
            "225:\tlearn: 0.8282182\ttotal: 12s\tremaining: 19.8s\n",
            "226:\tlearn: 0.8282182\ttotal: 12s\tremaining: 19.7s\n",
            "227:\tlearn: 0.8282182\ttotal: 12s\tremaining: 19.6s\n",
            "228:\tlearn: 0.8282182\ttotal: 12.1s\tremaining: 19.6s\n",
            "229:\tlearn: 0.8282182\ttotal: 12.1s\tremaining: 19.5s\n",
            "230:\tlearn: 0.8282182\ttotal: 12.2s\tremaining: 19.4s\n",
            "231:\tlearn: 0.8282182\ttotal: 12.2s\tremaining: 19.4s\n",
            "232:\tlearn: 0.8282182\ttotal: 12.3s\tremaining: 19.3s\n",
            "233:\tlearn: 0.8282182\ttotal: 12.3s\tremaining: 19.2s\n",
            "234:\tlearn: 0.8282182\ttotal: 12.3s\tremaining: 19.1s\n",
            "235:\tlearn: 0.8282182\ttotal: 12.4s\tremaining: 19.1s\n",
            "236:\tlearn: 0.8282182\ttotal: 12.4s\tremaining: 19s\n",
            "237:\tlearn: 0.8282182\ttotal: 12.4s\tremaining: 18.9s\n",
            "238:\tlearn: 0.8282182\ttotal: 12.5s\tremaining: 18.8s\n",
            "239:\tlearn: 0.8282182\ttotal: 12.5s\tremaining: 18.7s\n",
            "240:\tlearn: 0.8282182\ttotal: 12.5s\tremaining: 18.6s\n",
            "241:\tlearn: 0.8282182\ttotal: 12.6s\tremaining: 18.7s\n",
            "242:\tlearn: 0.8282182\ttotal: 12.7s\tremaining: 18.6s\n",
            "243:\tlearn: 0.8282182\ttotal: 12.7s\tremaining: 18.5s\n",
            "244:\tlearn: 0.8282182\ttotal: 12.7s\tremaining: 18.4s\n",
            "245:\tlearn: 0.8282182\ttotal: 12.8s\tremaining: 18.4s\n",
            "246:\tlearn: 0.8282182\ttotal: 12.8s\tremaining: 18.3s\n",
            "247:\tlearn: 0.8282182\ttotal: 12.8s\tremaining: 18.2s\n",
            "248:\tlearn: 0.8282182\ttotal: 12.9s\tremaining: 18.2s\n",
            "249:\tlearn: 0.8282182\ttotal: 13s\tremaining: 18.1s\n",
            "250:\tlearn: 0.8282182\ttotal: 13s\tremaining: 18.1s\n",
            "251:\tlearn: 0.8282182\ttotal: 13.1s\tremaining: 18s\n",
            "252:\tlearn: 0.8282182\ttotal: 13.1s\tremaining: 18s\n",
            "253:\tlearn: 0.8282182\ttotal: 13.1s\tremaining: 17.9s\n",
            "254:\tlearn: 0.8282182\ttotal: 13.2s\tremaining: 17.8s\n",
            "255:\tlearn: 0.8282182\ttotal: 13.2s\tremaining: 17.7s\n",
            "256:\tlearn: 0.8282182\ttotal: 13.2s\tremaining: 17.7s\n",
            "257:\tlearn: 0.8282182\ttotal: 13.3s\tremaining: 17.6s\n",
            "258:\tlearn: 0.8282182\ttotal: 13.3s\tremaining: 17.5s\n",
            "259:\tlearn: 0.8282182\ttotal: 13.3s\tremaining: 17.4s\n",
            "260:\tlearn: 0.8282182\ttotal: 13.4s\tremaining: 17.4s\n",
            "261:\tlearn: 0.8282182\ttotal: 13.4s\tremaining: 17.3s\n",
            "262:\tlearn: 0.8282182\ttotal: 13.4s\tremaining: 17.2s\n",
            "263:\tlearn: 0.8282182\ttotal: 13.5s\tremaining: 17.2s\n",
            "264:\tlearn: 0.8282182\ttotal: 13.6s\tremaining: 17.2s\n",
            "265:\tlearn: 0.8282182\ttotal: 13.6s\tremaining: 17.1s\n",
            "266:\tlearn: 0.8282182\ttotal: 13.7s\tremaining: 17.1s\n",
            "267:\tlearn: 0.8282182\ttotal: 13.7s\tremaining: 17s\n",
            "268:\tlearn: 0.8280977\ttotal: 13.8s\tremaining: 17s\n",
            "269:\tlearn: 0.8280977\ttotal: 13.8s\tremaining: 16.9s\n",
            "270:\tlearn: 0.8280977\ttotal: 13.9s\tremaining: 16.8s\n",
            "271:\tlearn: 0.8282182\ttotal: 14s\tremaining: 16.8s\n",
            "272:\tlearn: 0.8282182\ttotal: 14s\tremaining: 16.8s\n",
            "273:\tlearn: 0.8282182\ttotal: 14s\tremaining: 16.7s\n",
            "274:\tlearn: 0.8282182\ttotal: 14.1s\tremaining: 16.6s\n",
            "275:\tlearn: 0.8282182\ttotal: 14.1s\tremaining: 16.6s\n",
            "276:\tlearn: 0.8282182\ttotal: 14.2s\tremaining: 16.5s\n",
            "277:\tlearn: 0.8282182\ttotal: 14.2s\tremaining: 16.5s\n",
            "278:\tlearn: 0.8282182\ttotal: 14.3s\tremaining: 16.4s\n",
            "279:\tlearn: 0.8282182\ttotal: 14.3s\tremaining: 16.3s\n",
            "280:\tlearn: 0.8282182\ttotal: 14.3s\tremaining: 16.3s\n",
            "281:\tlearn: 0.8282182\ttotal: 14.4s\tremaining: 16.2s\n",
            "282:\tlearn: 0.8282182\ttotal: 14.4s\tremaining: 16.1s\n",
            "283:\tlearn: 0.8282182\ttotal: 14.5s\tremaining: 16.1s\n",
            "284:\tlearn: 0.8282182\ttotal: 14.5s\tremaining: 16s\n",
            "285:\tlearn: 0.8282182\ttotal: 14.5s\tremaining: 15.9s\n",
            "286:\tlearn: 0.8282182\ttotal: 14.6s\tremaining: 15.9s\n",
            "287:\tlearn: 0.8282182\ttotal: 14.6s\tremaining: 15.8s\n",
            "288:\tlearn: 0.8282182\ttotal: 14.6s\tremaining: 15.7s\n",
            "289:\tlearn: 0.8282182\ttotal: 14.6s\tremaining: 15.7s\n",
            "290:\tlearn: 0.8282182\ttotal: 14.7s\tremaining: 15.6s\n",
            "291:\tlearn: 0.8282182\ttotal: 14.7s\tremaining: 15.5s\n",
            "292:\tlearn: 0.8282182\ttotal: 14.8s\tremaining: 15.5s\n",
            "293:\tlearn: 0.8282182\ttotal: 14.8s\tremaining: 15.4s\n",
            "294:\tlearn: 0.8282182\ttotal: 14.8s\tremaining: 15.3s\n",
            "295:\tlearn: 0.8282182\ttotal: 14.9s\tremaining: 15.3s\n",
            "296:\tlearn: 0.8282182\ttotal: 14.9s\tremaining: 15.2s\n",
            "297:\tlearn: 0.8282182\ttotal: 15s\tremaining: 15.2s\n",
            "298:\tlearn: 0.8282182\ttotal: 15s\tremaining: 15.1s\n",
            "299:\tlearn: 0.8282182\ttotal: 15s\tremaining: 15s\n",
            "300:\tlearn: 0.8282182\ttotal: 15.1s\tremaining: 15s\n",
            "301:\tlearn: 0.8282182\ttotal: 15.1s\tremaining: 14.9s\n",
            "302:\tlearn: 0.8282182\ttotal: 15.1s\tremaining: 14.8s\n",
            "303:\tlearn: 0.8282182\ttotal: 15.2s\tremaining: 14.8s\n",
            "304:\tlearn: 0.8282182\ttotal: 15.2s\tremaining: 14.7s\n",
            "305:\tlearn: 0.8282182\ttotal: 15.2s\tremaining: 14.6s\n",
            "306:\tlearn: 0.8282182\ttotal: 15.3s\tremaining: 14.6s\n",
            "307:\tlearn: 0.8282182\ttotal: 15.3s\tremaining: 14.5s\n",
            "308:\tlearn: 0.8282182\ttotal: 15.3s\tremaining: 14.4s\n",
            "309:\tlearn: 0.8282182\ttotal: 15.4s\tremaining: 14.4s\n",
            "310:\tlearn: 0.8282182\ttotal: 15.5s\tremaining: 14.4s\n",
            "311:\tlearn: 0.8282182\ttotal: 15.5s\tremaining: 14.3s\n",
            "312:\tlearn: 0.8282182\ttotal: 15.5s\tremaining: 14.2s\n",
            "313:\tlearn: 0.8282182\ttotal: 15.6s\tremaining: 14.2s\n",
            "314:\tlearn: 0.8282182\ttotal: 15.6s\tremaining: 14.1s\n",
            "315:\tlearn: 0.8282182\ttotal: 15.7s\tremaining: 14.1s\n",
            "316:\tlearn: 0.8282182\ttotal: 15.7s\tremaining: 14s\n",
            "317:\tlearn: 0.8282182\ttotal: 15.7s\tremaining: 13.9s\n",
            "318:\tlearn: 0.8282182\ttotal: 15.8s\tremaining: 13.9s\n",
            "319:\tlearn: 0.8282182\ttotal: 15.8s\tremaining: 13.8s\n",
            "320:\tlearn: 0.8282182\ttotal: 15.8s\tremaining: 13.8s\n",
            "321:\tlearn: 0.8282182\ttotal: 15.9s\tremaining: 13.8s\n",
            "322:\tlearn: 0.8282182\ttotal: 16s\tremaining: 13.7s\n",
            "323:\tlearn: 0.8282182\ttotal: 16s\tremaining: 13.6s\n",
            "324:\tlearn: 0.8282182\ttotal: 16.1s\tremaining: 13.6s\n",
            "325:\tlearn: 0.8282182\ttotal: 16.2s\tremaining: 13.6s\n",
            "326:\tlearn: 0.8282182\ttotal: 16.2s\tremaining: 13.5s\n",
            "327:\tlearn: 0.8282182\ttotal: 16.2s\tremaining: 13.5s\n",
            "328:\tlearn: 0.8282182\ttotal: 16.3s\tremaining: 13.4s\n",
            "329:\tlearn: 0.8282182\ttotal: 16.3s\tremaining: 13.3s\n",
            "330:\tlearn: 0.8282182\ttotal: 16.3s\tremaining: 13.3s\n",
            "331:\tlearn: 0.8282182\ttotal: 16.4s\tremaining: 13.2s\n",
            "332:\tlearn: 0.8282182\ttotal: 16.4s\tremaining: 13.2s\n",
            "333:\tlearn: 0.8282182\ttotal: 16.4s\tremaining: 13.1s\n",
            "334:\tlearn: 0.8282182\ttotal: 16.5s\tremaining: 13s\n",
            "335:\tlearn: 0.8282182\ttotal: 16.5s\tremaining: 13s\n",
            "336:\tlearn: 0.8282182\ttotal: 16.5s\tremaining: 12.9s\n",
            "337:\tlearn: 0.8282182\ttotal: 16.6s\tremaining: 12.8s\n",
            "338:\tlearn: 0.8282182\ttotal: 16.6s\tremaining: 12.8s\n",
            "339:\tlearn: 0.8282182\ttotal: 16.6s\tremaining: 12.7s\n",
            "340:\tlearn: 0.8282182\ttotal: 16.6s\tremaining: 12.6s\n",
            "341:\tlearn: 0.8282182\ttotal: 16.7s\tremaining: 12.6s\n",
            "342:\tlearn: 0.8282182\ttotal: 16.8s\tremaining: 12.6s\n",
            "343:\tlearn: 0.8282182\ttotal: 16.9s\tremaining: 12.6s\n",
            "344:\tlearn: 0.8282182\ttotal: 17s\tremaining: 12.5s\n",
            "345:\tlearn: 0.8282182\ttotal: 17s\tremaining: 12.5s\n",
            "346:\tlearn: 0.8282182\ttotal: 17.1s\tremaining: 12.5s\n",
            "347:\tlearn: 0.8282182\ttotal: 17.1s\tremaining: 12.4s\n",
            "348:\tlearn: 0.8282182\ttotal: 17.2s\tremaining: 12.3s\n",
            "349:\tlearn: 0.8282182\ttotal: 17.2s\tremaining: 12.3s\n",
            "350:\tlearn: 0.8282182\ttotal: 17.2s\tremaining: 12.2s\n",
            "351:\tlearn: 0.8282182\ttotal: 17.3s\tremaining: 12.2s\n",
            "352:\tlearn: 0.8282182\ttotal: 17.4s\tremaining: 12.2s\n",
            "353:\tlearn: 0.8282182\ttotal: 17.4s\tremaining: 12.1s\n",
            "354:\tlearn: 0.8282182\ttotal: 17.4s\tremaining: 12s\n",
            "355:\tlearn: 0.8282182\ttotal: 17.5s\tremaining: 12s\n",
            "356:\tlearn: 0.8282182\ttotal: 17.5s\tremaining: 11.9s\n",
            "357:\tlearn: 0.8282182\ttotal: 17.5s\tremaining: 11.9s\n",
            "358:\tlearn: 0.8282182\ttotal: 17.6s\tremaining: 11.8s\n",
            "359:\tlearn: 0.8282182\ttotal: 17.7s\tremaining: 11.8s\n",
            "360:\tlearn: 0.8282182\ttotal: 17.7s\tremaining: 11.7s\n",
            "361:\tlearn: 0.8282182\ttotal: 17.8s\tremaining: 11.7s\n",
            "362:\tlearn: 0.8282182\ttotal: 17.8s\tremaining: 11.6s\n",
            "363:\tlearn: 0.8282182\ttotal: 17.9s\tremaining: 11.6s\n",
            "364:\tlearn: 0.8282182\ttotal: 18s\tremaining: 11.6s\n",
            "365:\tlearn: 0.8282182\ttotal: 18s\tremaining: 11.5s\n",
            "366:\tlearn: 0.8282182\ttotal: 18.1s\tremaining: 11.5s\n",
            "367:\tlearn: 0.8282182\ttotal: 18.1s\tremaining: 11.4s\n",
            "368:\tlearn: 0.8282182\ttotal: 18.2s\tremaining: 11.4s\n",
            "369:\tlearn: 0.8282182\ttotal: 18.3s\tremaining: 11.4s\n",
            "370:\tlearn: 0.8282182\ttotal: 18.4s\tremaining: 11.3s\n",
            "371:\tlearn: 0.8282182\ttotal: 18.4s\tremaining: 11.3s\n",
            "372:\tlearn: 0.8282182\ttotal: 18.4s\tremaining: 11.2s\n",
            "373:\tlearn: 0.8282182\ttotal: 18.5s\tremaining: 11.2s\n",
            "374:\tlearn: 0.8282182\ttotal: 18.6s\tremaining: 11.1s\n",
            "375:\tlearn: 0.8282182\ttotal: 18.6s\tremaining: 11.1s\n",
            "376:\tlearn: 0.8282182\ttotal: 18.6s\tremaining: 11s\n",
            "377:\tlearn: 0.8282182\ttotal: 18.7s\tremaining: 11s\n",
            "378:\tlearn: 0.8282182\ttotal: 18.7s\tremaining: 10.9s\n",
            "379:\tlearn: 0.8282182\ttotal: 18.7s\tremaining: 10.8s\n",
            "380:\tlearn: 0.8282182\ttotal: 18.8s\tremaining: 10.8s\n",
            "381:\tlearn: 0.8282182\ttotal: 18.8s\tremaining: 10.7s\n",
            "382:\tlearn: 0.8282182\ttotal: 18.8s\tremaining: 10.7s\n",
            "383:\tlearn: 0.8282182\ttotal: 18.9s\tremaining: 10.6s\n",
            "384:\tlearn: 0.8283886\ttotal: 18.9s\tremaining: 10.6s\n",
            "385:\tlearn: 0.8283886\ttotal: 19s\tremaining: 10.5s\n",
            "386:\tlearn: 0.8283886\ttotal: 19.1s\tremaining: 10.5s\n",
            "387:\tlearn: 0.8283886\ttotal: 19.1s\tremaining: 10.4s\n",
            "388:\tlearn: 0.8283886\ttotal: 19.2s\tremaining: 10.4s\n",
            "389:\tlearn: 0.8283886\ttotal: 19.3s\tremaining: 10.4s\n",
            "390:\tlearn: 0.8283886\ttotal: 19.3s\tremaining: 10.3s\n",
            "391:\tlearn: 0.8283886\ttotal: 19.3s\tremaining: 10.3s\n",
            "392:\tlearn: 0.8283886\ttotal: 19.4s\tremaining: 10.2s\n",
            "393:\tlearn: 0.8283886\ttotal: 19.4s\tremaining: 10.1s\n",
            "394:\tlearn: 0.8283886\ttotal: 19.5s\tremaining: 10.1s\n",
            "395:\tlearn: 0.8283886\ttotal: 19.5s\tremaining: 10.1s\n",
            "396:\tlearn: 0.8283886\ttotal: 19.6s\tremaining: 10s\n",
            "397:\tlearn: 0.8283886\ttotal: 19.6s\tremaining: 9.97s\n",
            "398:\tlearn: 0.8283886\ttotal: 19.7s\tremaining: 9.91s\n",
            "399:\tlearn: 0.8283886\ttotal: 19.7s\tremaining: 9.86s\n",
            "400:\tlearn: 0.8283886\ttotal: 19.8s\tremaining: 9.81s\n",
            "401:\tlearn: 0.8283886\ttotal: 19.8s\tremaining: 9.76s\n",
            "402:\tlearn: 0.8283886\ttotal: 19.8s\tremaining: 9.7s\n",
            "403:\tlearn: 0.8283886\ttotal: 19.9s\tremaining: 9.64s\n",
            "404:\tlearn: 0.8283886\ttotal: 19.9s\tremaining: 9.59s\n",
            "405:\tlearn: 0.8283886\ttotal: 20s\tremaining: 9.54s\n",
            "406:\tlearn: 0.8283886\ttotal: 20.1s\tremaining: 9.51s\n",
            "407:\tlearn: 0.8283886\ttotal: 20.1s\tremaining: 9.46s\n",
            "408:\tlearn: 0.8283886\ttotal: 20.2s\tremaining: 9.43s\n",
            "409:\tlearn: 0.8283886\ttotal: 20.2s\tremaining: 9.37s\n",
            "410:\tlearn: 0.8283886\ttotal: 20.3s\tremaining: 9.32s\n",
            "411:\tlearn: 0.8283886\ttotal: 20.3s\tremaining: 9.27s\n",
            "412:\tlearn: 0.8283886\ttotal: 20.3s\tremaining: 9.21s\n",
            "413:\tlearn: 0.8283886\ttotal: 20.4s\tremaining: 9.18s\n",
            "414:\tlearn: 0.8283886\ttotal: 20.5s\tremaining: 9.13s\n",
            "415:\tlearn: 0.8283886\ttotal: 20.5s\tremaining: 9.07s\n",
            "416:\tlearn: 0.8283886\ttotal: 20.6s\tremaining: 9.05s\n",
            "417:\tlearn: 0.8283886\ttotal: 20.6s\tremaining: 8.99s\n",
            "418:\tlearn: 0.8283886\ttotal: 20.7s\tremaining: 8.93s\n",
            "419:\tlearn: 0.8283886\ttotal: 20.7s\tremaining: 8.88s\n",
            "420:\tlearn: 0.8283886\ttotal: 20.7s\tremaining: 8.82s\n",
            "421:\tlearn: 0.8283886\ttotal: 20.8s\tremaining: 8.76s\n",
            "422:\tlearn: 0.8283886\ttotal: 20.9s\tremaining: 8.73s\n",
            "423:\tlearn: 0.8283886\ttotal: 20.9s\tremaining: 8.68s\n",
            "424:\tlearn: 0.8283886\ttotal: 21s\tremaining: 8.64s\n",
            "425:\tlearn: 0.8283886\ttotal: 21.1s\tremaining: 8.61s\n",
            "426:\tlearn: 0.8283886\ttotal: 21.2s\tremaining: 8.57s\n",
            "427:\tlearn: 0.8283886\ttotal: 21.2s\tremaining: 8.52s\n",
            "428:\tlearn: 0.8283886\ttotal: 21.3s\tremaining: 8.47s\n",
            "429:\tlearn: 0.8283886\ttotal: 21.3s\tremaining: 8.42s\n",
            "430:\tlearn: 0.8283886\ttotal: 21.4s\tremaining: 8.39s\n",
            "431:\tlearn: 0.8283886\ttotal: 21.4s\tremaining: 8.33s\n",
            "432:\tlearn: 0.8283886\ttotal: 21.5s\tremaining: 8.28s\n",
            "433:\tlearn: 0.8283886\ttotal: 21.6s\tremaining: 8.25s\n",
            "434:\tlearn: 0.8283886\ttotal: 21.7s\tremaining: 8.21s\n",
            "435:\tlearn: 0.8283886\ttotal: 21.7s\tremaining: 8.17s\n",
            "436:\tlearn: 0.8283886\ttotal: 21.8s\tremaining: 8.12s\n",
            "437:\tlearn: 0.8283886\ttotal: 21.8s\tremaining: 8.06s\n",
            "438:\tlearn: 0.8283886\ttotal: 21.9s\tremaining: 8.03s\n",
            "439:\tlearn: 0.8283886\ttotal: 22s\tremaining: 7.99s\n",
            "440:\tlearn: 0.8283886\ttotal: 22s\tremaining: 7.93s\n",
            "441:\tlearn: 0.8283886\ttotal: 22s\tremaining: 7.88s\n",
            "442:\tlearn: 0.8283886\ttotal: 22.1s\tremaining: 7.84s\n",
            "443:\tlearn: 0.8283886\ttotal: 22.2s\tremaining: 7.81s\n",
            "444:\tlearn: 0.8283886\ttotal: 22.3s\tremaining: 7.77s\n",
            "445:\tlearn: 0.8283886\ttotal: 22.3s\tremaining: 7.72s\n",
            "446:\tlearn: 0.8283886\ttotal: 22.4s\tremaining: 7.66s\n",
            "447:\tlearn: 0.8283886\ttotal: 22.5s\tremaining: 7.62s\n",
            "448:\tlearn: 0.8283886\ttotal: 22.5s\tremaining: 7.56s\n",
            "449:\tlearn: 0.8283886\ttotal: 22.5s\tremaining: 7.51s\n",
            "450:\tlearn: 0.8283886\ttotal: 22.5s\tremaining: 7.45s\n",
            "451:\tlearn: 0.8283886\ttotal: 22.6s\tremaining: 7.39s\n",
            "452:\tlearn: 0.8283886\ttotal: 22.6s\tremaining: 7.33s\n",
            "453:\tlearn: 0.8283886\ttotal: 22.6s\tremaining: 7.28s\n",
            "454:\tlearn: 0.8283886\ttotal: 22.7s\tremaining: 7.22s\n",
            "455:\tlearn: 0.8283886\ttotal: 22.8s\tremaining: 7.19s\n",
            "456:\tlearn: 0.8283886\ttotal: 22.9s\tremaining: 7.15s\n",
            "457:\tlearn: 0.8283886\ttotal: 22.9s\tremaining: 7.11s\n",
            "458:\tlearn: 0.8283886\ttotal: 23s\tremaining: 7.05s\n",
            "459:\tlearn: 0.8283886\ttotal: 23s\tremaining: 7s\n",
            "460:\tlearn: 0.8283886\ttotal: 23.1s\tremaining: 6.96s\n",
            "461:\tlearn: 0.8283886\ttotal: 23.1s\tremaining: 6.91s\n",
            "462:\tlearn: 0.8283886\ttotal: 23.2s\tremaining: 6.85s\n",
            "463:\tlearn: 0.8283886\ttotal: 23.3s\tremaining: 6.82s\n",
            "464:\tlearn: 0.8283886\ttotal: 23.3s\tremaining: 6.76s\n",
            "465:\tlearn: 0.8283886\ttotal: 23.4s\tremaining: 6.72s\n",
            "466:\tlearn: 0.8283886\ttotal: 23.5s\tremaining: 6.68s\n",
            "467:\tlearn: 0.8283886\ttotal: 23.5s\tremaining: 6.63s\n",
            "468:\tlearn: 0.8283886\ttotal: 23.5s\tremaining: 6.57s\n",
            "469:\tlearn: 0.8283886\ttotal: 23.6s\tremaining: 6.52s\n",
            "470:\tlearn: 0.8283886\ttotal: 23.6s\tremaining: 6.46s\n",
            "471:\tlearn: 0.8283886\ttotal: 23.7s\tremaining: 6.42s\n",
            "472:\tlearn: 0.8283886\ttotal: 23.7s\tremaining: 6.36s\n",
            "473:\tlearn: 0.8283886\ttotal: 23.8s\tremaining: 6.32s\n",
            "474:\tlearn: 0.8283886\ttotal: 23.8s\tremaining: 6.27s\n",
            "475:\tlearn: 0.8283886\ttotal: 23.9s\tremaining: 6.22s\n",
            "476:\tlearn: 0.8283886\ttotal: 23.9s\tremaining: 6.17s\n",
            "477:\tlearn: 0.8283886\ttotal: 23.9s\tremaining: 6.11s\n",
            "478:\tlearn: 0.8283886\ttotal: 24s\tremaining: 6.07s\n",
            "479:\tlearn: 0.8283886\ttotal: 24.1s\tremaining: 6.02s\n",
            "480:\tlearn: 0.8283886\ttotal: 24.1s\tremaining: 5.96s\n",
            "481:\tlearn: 0.8283886\ttotal: 24.1s\tremaining: 5.91s\n",
            "482:\tlearn: 0.8283886\ttotal: 24.2s\tremaining: 5.87s\n",
            "483:\tlearn: 0.8283886\ttotal: 24.3s\tremaining: 5.82s\n",
            "484:\tlearn: 0.8283886\ttotal: 24.4s\tremaining: 5.78s\n",
            "485:\tlearn: 0.8283886\ttotal: 24.4s\tremaining: 5.73s\n",
            "486:\tlearn: 0.8283886\ttotal: 24.4s\tremaining: 5.67s\n",
            "487:\tlearn: 0.8283886\ttotal: 24.5s\tremaining: 5.62s\n",
            "488:\tlearn: 0.8283886\ttotal: 24.5s\tremaining: 5.57s\n",
            "489:\tlearn: 0.8283886\ttotal: 24.6s\tremaining: 5.53s\n",
            "490:\tlearn: 0.8283886\ttotal: 24.7s\tremaining: 5.48s\n",
            "491:\tlearn: 0.8283886\ttotal: 24.7s\tremaining: 5.42s\n",
            "492:\tlearn: 0.8283886\ttotal: 24.7s\tremaining: 5.37s\n",
            "493:\tlearn: 0.8283886\ttotal: 24.8s\tremaining: 5.31s\n",
            "494:\tlearn: 0.8283886\ttotal: 24.8s\tremaining: 5.26s\n",
            "495:\tlearn: 0.8283886\ttotal: 24.8s\tremaining: 5.21s\n",
            "496:\tlearn: 0.8283886\ttotal: 24.9s\tremaining: 5.15s\n",
            "497:\tlearn: 0.8283886\ttotal: 24.9s\tremaining: 5.11s\n",
            "498:\tlearn: 0.8283886\ttotal: 25s\tremaining: 5.05s\n",
            "499:\tlearn: 0.8283886\ttotal: 25s\tremaining: 5s\n",
            "500:\tlearn: 0.8283886\ttotal: 25s\tremaining: 4.95s\n",
            "501:\tlearn: 0.8283886\ttotal: 25.1s\tremaining: 4.91s\n",
            "502:\tlearn: 0.8283886\ttotal: 25.2s\tremaining: 4.85s\n",
            "503:\tlearn: 0.8283886\ttotal: 25.2s\tremaining: 4.8s\n",
            "504:\tlearn: 0.8283886\ttotal: 25.2s\tremaining: 4.75s\n",
            "505:\tlearn: 0.8283886\ttotal: 25.3s\tremaining: 4.69s\n",
            "506:\tlearn: 0.8283886\ttotal: 25.3s\tremaining: 4.64s\n",
            "507:\tlearn: 0.8283886\ttotal: 25.4s\tremaining: 4.59s\n",
            "508:\tlearn: 0.8283886\ttotal: 25.4s\tremaining: 4.54s\n",
            "509:\tlearn: 0.8283886\ttotal: 25.4s\tremaining: 4.49s\n",
            "510:\tlearn: 0.8283886\ttotal: 25.5s\tremaining: 4.43s\n",
            "511:\tlearn: 0.8283886\ttotal: 25.5s\tremaining: 4.38s\n",
            "512:\tlearn: 0.8283886\ttotal: 25.5s\tremaining: 4.33s\n",
            "513:\tlearn: 0.8283886\ttotal: 25.6s\tremaining: 4.28s\n",
            "514:\tlearn: 0.8283886\ttotal: 25.7s\tremaining: 4.23s\n",
            "515:\tlearn: 0.8283886\ttotal: 25.7s\tremaining: 4.18s\n",
            "516:\tlearn: 0.8283886\ttotal: 25.7s\tremaining: 4.13s\n",
            "517:\tlearn: 0.8283886\ttotal: 25.8s\tremaining: 4.08s\n",
            "518:\tlearn: 0.8283886\ttotal: 25.8s\tremaining: 4.03s\n",
            "519:\tlearn: 0.8283886\ttotal: 25.8s\tremaining: 3.97s\n",
            "520:\tlearn: 0.8283886\ttotal: 25.9s\tremaining: 3.92s\n",
            "521:\tlearn: 0.8283886\ttotal: 25.9s\tremaining: 3.87s\n",
            "522:\tlearn: 0.8283886\ttotal: 25.9s\tremaining: 3.82s\n",
            "523:\tlearn: 0.8283886\ttotal: 26s\tremaining: 3.78s\n",
            "524:\tlearn: 0.8283886\ttotal: 26.1s\tremaining: 3.72s\n",
            "525:\tlearn: 0.8283886\ttotal: 26.1s\tremaining: 3.67s\n",
            "526:\tlearn: 0.8283886\ttotal: 26.1s\tremaining: 3.62s\n",
            "527:\tlearn: 0.8283886\ttotal: 26.2s\tremaining: 3.57s\n",
            "528:\tlearn: 0.8283886\ttotal: 26.2s\tremaining: 3.52s\n",
            "529:\tlearn: 0.8283886\ttotal: 26.2s\tremaining: 3.46s\n",
            "530:\tlearn: 0.8283886\ttotal: 26.3s\tremaining: 3.41s\n",
            "531:\tlearn: 0.8283886\ttotal: 26.3s\tremaining: 3.36s\n",
            "532:\tlearn: 0.8283886\ttotal: 26.3s\tremaining: 3.31s\n",
            "533:\tlearn: 0.8283886\ttotal: 26.4s\tremaining: 3.27s\n",
            "534:\tlearn: 0.8283886\ttotal: 26.5s\tremaining: 3.21s\n",
            "535:\tlearn: 0.8283886\ttotal: 26.5s\tremaining: 3.16s\n",
            "536:\tlearn: 0.8283886\ttotal: 26.5s\tremaining: 3.11s\n",
            "537:\tlearn: 0.8283886\ttotal: 26.6s\tremaining: 3.06s\n",
            "538:\tlearn: 0.8283886\ttotal: 26.6s\tremaining: 3.01s\n",
            "539:\tlearn: 0.8283886\ttotal: 26.6s\tremaining: 2.96s\n",
            "540:\tlearn: 0.8283886\ttotal: 26.7s\tremaining: 2.91s\n",
            "541:\tlearn: 0.8283886\ttotal: 26.7s\tremaining: 2.85s\n",
            "542:\tlearn: 0.8283886\ttotal: 26.7s\tremaining: 2.8s\n",
            "543:\tlearn: 0.8283886\ttotal: 26.7s\tremaining: 2.75s\n",
            "544:\tlearn: 0.8283886\ttotal: 26.8s\tremaining: 2.71s\n",
            "545:\tlearn: 0.8283886\ttotal: 26.9s\tremaining: 2.67s\n",
            "546:\tlearn: 0.8283886\ttotal: 27s\tremaining: 2.62s\n",
            "547:\tlearn: 0.8283886\ttotal: 27s\tremaining: 2.56s\n",
            "548:\tlearn: 0.8283886\ttotal: 27.1s\tremaining: 2.51s\n",
            "549:\tlearn: 0.8283886\ttotal: 27.2s\tremaining: 2.47s\n",
            "550:\tlearn: 0.8283886\ttotal: 27.2s\tremaining: 2.42s\n",
            "551:\tlearn: 0.8283886\ttotal: 27.2s\tremaining: 2.37s\n",
            "552:\tlearn: 0.8283886\ttotal: 27.3s\tremaining: 2.32s\n",
            "553:\tlearn: 0.8283886\ttotal: 27.3s\tremaining: 2.27s\n",
            "554:\tlearn: 0.8283886\ttotal: 27.3s\tremaining: 2.21s\n",
            "555:\tlearn: 0.8283886\ttotal: 27.3s\tremaining: 2.16s\n",
            "556:\tlearn: 0.8283886\ttotal: 27.4s\tremaining: 2.11s\n",
            "557:\tlearn: 0.8283886\ttotal: 27.4s\tremaining: 2.06s\n",
            "558:\tlearn: 0.8283886\ttotal: 27.4s\tremaining: 2.01s\n",
            "559:\tlearn: 0.8283886\ttotal: 27.5s\tremaining: 1.96s\n",
            "560:\tlearn: 0.8283886\ttotal: 27.5s\tremaining: 1.91s\n",
            "561:\tlearn: 0.8283886\ttotal: 27.5s\tremaining: 1.86s\n",
            "562:\tlearn: 0.8283886\ttotal: 27.6s\tremaining: 1.81s\n",
            "563:\tlearn: 0.8283886\ttotal: 27.6s\tremaining: 1.76s\n",
            "564:\tlearn: 0.8283886\ttotal: 27.7s\tremaining: 1.72s\n",
            "565:\tlearn: 0.8283886\ttotal: 27.7s\tremaining: 1.67s\n",
            "566:\tlearn: 0.8283886\ttotal: 27.7s\tremaining: 1.61s\n",
            "567:\tlearn: 0.8283886\ttotal: 27.8s\tremaining: 1.56s\n",
            "568:\tlearn: 0.8283886\ttotal: 27.8s\tremaining: 1.51s\n",
            "569:\tlearn: 0.8283886\ttotal: 27.8s\tremaining: 1.47s\n",
            "570:\tlearn: 0.8283886\ttotal: 27.9s\tremaining: 1.42s\n",
            "571:\tlearn: 0.8283886\ttotal: 27.9s\tremaining: 1.36s\n",
            "572:\tlearn: 0.8283886\ttotal: 28s\tremaining: 1.32s\n",
            "573:\tlearn: 0.8283886\ttotal: 28s\tremaining: 1.27s\n",
            "574:\tlearn: 0.8283886\ttotal: 28.1s\tremaining: 1.22s\n",
            "575:\tlearn: 0.8283886\ttotal: 28.1s\tremaining: 1.17s\n",
            "576:\tlearn: 0.8283886\ttotal: 28.2s\tremaining: 1.12s\n",
            "577:\tlearn: 0.8283886\ttotal: 28.2s\tremaining: 1.07s\n",
            "578:\tlearn: 0.8283886\ttotal: 28.3s\tremaining: 1.02s\n",
            "579:\tlearn: 0.8283886\ttotal: 28.3s\tremaining: 977ms\n",
            "580:\tlearn: 0.8283886\ttotal: 28.4s\tremaining: 928ms\n",
            "581:\tlearn: 0.8283886\ttotal: 28.4s\tremaining: 879ms\n",
            "582:\tlearn: 0.8283886\ttotal: 28.4s\tremaining: 830ms\n",
            "583:\tlearn: 0.8283886\ttotal: 28.5s\tremaining: 781ms\n",
            "584:\tlearn: 0.8283886\ttotal: 28.6s\tremaining: 733ms\n",
            "585:\tlearn: 0.8283886\ttotal: 28.6s\tremaining: 684ms\n",
            "586:\tlearn: 0.8283886\ttotal: 28.7s\tremaining: 635ms\n",
            "587:\tlearn: 0.8283886\ttotal: 28.7s\tremaining: 585ms\n",
            "588:\tlearn: 0.8283886\ttotal: 28.7s\tremaining: 536ms\n",
            "589:\tlearn: 0.8283886\ttotal: 28.8s\tremaining: 487ms\n",
            "590:\tlearn: 0.8283886\ttotal: 28.8s\tremaining: 438ms\n",
            "591:\tlearn: 0.8283886\ttotal: 28.8s\tremaining: 390ms\n",
            "592:\tlearn: 0.8283886\ttotal: 28.9s\tremaining: 341ms\n",
            "593:\tlearn: 0.8283886\ttotal: 28.9s\tremaining: 292ms\n",
            "594:\tlearn: 0.8283886\ttotal: 28.9s\tremaining: 243ms\n",
            "595:\tlearn: 0.8283886\ttotal: 29.1s\tremaining: 195ms\n",
            "596:\tlearn: 0.8283886\ttotal: 29.1s\tremaining: 146ms\n",
            "597:\tlearn: 0.8283886\ttotal: 29.1s\tremaining: 97.5ms\n",
            "598:\tlearn: 0.8283886\ttotal: 29.2s\tremaining: 48.7ms\n",
            "599:\tlearn: 0.8283886\ttotal: 29.2s\tremaining: 0us\n"
          ]
        },
        {
          "output_type": "execute_result",
          "data": {
            "text/plain": [
              "<catboost.core.CatBoostClassifier at 0x7f1bc47cd6d0>"
            ]
          },
          "metadata": {},
          "execution_count": 113
        }
      ]
    },
    {
      "cell_type": "code",
      "metadata": {
        "colab": {
          "base_uri": "https://localhost:8080/"
        },
        "id": "Npbm7ZnT4nT2",
        "outputId": "9be7e628-5172-42df-8e05-5d64cfd5cad7"
      },
      "source": [
        "from sklearn.metrics import f1_score\n",
        "preds = [cb.predict([elem]) for elem in X_test]\n",
        "f1_score(preds, y_test)"
      ],
      "execution_count": 114,
      "outputs": [
        {
          "output_type": "execute_result",
          "data": {
            "text/plain": [
              "0.8614609571788413"
            ]
          },
          "metadata": {},
          "execution_count": 114
        }
      ]
    },
    {
      "cell_type": "markdown",
      "metadata": {
        "id": "ePyUcsZYGetu"
      },
      "source": [
        "# Bert and Catboost ensemble"
      ]
    },
    {
      "cell_type": "code",
      "metadata": {
        "id": "-5OT2e5iGiA8"
      },
      "source": [
        "def get_val_preds(bert_model, cb_model, loader, df_test):\n",
        "\n",
        "    bert_model.eval() # Evaluation mode\n",
        "    res = torch.tensor([])\n",
        "    softmax = torch.nn.Softmax()\n",
        "\n",
        "    for index, (sentence, attention_mask, label) in enumerate(loader):\n",
        "        sentence = sentence.to(device).long()\n",
        "        attention_mask = attention_mask.to(device).long()\n",
        "\n",
        "        with torch.no_grad():\n",
        "            bert_pred = bert_model(sentence, token_type_ids = None, attention_mask = attention_mask)\n",
        "            bert_pred = softmax(bert_pred[0])\n",
        "            cb_pred = cb_model.predict_proba([df_test.loc[index, 'text']])\n",
        "            pred = (bert_pred + torch.tensor(cb_pred).to(device)) / 2\n",
        "        \n",
        "        _, indices = torch.max(pred, 1)\n",
        "        res = torch.cat([res.to(device), indices.to(device)])\n",
        "\n",
        "    return res"
      ],
      "execution_count": 129,
      "outputs": []
    },
    {
      "cell_type": "code",
      "metadata": {
        "id": "__fF8hFUGitp",
        "outputId": "1450400a-5f88-47fe-edfe-81f07052ba21",
        "colab": {
          "base_uri": "https://localhost:8080/"
        }
      },
      "source": [
        "preds = get_val_preds(bert_model, cb, val_loader, df.loc[val_ids].reset_index(drop = True))\n",
        "preds"
      ],
      "execution_count": 130,
      "outputs": [
        {
          "output_type": "stream",
          "name": "stderr",
          "text": [
            "/usr/local/lib/python3.7/dist-packages/ipykernel_launcher.py:13: UserWarning: Implicit dimension choice for softmax has been deprecated. Change the call to include dim=X as an argument.\n",
            "  del sys.path[0]\n"
          ]
        },
        {
          "output_type": "execute_result",
          "data": {
            "text/plain": [
              "tensor([0., 0., 0., 0., 0., 0., 0., 0., 0., 0., 0., 0., 1., 0., 0., 0., 1., 0.,\n",
              "        0., 0., 0., 0., 0., 0., 0., 0., 0., 0., 0., 0., 0., 0., 1., 0., 0., 1.,\n",
              "        0., 0., 0., 0., 0., 0., 0., 1., 0., 0., 0., 0., 0., 0., 0., 0., 0., 0.,\n",
              "        0., 0., 0., 0., 0., 0., 0., 0., 0., 0., 0., 0., 0., 0., 0., 0., 0., 1.,\n",
              "        0., 0., 0., 0., 0., 0., 1., 0., 1., 1., 0., 1., 0., 1., 0., 0., 0., 0.,\n",
              "        0., 0., 0., 0., 1., 0., 0., 0., 0., 0., 0., 0., 0., 1., 0., 0., 0., 1.,\n",
              "        0., 0., 0., 0., 0., 0., 0., 0., 0., 0., 0., 0., 0., 0., 0., 0., 0., 0.,\n",
              "        0., 0., 0., 0., 0., 0., 0., 0., 0., 0., 0., 0., 0., 0., 0., 0., 1., 0.,\n",
              "        0., 0., 0., 1., 0., 0., 0., 0., 0., 0., 0., 0., 0., 0., 0., 0., 0., 0.,\n",
              "        0., 0., 1., 0., 0., 0., 0., 1., 0., 0., 0., 0., 0., 0., 0., 0., 0., 1.,\n",
              "        0., 0., 0., 0., 0., 0., 0., 0., 0., 0., 1., 1., 0., 0., 0., 0., 0., 0.,\n",
              "        0., 0., 0., 0., 0., 1., 1., 0., 0., 1., 0., 0., 0., 0., 0., 0., 0., 1.,\n",
              "        0., 0., 0., 0., 0., 0., 1., 0., 0., 1., 0., 1., 0., 0., 0., 0., 0., 0.,\n",
              "        0., 0., 0., 0., 0., 0., 0., 0., 0., 1., 0., 0., 0., 1., 0., 0., 0., 0.,\n",
              "        0., 0., 0., 0., 0., 0., 0., 0., 1., 0., 0., 1., 0., 0., 0., 0., 0., 0.,\n",
              "        0., 0., 0., 0., 0., 1., 0., 0., 0., 0., 0., 0., 0., 0., 1., 1., 1., 0.,\n",
              "        0., 0., 0., 0., 0., 0., 0., 0., 0., 0., 0., 0., 0., 0., 0., 0., 0., 0.,\n",
              "        0., 0., 0., 0., 0., 0., 0., 0., 0., 0., 0., 0., 0., 0., 0., 0., 0., 0.,\n",
              "        0., 0., 0., 0., 0., 0., 0., 0., 0., 1., 0., 0., 0., 0., 0., 0., 0., 0.,\n",
              "        0., 0., 0., 0., 0., 0., 0., 0., 0., 1., 0., 0., 0., 1., 0., 0., 0., 0.,\n",
              "        0., 0., 0., 0., 0., 0., 0., 0., 1., 1., 0., 0., 0., 0., 0., 0., 0., 0.,\n",
              "        0., 0., 0., 0., 0., 0., 0., 1., 0., 0., 0., 0., 0., 0., 0., 0., 0., 0.,\n",
              "        0., 0., 0., 0., 1., 0., 0., 0., 0., 0., 0., 0., 0., 0., 1., 0., 0., 0.,\n",
              "        0., 0., 0., 0., 0., 0., 0., 0., 1., 1., 1., 1., 1., 1., 1., 1., 1., 1.,\n",
              "        1., 1., 1., 1., 1., 1., 0., 1., 1., 1., 1., 1., 1., 1., 1., 1., 1., 1.,\n",
              "        1., 1., 1., 1., 1., 1., 1., 1., 1., 1., 1., 1., 0., 1., 1., 1., 1., 1.,\n",
              "        1., 1., 1., 1., 0., 1., 1., 1., 1., 1., 1., 1., 1., 1., 1., 1., 1., 1.,\n",
              "        1., 1., 1., 1., 1., 0., 1., 1., 1., 0., 1., 1., 1., 1., 1., 1., 0., 1.,\n",
              "        1., 1., 0., 1., 1., 1., 1., 1., 1., 1., 1., 1., 1., 0., 1., 1., 1., 1.,\n",
              "        1., 1., 1., 1., 1., 1., 1., 0., 1., 1., 1., 1., 1., 0., 1., 1., 1., 1.,\n",
              "        1., 0., 1., 1., 1., 1., 1., 1., 1., 1., 0., 1., 1., 1., 0., 1., 1., 1.,\n",
              "        1., 1., 1., 1., 1., 1., 1., 1., 1., 1., 1., 1., 1., 0., 1., 1., 1., 1.,\n",
              "        1., 0., 1., 0., 0., 1., 1., 1., 1., 1., 1., 1., 1., 1., 1., 1., 0., 1.,\n",
              "        1., 1., 1., 1., 1., 1., 1., 1., 1., 1., 1., 1., 1., 1., 1., 1., 1., 1.,\n",
              "        1., 1., 1., 1., 1., 0., 1., 1., 0., 1., 1., 0., 1., 1., 1., 1., 1., 1.,\n",
              "        1., 1., 1., 1., 1., 0., 1., 0., 1., 1., 1., 0., 1., 1., 1., 1., 1., 1.,\n",
              "        1., 1., 1., 1., 1., 1., 1., 1., 1., 1., 1., 1., 1., 1., 1., 1., 1., 1.,\n",
              "        1., 1., 0., 1., 1., 1., 1., 1., 1., 1., 0., 1., 0., 1., 1., 1., 1., 1.,\n",
              "        1., 1., 1., 0., 1., 1., 1., 1., 1., 1., 1., 1., 1., 1., 1., 1., 1., 0.,\n",
              "        1., 1., 1., 1., 1., 1., 1., 1., 1., 0., 1., 1., 1., 1., 0., 1., 1., 1.,\n",
              "        1., 1., 1., 1., 1., 1., 1., 1., 1., 1., 1., 1., 1., 1., 1., 1., 1., 1.,\n",
              "        1., 1., 1., 1., 0., 0., 1., 1., 1., 1., 1., 1., 0., 1., 1., 1., 0., 1.,\n",
              "        1., 1., 1., 0., 1., 1., 1., 1., 1., 1., 1., 1., 1., 1., 1., 0., 1., 0.,\n",
              "        1., 1., 1., 1., 1., 0., 0., 1., 1., 1., 1., 1., 0., 1., 1., 1., 1., 0.,\n",
              "        1., 1., 1., 1., 1., 1., 1., 1., 0., 0., 0., 0., 1., 1., 1., 1., 1., 1.,\n",
              "        1., 1., 1., 1., 1., 1., 1., 1., 1., 0., 1., 1., 0., 1., 1., 0., 1., 0.,\n",
              "        1., 1., 1., 1., 1., 1., 1., 1., 0., 1., 1., 1., 1., 1., 1., 1., 1., 1.,\n",
              "        1., 1., 1., 1., 1., 1., 1., 1., 0., 1., 1., 1., 1., 1., 1., 1., 1., 1.,\n",
              "        1., 0., 1., 1., 1.], device='cuda:0')"
            ]
          },
          "metadata": {},
          "execution_count": 130
        }
      ]
    },
    {
      "cell_type": "code",
      "metadata": {
        "id": "NQastqG-G_oj",
        "outputId": "03d3276d-ab28-43d4-f645-0366558043f3",
        "colab": {
          "base_uri": "https://localhost:8080/"
        }
      },
      "source": [
        "f1_score(preds.cpu(), y_test)"
      ],
      "execution_count": 132,
      "outputs": [
        {
          "output_type": "execute_result",
          "data": {
            "text/plain": [
              "0.8903954802259888"
            ]
          },
          "metadata": {},
          "execution_count": 132
        }
      ]
    },
    {
      "cell_type": "markdown",
      "metadata": {
        "id": "NTySIrNyqnfV"
      },
      "source": [
        "# Test set"
      ]
    },
    {
      "cell_type": "code",
      "metadata": {
        "id": "clP_lRg2lqHQ",
        "colab": {
          "base_uri": "https://localhost:8080/",
          "height": 205
        },
        "outputId": "c652dcb8-3f67-48a1-e705-8c90b64ffc59"
      },
      "source": [
        "TEST_PATH = '/content/test.csv'\n",
        "df_test = pd.read_csv(TEST_PATH)\n",
        "df_test.head()"
      ],
      "execution_count": null,
      "outputs": [
        {
          "output_type": "execute_result",
          "data": {
            "text/html": [
              "<div>\n",
              "<style scoped>\n",
              "    .dataframe tbody tr th:only-of-type {\n",
              "        vertical-align: middle;\n",
              "    }\n",
              "\n",
              "    .dataframe tbody tr th {\n",
              "        vertical-align: top;\n",
              "    }\n",
              "\n",
              "    .dataframe thead th {\n",
              "        text-align: right;\n",
              "    }\n",
              "</style>\n",
              "<table border=\"1\" class=\"dataframe\">\n",
              "  <thead>\n",
              "    <tr style=\"text-align: right;\">\n",
              "      <th></th>\n",
              "      <th>id</th>\n",
              "      <th>keyword</th>\n",
              "      <th>location</th>\n",
              "      <th>text</th>\n",
              "    </tr>\n",
              "  </thead>\n",
              "  <tbody>\n",
              "    <tr>\n",
              "      <th>0</th>\n",
              "      <td>0</td>\n",
              "      <td>NaN</td>\n",
              "      <td>NaN</td>\n",
              "      <td>Just happened a terrible car crash</td>\n",
              "    </tr>\n",
              "    <tr>\n",
              "      <th>1</th>\n",
              "      <td>2</td>\n",
              "      <td>NaN</td>\n",
              "      <td>NaN</td>\n",
              "      <td>Heard about #earthquake is different cities, s...</td>\n",
              "    </tr>\n",
              "    <tr>\n",
              "      <th>2</th>\n",
              "      <td>3</td>\n",
              "      <td>NaN</td>\n",
              "      <td>NaN</td>\n",
              "      <td>there is a forest fire at spot pond, geese are...</td>\n",
              "    </tr>\n",
              "    <tr>\n",
              "      <th>3</th>\n",
              "      <td>9</td>\n",
              "      <td>NaN</td>\n",
              "      <td>NaN</td>\n",
              "      <td>Apocalypse lighting. #Spokane #wildfires</td>\n",
              "    </tr>\n",
              "    <tr>\n",
              "      <th>4</th>\n",
              "      <td>11</td>\n",
              "      <td>NaN</td>\n",
              "      <td>NaN</td>\n",
              "      <td>Typhoon Soudelor kills 28 in China and Taiwan</td>\n",
              "    </tr>\n",
              "  </tbody>\n",
              "</table>\n",
              "</div>"
            ],
            "text/plain": [
              "   id keyword location                                               text\n",
              "0   0     NaN      NaN                 Just happened a terrible car crash\n",
              "1   2     NaN      NaN  Heard about #earthquake is different cities, s...\n",
              "2   3     NaN      NaN  there is a forest fire at spot pond, geese are...\n",
              "3   9     NaN      NaN           Apocalypse lighting. #Spokane #wildfires\n",
              "4  11     NaN      NaN      Typhoon Soudelor kills 28 in China and Taiwan"
            ]
          },
          "metadata": {
            "tags": []
          },
          "execution_count": 137
        }
      ]
    },
    {
      "cell_type": "code",
      "metadata": {
        "id": "EUjJDfVXiEIJ",
        "colab": {
          "base_uri": "https://localhost:8080/",
          "height": 205
        },
        "outputId": "eaa35b6e-16d7-4251-d42f-57cb6fb50b02"
      },
      "source": [
        "df_test['text'] = df_test['text'].apply(clean_sentence)\n",
        "df_test.head()"
      ],
      "execution_count": null,
      "outputs": [
        {
          "output_type": "execute_result",
          "data": {
            "text/html": [
              "<div>\n",
              "<style scoped>\n",
              "    .dataframe tbody tr th:only-of-type {\n",
              "        vertical-align: middle;\n",
              "    }\n",
              "\n",
              "    .dataframe tbody tr th {\n",
              "        vertical-align: top;\n",
              "    }\n",
              "\n",
              "    .dataframe thead th {\n",
              "        text-align: right;\n",
              "    }\n",
              "</style>\n",
              "<table border=\"1\" class=\"dataframe\">\n",
              "  <thead>\n",
              "    <tr style=\"text-align: right;\">\n",
              "      <th></th>\n",
              "      <th>id</th>\n",
              "      <th>keyword</th>\n",
              "      <th>location</th>\n",
              "      <th>text</th>\n",
              "    </tr>\n",
              "  </thead>\n",
              "  <tbody>\n",
              "    <tr>\n",
              "      <th>0</th>\n",
              "      <td>0</td>\n",
              "      <td>NaN</td>\n",
              "      <td>NaN</td>\n",
              "      <td>happened terrible car crash</td>\n",
              "    </tr>\n",
              "    <tr>\n",
              "      <th>1</th>\n",
              "      <td>2</td>\n",
              "      <td>NaN</td>\n",
              "      <td>NaN</td>\n",
              "      <td>heard earthquake different cities, stay safe e...</td>\n",
              "    </tr>\n",
              "    <tr>\n",
              "      <th>2</th>\n",
              "      <td>3</td>\n",
              "      <td>NaN</td>\n",
              "      <td>NaN</td>\n",
              "      <td>forest fire spot pond, geese fleeing across st...</td>\n",
              "    </tr>\n",
              "    <tr>\n",
              "      <th>3</th>\n",
              "      <td>9</td>\n",
              "      <td>NaN</td>\n",
              "      <td>NaN</td>\n",
              "      <td>apocalypse lighting. spokane wildfires</td>\n",
              "    </tr>\n",
              "    <tr>\n",
              "      <th>4</th>\n",
              "      <td>11</td>\n",
              "      <td>NaN</td>\n",
              "      <td>NaN</td>\n",
              "      <td>typhoon soudelor kills 28 china taiwan</td>\n",
              "    </tr>\n",
              "  </tbody>\n",
              "</table>\n",
              "</div>"
            ],
            "text/plain": [
              "   id keyword location                                               text\n",
              "0   0     NaN      NaN                        happened terrible car crash\n",
              "1   2     NaN      NaN  heard earthquake different cities, stay safe e...\n",
              "2   3     NaN      NaN  forest fire spot pond, geese fleeing across st...\n",
              "3   9     NaN      NaN             apocalypse lighting. spokane wildfires\n",
              "4  11     NaN      NaN             typhoon soudelor kills 28 china taiwan"
            ]
          },
          "metadata": {
            "tags": []
          },
          "execution_count": 138
        }
      ]
    },
    {
      "cell_type": "code",
      "metadata": {
        "id": "EubEfL4Nq22H"
      },
      "source": [
        "test_input_ids = torch.tensor([])\n",
        "test_attention_masks = torch.tensor([])\n",
        "\n",
        "for sent in df_test.loc[:, 'text']:\n",
        "    encoded_sent = tokenizer.encode_plus(sent, add_special_tokens = True,\n",
        "                                         max_length = Config.max_len, padding = 'max_length',\n",
        "                                         return_tensors = 'pt')\n",
        "    test_input_ids = torch.cat([test_input_ids, encoded_sent['input_ids']])\n",
        "    test_attention_masks = torch.cat([test_attention_masks, encoded_sent['attention_mask']])"
      ],
      "execution_count": null,
      "outputs": []
    },
    {
      "cell_type": "code",
      "metadata": {
        "colab": {
          "base_uri": "https://localhost:8080/"
        },
        "id": "3JYpAUbgq25X",
        "outputId": "94916633-671c-4dcd-ed79-3c79aa57b96e"
      },
      "source": [
        "test_input_ids"
      ],
      "execution_count": null,
      "outputs": [
        {
          "output_type": "execute_result",
          "data": {
            "text/plain": [
              "tensor([[  101.,  2171.,  6434.,  ...,     0.,     0.,     0.],\n",
              "        [  101.,  1767.,  8386.,  ...,     0.,     0.,     0.],\n",
              "        [  101.,  3304.,  1783.,  ...,     0.,     0.,     0.],\n",
              "        ...,\n",
              "        [  101.,  2448.,  1413.,  ...,     0.,     0.,     0.],\n",
              "        [  101.,  1143.,  1403.,  ...,     0.,     0.,     0.],\n",
              "        [  101.,  1331., 10008.,  ...,     0.,     0.,     0.]])"
            ]
          },
          "metadata": {
            "tags": []
          },
          "execution_count": 140
        }
      ]
    },
    {
      "cell_type": "code",
      "metadata": {
        "colab": {
          "base_uri": "https://localhost:8080/"
        },
        "id": "xExOZIsxrn3V",
        "outputId": "7d98f9c4-15da-4ee5-b2d7-9ef9c55907b4"
      },
      "source": [
        "test_attention_masks"
      ],
      "execution_count": null,
      "outputs": [
        {
          "output_type": "execute_result",
          "data": {
            "text/plain": [
              "tensor([[1., 1., 1.,  ..., 0., 0., 0.],\n",
              "        [1., 1., 1.,  ..., 0., 0., 0.],\n",
              "        [1., 1., 1.,  ..., 0., 0., 0.],\n",
              "        ...,\n",
              "        [1., 1., 1.,  ..., 0., 0., 0.],\n",
              "        [1., 1., 1.,  ..., 0., 0., 0.],\n",
              "        [1., 1., 1.,  ..., 0., 0., 0.]])"
            ]
          },
          "metadata": {
            "tags": []
          },
          "execution_count": 141
        }
      ]
    },
    {
      "cell_type": "code",
      "metadata": {
        "colab": {
          "base_uri": "https://localhost:8080/"
        },
        "id": "byC8Vnigq29k",
        "outputId": "80f97623-c718-41f4-a818-f8814c63a248"
      },
      "source": [
        "test_dataset = TensorDataset(test_input_ids, test_attention_masks)\n",
        "test_dataset[0]"
      ],
      "execution_count": null,
      "outputs": [
        {
          "output_type": "execute_result",
          "data": {
            "text/plain": [
              "(tensor([ 101., 2171., 6434., 1610., 5683.,  102.,    0.,    0.,    0.,    0.,\n",
              "            0.,    0.,    0.,    0.,    0.,    0.,    0.,    0.,    0.,    0.,\n",
              "            0.,    0.,    0.,    0.,    0.,    0.,    0.,    0.,    0.,    0.,\n",
              "            0.,    0.,    0.,    0.,    0.,    0.,    0.,    0.,    0.,    0.,\n",
              "            0.,    0.,    0.,    0.,    0.,    0.,    0.,    0.,    0.,    0.,\n",
              "            0.,    0.,    0.,    0.,    0.,    0.,    0.,    0.,    0.,    0.,\n",
              "            0.,    0.,    0.,    0.,    0.,    0.,    0.,    0.,    0.,    0.,\n",
              "            0.]),\n",
              " tensor([1., 1., 1., 1., 1., 1., 0., 0., 0., 0., 0., 0., 0., 0., 0., 0., 0., 0.,\n",
              "         0., 0., 0., 0., 0., 0., 0., 0., 0., 0., 0., 0., 0., 0., 0., 0., 0., 0.,\n",
              "         0., 0., 0., 0., 0., 0., 0., 0., 0., 0., 0., 0., 0., 0., 0., 0., 0., 0.,\n",
              "         0., 0., 0., 0., 0., 0., 0., 0., 0., 0., 0., 0., 0., 0., 0., 0., 0.]))"
            ]
          },
          "metadata": {
            "tags": []
          },
          "execution_count": 150
        }
      ]
    },
    {
      "cell_type": "code",
      "metadata": {
        "id": "5Sp1LOL9q2_k"
      },
      "source": [
        "test_loader = DataLoader(test_dataset, sampler = SequentialSampler(test_dataset), batch_size = 1)"
      ],
      "execution_count": null,
      "outputs": []
    },
    {
      "cell_type": "code",
      "metadata": {
        "colab": {
          "base_uri": "https://localhost:8080/"
        },
        "id": "FI4p1t3Cr1pF",
        "outputId": "90b0e01e-17de-4236-d424-50b7eceffddd"
      },
      "source": [
        "next(iter(test_loader))"
      ],
      "execution_count": null,
      "outputs": [
        {
          "output_type": "execute_result",
          "data": {
            "text/plain": [
              "[tensor([[ 101., 2171., 6434., 1610., 5683.,  102.,    0.,    0.,    0.,    0.,\n",
              "             0.,    0.,    0.,    0.,    0.,    0.,    0.,    0.,    0.,    0.,\n",
              "             0.,    0.,    0.,    0.,    0.,    0.,    0.,    0.,    0.,    0.,\n",
              "             0.,    0.,    0.,    0.,    0.,    0.,    0.,    0.,    0.,    0.,\n",
              "             0.,    0.,    0.,    0.,    0.,    0.,    0.,    0.,    0.,    0.,\n",
              "             0.,    0.,    0.,    0.,    0.,    0.,    0.,    0.,    0.,    0.,\n",
              "             0.,    0.,    0.,    0.,    0.,    0.,    0.,    0.,    0.,    0.,\n",
              "             0.]]),\n",
              " tensor([[1., 1., 1., 1., 1., 1., 0., 0., 0., 0., 0., 0., 0., 0., 0., 0., 0., 0.,\n",
              "          0., 0., 0., 0., 0., 0., 0., 0., 0., 0., 0., 0., 0., 0., 0., 0., 0., 0.,\n",
              "          0., 0., 0., 0., 0., 0., 0., 0., 0., 0., 0., 0., 0., 0., 0., 0., 0., 0.,\n",
              "          0., 0., 0., 0., 0., 0., 0., 0., 0., 0., 0., 0., 0., 0., 0., 0., 0.]])]"
            ]
          },
          "metadata": {
            "tags": []
          },
          "execution_count": 144
        }
      ]
    },
    {
      "cell_type": "markdown",
      "metadata": {
        "id": "eQtpyXhzxMZO"
      },
      "source": [
        "### Используем ансамбль Bert и CatBoost для прогнозирования на тестовом сете"
      ]
    },
    {
      "cell_type": "code",
      "metadata": {
        "id": "DjHr01Chr1rz"
      },
      "source": [
        "def get_preds(bert_model, cb_model, loader, df_test):\n",
        "\n",
        "    bert_model.eval() # Evaluation mode\n",
        "    res = torch.tensor([])\n",
        "    softmax = torch.nn.Softmax()\n",
        "\n",
        "    for index, (sentence, attention_mask) in enumerate(loader):\n",
        "        sentence = sentence.to(device).long()\n",
        "        attention_mask = attention_mask.to(device).long()\n",
        "\n",
        "        with torch.no_grad():\n",
        "            bert_pred = bert_model(sentence, token_type_ids = None, attention_mask = attention_mask)\n",
        "            bert_pred = softmax(bert_pred[0])\n",
        "            cb_pred = cb_model.predict_proba([df_test.loc[index, 'text']])\n",
        "            pred = (bert_pred + torch.tensor(cb_pred).to(device)) / 2\n",
        "        \n",
        "        _, indices = torch.max(pred, 1)\n",
        "        res = torch.cat([res.to(device), indices.to(device)])\n",
        "\n",
        "    return res"
      ],
      "execution_count": null,
      "outputs": []
    },
    {
      "cell_type": "code",
      "metadata": {
        "colab": {
          "base_uri": "https://localhost:8080/"
        },
        "id": "vbJSfWivr1uZ",
        "outputId": "22b88dd9-95a1-4f40-d965-08ae86fcae9c"
      },
      "source": [
        "preds = get_preds(bert_model, cb, test_loader, df_test)\n",
        "preds"
      ],
      "execution_count": null,
      "outputs": [
        {
          "output_type": "stream",
          "text": [
            "/usr/local/lib/python3.7/dist-packages/ipykernel_launcher.py:13: UserWarning: Implicit dimension choice for softmax has been deprecated. Change the call to include dim=X as an argument.\n",
            "  del sys.path[0]\n"
          ],
          "name": "stderr"
        },
        {
          "output_type": "execute_result",
          "data": {
            "text/plain": [
              "tensor([1., 1., 1.,  ..., 1., 1., 1.], device='cuda:0')"
            ]
          },
          "metadata": {
            "tags": []
          },
          "execution_count": 194
        }
      ]
    },
    {
      "cell_type": "code",
      "metadata": {
        "colab": {
          "base_uri": "https://localhost:8080/"
        },
        "id": "E9ggYcpnspZj",
        "outputId": "dc918db8-b600-4742-fcbd-6ccdd8695232"
      },
      "source": [
        "preds = pd.DataFrame({'id': df_test['id'], 'target': preds.cpu().int()})\n",
        "preds.shape"
      ],
      "execution_count": null,
      "outputs": [
        {
          "output_type": "execute_result",
          "data": {
            "text/plain": [
              "(3263, 2)"
            ]
          },
          "metadata": {
            "tags": []
          },
          "execution_count": 195
        }
      ]
    },
    {
      "cell_type": "code",
      "metadata": {
        "id": "RMfBLWOrt6kI"
      },
      "source": [
        "preds.to_csv('submission.csv', index = False)"
      ],
      "execution_count": null,
      "outputs": []
    },
    {
      "cell_type": "markdown",
      "metadata": {
        "id": "KfY438CyvzWT"
      },
      "source": [
        "# Save BERT"
      ]
    },
    {
      "cell_type": "code",
      "metadata": {
        "id": "YUSge7K2v0hr"
      },
      "source": [
        "# torch.save(bert_model.state_dict(), 'bert.pth')"
      ],
      "execution_count": null,
      "outputs": []
    },
    {
      "cell_type": "code",
      "metadata": {
        "id": "4ZjjtSTOv9N0"
      },
      "source": [
        "# modelB = BertForSequenceClassification.from_pretrained(\n",
        "#     'bert-base-cased',\n",
        "#     num_labels = 2,\n",
        "#     output_attentions = False,\n",
        "#     output_hidden_states = False\n",
        "# ).to(device\n",
        "#      )\n",
        "# modelB.load_state_dict(torch.load(PATH)) #, strict = False)"
      ],
      "execution_count": null,
      "outputs": []
    },
    {
      "cell_type": "markdown",
      "metadata": {
        "id": "DMHXYSjqJckP"
      },
      "source": [
        "# Save CatBoost"
      ]
    },
    {
      "cell_type": "code",
      "metadata": {
        "id": "F_HFjfymJeR1"
      },
      "source": [
        "# cb.save_model('CatBoostClassifier.cbm', format = 'cbm')"
      ],
      "execution_count": null,
      "outputs": []
    },
    {
      "cell_type": "code",
      "metadata": {
        "id": "m9HwqOCNJvDO"
      },
      "source": [
        "# model = CatBoostClassifier()\n",
        "# model.load_model('/content/CatBoostClassifier.cbm')"
      ],
      "execution_count": null,
      "outputs": []
    }
  ]
}